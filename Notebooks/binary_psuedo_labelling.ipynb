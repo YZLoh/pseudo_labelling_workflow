{
 "cells": [
  {
   "cell_type": "code",
   "execution_count": 1,
   "metadata": {},
   "outputs": [],
   "source": [
    "import pandas as pd\n",
    "import numpy as np\n",
    "from sklearn.model_selection import train_test_split\n",
    "from sklearn.feature_extraction.text import TfidfVectorizer\n",
    "from skmultilearn.adapt import MLkNN\n",
    "from sklearn.metrics import hamming_loss, accuracy_score\n",
    "import string \n",
    "\n",
    "import matplotlib.pyplot as plt\n",
    "from nltk.corpus import stopwords\n",
    "from nltk.stem import PorterStemmer\n",
    "from sklearn.feature_extraction.text import TfidfVectorizer\n",
    "from sklearn.pipeline import Pipeline\n",
    "from sklearn.metrics import classification_report, confusion_matrix, precision_score, recall_score, roc_auc_score \n",
    "from sklearn.model_selection import train_test_split\n",
    "from sklearn.feature_selection import SelectKBest, chi2\n",
    "from sklearn.ensemble import RandomForestClassifier\n",
    "\n",
    "from nltk.tokenize import word_tokenize\n",
    "\n"
   ]
  },
  {
   "cell_type": "markdown",
   "metadata": {},
   "source": [
    "1) Split the full dataset into 0.9 train, 0.1 validation. 0.1 validation is all labelled. <br>\n",
    "2) The 0.9 train is split into 0.2 labelled, 0.8 unlabelled data. <br>\n",
    "3) Create a vectorizer (I am using tf-idf) for x value of labeled train, test and unlabeled training datasets<br>\n",
    "4) Build model from labelled train and label the unlabeled training datasets. Measure for F1 scores. <br>\n",
    "5) As multilabel/multiclass will output multiple probabilities, only models that have a result higher than the threshold can be accepted. <br>\n",
    "6) Concatting train labeled data with prediction of unlabeled that have probability > 0.74 (threshold based on journal). This new pseudo-labelled data will be added to the train labelled data, and a second model (will keep to the same classifier) will be run from the new train data sets. <br>\n",
    "7)Use the second model to predict the remaining of unlabeled data, then iterate step 3 until there are no probability of predicted pseudo-labelled>0.74\n"
   ]
  },
  {
   "cell_type": "code",
   "execution_count": 2,
   "metadata": {},
   "outputs": [],
   "source": [
    "#this 0.2/0.8 split is not a hard criteria\n"
   ]
  },
  {
   "cell_type": "raw",
   "metadata": {},
   "source": [
    "path = '../Multilabel_text_classifcation/jigsaw-toxic-comment-classification-challenge/'\n",
    "df = pd.read_csv(path+'train.csv')\n",
    "df_test = pd.read_csv(path+'test.csv')\n",
    "df_submission = pd.read_csv(path+'sample_submission.csv')\n",
    "\n",
    "df_sample_without_replacement = df.sample(2000)\n",
    "df_validation_labelled = df_sample_without_replacement.iloc[:1000]\n",
    "df_train_labelled = df_sample_without_replacement.iloc[1000:]\n",
    "df_test_sample = df_test.sample(4000)"
   ]
  },
  {
   "cell_type": "raw",
   "metadata": {},
   "source": [
    "df_validation_labelled.to_csv('validation_labelled_sample.csv', index=False)\n",
    "df_train_labelled.to_csv('train_labelled_sample.csv', index=False)\n",
    "df_test_sample.to_csv('df_test_sample.csv', index=False)\n"
   ]
  },
  {
   "cell_type": "code",
   "execution_count": 3,
   "metadata": {},
   "outputs": [],
   "source": [
    "df_train_labelled = pd.read_csv('train_labelled_sample.csv')\n",
    "df_validation_labelled = pd.read_csv('validation_labelled_sample.csv')\n",
    "df_test_sample = pd.read_csv('df_test_sample.csv')"
   ]
  },
  {
   "cell_type": "code",
   "execution_count": 4,
   "metadata": {},
   "outputs": [
    {
     "data": {
      "text/html": [
       "<div>\n",
       "<style scoped>\n",
       "    .dataframe tbody tr th:only-of-type {\n",
       "        vertical-align: middle;\n",
       "    }\n",
       "\n",
       "    .dataframe tbody tr th {\n",
       "        vertical-align: top;\n",
       "    }\n",
       "\n",
       "    .dataframe thead th {\n",
       "        text-align: right;\n",
       "    }\n",
       "</style>\n",
       "<table border=\"1\" class=\"dataframe\">\n",
       "  <thead>\n",
       "    <tr style=\"text-align: right;\">\n",
       "      <th></th>\n",
       "      <th>id</th>\n",
       "      <th>comment_text</th>\n",
       "      <th>toxic</th>\n",
       "      <th>severe_toxic</th>\n",
       "      <th>obscene</th>\n",
       "      <th>threat</th>\n",
       "      <th>insult</th>\n",
       "      <th>identity_hate</th>\n",
       "    </tr>\n",
       "  </thead>\n",
       "  <tbody>\n",
       "    <tr>\n",
       "      <th>0</th>\n",
       "      <td>518d1baa4ee62c06</td>\n",
       "      <td>\"@Josh3580 of course you are going to oppose i...</td>\n",
       "      <td>0</td>\n",
       "      <td>0</td>\n",
       "      <td>0</td>\n",
       "      <td>0</td>\n",
       "      <td>0</td>\n",
       "      <td>0</td>\n",
       "    </tr>\n",
       "    <tr>\n",
       "      <th>1</th>\n",
       "      <td>4682125b685509da</td>\n",
       "      <td>Copyright Violations\\nZhangshou:  By now, you ...</td>\n",
       "      <td>0</td>\n",
       "      <td>0</td>\n",
       "      <td>0</td>\n",
       "      <td>0</td>\n",
       "      <td>0</td>\n",
       "      <td>0</td>\n",
       "    </tr>\n",
       "    <tr>\n",
       "      <th>2</th>\n",
       "      <td>573c6e9dd5614ade</td>\n",
       "      <td>Edit request from 120.63.15.134, 29 August 201...</td>\n",
       "      <td>0</td>\n",
       "      <td>0</td>\n",
       "      <td>0</td>\n",
       "      <td>0</td>\n",
       "      <td>0</td>\n",
       "      <td>0</td>\n",
       "    </tr>\n",
       "    <tr>\n",
       "      <th>3</th>\n",
       "      <td>7470c1caba22935e</td>\n",
       "      <td>\"I'm around again... Thanks for the comments M...</td>\n",
       "      <td>0</td>\n",
       "      <td>0</td>\n",
       "      <td>0</td>\n",
       "      <td>0</td>\n",
       "      <td>0</td>\n",
       "      <td>0</td>\n",
       "    </tr>\n",
       "    <tr>\n",
       "      <th>4</th>\n",
       "      <td>8a24aab08fd0abef</td>\n",
       "      <td>, as you did at Meagan Good, you may be blocke...</td>\n",
       "      <td>0</td>\n",
       "      <td>0</td>\n",
       "      <td>0</td>\n",
       "      <td>0</td>\n",
       "      <td>0</td>\n",
       "      <td>0</td>\n",
       "    </tr>\n",
       "    <tr>\n",
       "      <th>...</th>\n",
       "      <td>...</td>\n",
       "      <td>...</td>\n",
       "      <td>...</td>\n",
       "      <td>...</td>\n",
       "      <td>...</td>\n",
       "      <td>...</td>\n",
       "      <td>...</td>\n",
       "      <td>...</td>\n",
       "    </tr>\n",
       "    <tr>\n",
       "      <th>995</th>\n",
       "      <td>1add881f75c8b51b</td>\n",
       "      <td>Looks like instead of black choppers, your see...</td>\n",
       "      <td>0</td>\n",
       "      <td>0</td>\n",
       "      <td>0</td>\n",
       "      <td>0</td>\n",
       "      <td>0</td>\n",
       "      <td>0</td>\n",
       "    </tr>\n",
       "    <tr>\n",
       "      <th>996</th>\n",
       "      <td>9a3ad8998d4ce52b</td>\n",
       "      <td>\"\\n\\n BLACK DAHLIA MURDER IS NOT 'MELODIC DEAT...</td>\n",
       "      <td>1</td>\n",
       "      <td>0</td>\n",
       "      <td>1</td>\n",
       "      <td>0</td>\n",
       "      <td>1</td>\n",
       "      <td>0</td>\n",
       "    </tr>\n",
       "    <tr>\n",
       "      <th>997</th>\n",
       "      <td>f861da2322f1f9db</td>\n",
       "      <td>\"\\n\\n Rugby \\n\\nHey, I saw your contribution t...</td>\n",
       "      <td>0</td>\n",
       "      <td>0</td>\n",
       "      <td>0</td>\n",
       "      <td>0</td>\n",
       "      <td>0</td>\n",
       "      <td>0</td>\n",
       "    </tr>\n",
       "    <tr>\n",
       "      <th>998</th>\n",
       "      <td>9bfb9305ea9c4293</td>\n",
       "      <td>Not that it matters, because thanks to Moriori...</td>\n",
       "      <td>0</td>\n",
       "      <td>0</td>\n",
       "      <td>0</td>\n",
       "      <td>0</td>\n",
       "      <td>0</td>\n",
       "      <td>0</td>\n",
       "    </tr>\n",
       "    <tr>\n",
       "      <th>999</th>\n",
       "      <td>3079fa66b6a930cb</td>\n",
       "      <td>Ok they want me to put a valid reason for the ...</td>\n",
       "      <td>0</td>\n",
       "      <td>0</td>\n",
       "      <td>0</td>\n",
       "      <td>0</td>\n",
       "      <td>0</td>\n",
       "      <td>0</td>\n",
       "    </tr>\n",
       "  </tbody>\n",
       "</table>\n",
       "<p>1000 rows × 8 columns</p>\n",
       "</div>"
      ],
      "text/plain": [
       "                   id                                       comment_text  \\\n",
       "0    518d1baa4ee62c06  \"@Josh3580 of course you are going to oppose i...   \n",
       "1    4682125b685509da  Copyright Violations\\nZhangshou:  By now, you ...   \n",
       "2    573c6e9dd5614ade  Edit request from 120.63.15.134, 29 August 201...   \n",
       "3    7470c1caba22935e  \"I'm around again... Thanks for the comments M...   \n",
       "4    8a24aab08fd0abef  , as you did at Meagan Good, you may be blocke...   \n",
       "..                ...                                                ...   \n",
       "995  1add881f75c8b51b  Looks like instead of black choppers, your see...   \n",
       "996  9a3ad8998d4ce52b  \"\\n\\n BLACK DAHLIA MURDER IS NOT 'MELODIC DEAT...   \n",
       "997  f861da2322f1f9db  \"\\n\\n Rugby \\n\\nHey, I saw your contribution t...   \n",
       "998  9bfb9305ea9c4293  Not that it matters, because thanks to Moriori...   \n",
       "999  3079fa66b6a930cb  Ok they want me to put a valid reason for the ...   \n",
       "\n",
       "     toxic  severe_toxic  obscene  threat  insult  identity_hate  \n",
       "0        0             0        0       0       0              0  \n",
       "1        0             0        0       0       0              0  \n",
       "2        0             0        0       0       0              0  \n",
       "3        0             0        0       0       0              0  \n",
       "4        0             0        0       0       0              0  \n",
       "..     ...           ...      ...     ...     ...            ...  \n",
       "995      0             0        0       0       0              0  \n",
       "996      1             0        1       0       1              0  \n",
       "997      0             0        0       0       0              0  \n",
       "998      0             0        0       0       0              0  \n",
       "999      0             0        0       0       0              0  \n",
       "\n",
       "[1000 rows x 8 columns]"
      ]
     },
     "execution_count": 4,
     "metadata": {},
     "output_type": "execute_result"
    }
   ],
   "source": [
    "df_train_labelled"
   ]
  },
  {
   "cell_type": "code",
   "execution_count": 5,
   "metadata": {
    "scrolled": true
   },
   "outputs": [
    {
     "data": {
      "text/html": [
       "<div>\n",
       "<style scoped>\n",
       "    .dataframe tbody tr th:only-of-type {\n",
       "        vertical-align: middle;\n",
       "    }\n",
       "\n",
       "    .dataframe tbody tr th {\n",
       "        vertical-align: top;\n",
       "    }\n",
       "\n",
       "    .dataframe thead th {\n",
       "        text-align: right;\n",
       "    }\n",
       "</style>\n",
       "<table border=\"1\" class=\"dataframe\">\n",
       "  <thead>\n",
       "    <tr style=\"text-align: right;\">\n",
       "      <th></th>\n",
       "      <th>id</th>\n",
       "      <th>comment_text</th>\n",
       "    </tr>\n",
       "  </thead>\n",
       "  <tbody>\n",
       "    <tr>\n",
       "      <th>0</th>\n",
       "      <td>2d8fbd7002d1bbde</td>\n",
       "      <td>Thank you for experimenting with the page Drif...</td>\n",
       "    </tr>\n",
       "    <tr>\n",
       "      <th>1</th>\n",
       "      <td>5c547ec9e6d8e14d</td>\n",
       "      <td>:: You have added no useful information to Per...</td>\n",
       "    </tr>\n",
       "    <tr>\n",
       "      <th>2</th>\n",
       "      <td>1d372ff0a1da78a4</td>\n",
       "      <td>*Oppose - Romanisation requires FK, not FC.</td>\n",
       "    </tr>\n",
       "    <tr>\n",
       "      <th>3</th>\n",
       "      <td>ac5e86d8efdc7b94</td>\n",
       "      <td>:Cutter, Wisconsin-thank you-</td>\n",
       "    </tr>\n",
       "    <tr>\n",
       "      <th>4</th>\n",
       "      <td>0ae9990eed171c6a</td>\n",
       "      <td>== Armillaria root rot == \\n\\n I figured I sho...</td>\n",
       "    </tr>\n",
       "    <tr>\n",
       "      <th>...</th>\n",
       "      <td>...</td>\n",
       "      <td>...</td>\n",
       "    </tr>\n",
       "    <tr>\n",
       "      <th>3995</th>\n",
       "      <td>2080b2eb59ecfe3d</td>\n",
       "      <td>\" \\n\\n == Pheonix V. == \\n\\n You're welcome. I...</td>\n",
       "    </tr>\n",
       "    <tr>\n",
       "      <th>3996</th>\n",
       "      <td>5b4d04460d5b8773</td>\n",
       "      <td>== Insertion of penis into a pig's mouth == \\n...</td>\n",
       "    </tr>\n",
       "    <tr>\n",
       "      <th>3997</th>\n",
       "      <td>56495fd916ec5a89</td>\n",
       "      <td>\" \\n\\n == The history?! == \\n\\n Who wrote that...</td>\n",
       "    </tr>\n",
       "    <tr>\n",
       "      <th>3998</th>\n",
       "      <td>7ca8e71434a0c6b6</td>\n",
       "      <td>==Categories for discussion nomination of Cate...</td>\n",
       "    </tr>\n",
       "    <tr>\n",
       "      <th>3999</th>\n",
       "      <td>05adf3438c712e02</td>\n",
       "      <td>YOU KILLED TOWN! YOU KILLED TOWN! YOU KILLED T...</td>\n",
       "    </tr>\n",
       "  </tbody>\n",
       "</table>\n",
       "<p>4000 rows × 2 columns</p>\n",
       "</div>"
      ],
      "text/plain": [
       "                    id                                       comment_text\n",
       "0     2d8fbd7002d1bbde  Thank you for experimenting with the page Drif...\n",
       "1     5c547ec9e6d8e14d  :: You have added no useful information to Per...\n",
       "2     1d372ff0a1da78a4        *Oppose - Romanisation requires FK, not FC.\n",
       "3     ac5e86d8efdc7b94                      :Cutter, Wisconsin-thank you-\n",
       "4     0ae9990eed171c6a  == Armillaria root rot == \\n\\n I figured I sho...\n",
       "...                ...                                                ...\n",
       "3995  2080b2eb59ecfe3d  \" \\n\\n == Pheonix V. == \\n\\n You're welcome. I...\n",
       "3996  5b4d04460d5b8773  == Insertion of penis into a pig's mouth == \\n...\n",
       "3997  56495fd916ec5a89  \" \\n\\n == The history?! == \\n\\n Who wrote that...\n",
       "3998  7ca8e71434a0c6b6  ==Categories for discussion nomination of Cate...\n",
       "3999  05adf3438c712e02  YOU KILLED TOWN! YOU KILLED TOWN! YOU KILLED T...\n",
       "\n",
       "[4000 rows x 2 columns]"
      ]
     },
     "execution_count": 5,
     "metadata": {},
     "output_type": "execute_result"
    }
   ],
   "source": [
    "df_test_sample"
   ]
  },
  {
   "cell_type": "code",
   "execution_count": 6,
   "metadata": {},
   "outputs": [
    {
     "data": {
      "text/html": [
       "<div>\n",
       "<style scoped>\n",
       "    .dataframe tbody tr th:only-of-type {\n",
       "        vertical-align: middle;\n",
       "    }\n",
       "\n",
       "    .dataframe tbody tr th {\n",
       "        vertical-align: top;\n",
       "    }\n",
       "\n",
       "    .dataframe thead th {\n",
       "        text-align: right;\n",
       "    }\n",
       "</style>\n",
       "<table border=\"1\" class=\"dataframe\">\n",
       "  <thead>\n",
       "    <tr style=\"text-align: right;\">\n",
       "      <th></th>\n",
       "      <th>id</th>\n",
       "      <th>comment_text</th>\n",
       "      <th>toxic</th>\n",
       "      <th>severe_toxic</th>\n",
       "      <th>obscene</th>\n",
       "      <th>threat</th>\n",
       "      <th>insult</th>\n",
       "      <th>identity_hate</th>\n",
       "    </tr>\n",
       "  </thead>\n",
       "  <tbody>\n",
       "    <tr>\n",
       "      <th>0</th>\n",
       "      <td>1ffccb4076cbbac7</td>\n",
       "      <td>\"\\n\\n You have no idea... \\n\\n...how honored I...</td>\n",
       "      <td>0</td>\n",
       "      <td>0</td>\n",
       "      <td>0</td>\n",
       "      <td>0</td>\n",
       "      <td>0</td>\n",
       "      <td>0</td>\n",
       "    </tr>\n",
       "    <tr>\n",
       "      <th>1</th>\n",
       "      <td>a36cc13a4c351525</td>\n",
       "      <td>By definition, there is no paraphiliac flirting.</td>\n",
       "      <td>0</td>\n",
       "      <td>0</td>\n",
       "      <td>0</td>\n",
       "      <td>0</td>\n",
       "      <td>0</td>\n",
       "      <td>0</td>\n",
       "    </tr>\n",
       "    <tr>\n",
       "      <th>2</th>\n",
       "      <td>3321525528be3a31</td>\n",
       "      <td>\"\\n\\nBelow I am pasting an email from a histor...</td>\n",
       "      <td>0</td>\n",
       "      <td>0</td>\n",
       "      <td>0</td>\n",
       "      <td>0</td>\n",
       "      <td>0</td>\n",
       "      <td>0</td>\n",
       "    </tr>\n",
       "    <tr>\n",
       "      <th>3</th>\n",
       "      <td>4a98b516f7cef0e7</td>\n",
       "      <td>I note that you avoid answering the question c...</td>\n",
       "      <td>0</td>\n",
       "      <td>0</td>\n",
       "      <td>0</td>\n",
       "      <td>0</td>\n",
       "      <td>0</td>\n",
       "      <td>0</td>\n",
       "    </tr>\n",
       "    <tr>\n",
       "      <th>4</th>\n",
       "      <td>0639c3b95fa665c7</td>\n",
       "      <td>Private request for admin intervention ) \\n\\nH...</td>\n",
       "      <td>0</td>\n",
       "      <td>0</td>\n",
       "      <td>0</td>\n",
       "      <td>0</td>\n",
       "      <td>0</td>\n",
       "      <td>0</td>\n",
       "    </tr>\n",
       "    <tr>\n",
       "      <th>...</th>\n",
       "      <td>...</td>\n",
       "      <td>...</td>\n",
       "      <td>...</td>\n",
       "      <td>...</td>\n",
       "      <td>...</td>\n",
       "      <td>...</td>\n",
       "      <td>...</td>\n",
       "      <td>...</td>\n",
       "    </tr>\n",
       "    <tr>\n",
       "      <th>995</th>\n",
       "      <td>43893ddfd1beca02</td>\n",
       "      <td>I'm not one of your students. Talk to me like ...</td>\n",
       "      <td>1</td>\n",
       "      <td>0</td>\n",
       "      <td>0</td>\n",
       "      <td>0</td>\n",
       "      <td>0</td>\n",
       "      <td>0</td>\n",
       "    </tr>\n",
       "    <tr>\n",
       "      <th>996</th>\n",
       "      <td>9f803165f5c43ef9</td>\n",
       "      <td>\"\\nCall it \"\"Neighborhoods\"\" and have it as a ...</td>\n",
       "      <td>0</td>\n",
       "      <td>0</td>\n",
       "      <td>0</td>\n",
       "      <td>0</td>\n",
       "      <td>0</td>\n",
       "      <td>0</td>\n",
       "    </tr>\n",
       "    <tr>\n",
       "      <th>997</th>\n",
       "      <td>472d7fc518ef1742</td>\n",
       "      <td>\"\\nI try to never block for warring if protect...</td>\n",
       "      <td>0</td>\n",
       "      <td>0</td>\n",
       "      <td>0</td>\n",
       "      <td>0</td>\n",
       "      <td>0</td>\n",
       "      <td>0</td>\n",
       "    </tr>\n",
       "    <tr>\n",
       "      <th>998</th>\n",
       "      <td>ecb592c762bcfda3</td>\n",
       "      <td>\"\\n\\n Translating \\n\\nHi. I don't think there ...</td>\n",
       "      <td>0</td>\n",
       "      <td>0</td>\n",
       "      <td>0</td>\n",
       "      <td>0</td>\n",
       "      <td>0</td>\n",
       "      <td>0</td>\n",
       "    </tr>\n",
       "    <tr>\n",
       "      <th>999</th>\n",
       "      <td>58339bf6af32e9b4</td>\n",
       "      <td>Loads of red links \\n\\nNotability must certain...</td>\n",
       "      <td>0</td>\n",
       "      <td>0</td>\n",
       "      <td>0</td>\n",
       "      <td>0</td>\n",
       "      <td>0</td>\n",
       "      <td>0</td>\n",
       "    </tr>\n",
       "  </tbody>\n",
       "</table>\n",
       "<p>1000 rows × 8 columns</p>\n",
       "</div>"
      ],
      "text/plain": [
       "                   id                                       comment_text  \\\n",
       "0    1ffccb4076cbbac7  \"\\n\\n You have no idea... \\n\\n...how honored I...   \n",
       "1    a36cc13a4c351525   By definition, there is no paraphiliac flirting.   \n",
       "2    3321525528be3a31  \"\\n\\nBelow I am pasting an email from a histor...   \n",
       "3    4a98b516f7cef0e7  I note that you avoid answering the question c...   \n",
       "4    0639c3b95fa665c7  Private request for admin intervention ) \\n\\nH...   \n",
       "..                ...                                                ...   \n",
       "995  43893ddfd1beca02  I'm not one of your students. Talk to me like ...   \n",
       "996  9f803165f5c43ef9  \"\\nCall it \"\"Neighborhoods\"\" and have it as a ...   \n",
       "997  472d7fc518ef1742  \"\\nI try to never block for warring if protect...   \n",
       "998  ecb592c762bcfda3  \"\\n\\n Translating \\n\\nHi. I don't think there ...   \n",
       "999  58339bf6af32e9b4  Loads of red links \\n\\nNotability must certain...   \n",
       "\n",
       "     toxic  severe_toxic  obscene  threat  insult  identity_hate  \n",
       "0        0             0        0       0       0              0  \n",
       "1        0             0        0       0       0              0  \n",
       "2        0             0        0       0       0              0  \n",
       "3        0             0        0       0       0              0  \n",
       "4        0             0        0       0       0              0  \n",
       "..     ...           ...      ...     ...     ...            ...  \n",
       "995      1             0        0       0       0              0  \n",
       "996      0             0        0       0       0              0  \n",
       "997      0             0        0       0       0              0  \n",
       "998      0             0        0       0       0              0  \n",
       "999      0             0        0       0       0              0  \n",
       "\n",
       "[1000 rows x 8 columns]"
      ]
     },
     "execution_count": 6,
     "metadata": {},
     "output_type": "execute_result"
    }
   ],
   "source": [
    "df_validation_labelled"
   ]
  },
  {
   "cell_type": "markdown",
   "metadata": {},
   "source": [
    "# Binary classifier "
   ]
  },
  {
   "cell_type": "code",
   "execution_count": 7,
   "metadata": {},
   "outputs": [],
   "source": [
    "def training_model(X_train,y_train,vectorizer): \n",
    "    pipeline = Pipeline([('vect', vectorizer),\n",
    "                         ('chi',  SelectKBest(chi2, k=1200)),\n",
    "                         ('clf', RandomForestClassifier())])\n",
    "    model = pipeline.fit(X_train, y_train) #only used in the trained data\n",
    "    return model\n",
    "\n",
    "\n",
    "def cleaning_data(part_df):\n",
    "    words = stopwords.words(\"english\")\n",
    "    part_df['comment_text_cleaned']= part_df['comment_text'].apply(lambda x: word_tokenize(x))\n",
    "    part_df['comment_text_cleaned']= part_df['comment_text_cleaned'].apply(lambda x: [i for i in x if i not in words])\n",
    "    part_df['comment_text_cleaned']= part_df['comment_text_cleaned'].apply(lambda x: \" \".join([i for i in x if i not in string.punctuation]))\n",
    "    return part_df\n",
    "\n",
    "def vectorized_data(part_df):\n",
    "    vectorizer = TfidfVectorizer(min_df= 3, stop_words=\"english\", sublinear_tf=True, norm='l2', ngram_range=(1, 2))\n",
    "    #final_features = vectorizer.fit_transform(part_df['comment_text_cleaned']).toarray()\n",
    "    return vectorizer\n",
    "\n",
    "#sublinear_tfbool, default=False\n",
    "#Apply sublinear tf scaling, i.e. replace tf with 1 + log(tf).\n"
   ]
  },
  {
   "cell_type": "code",
   "execution_count": 8,
   "metadata": {},
   "outputs": [],
   "source": [
    "cleaned = cleaning_data(df_train_labelled)\n",
    "#cleaned = cleaning_data(df_train.sample(20000))\n",
    "cleaned_val = cleaning_data(df_validation_labelled)\n",
    "#cleaned_val = cleaning_data(df_val.sample(5000))\n",
    "# you have to clean also the comment_text in unlabelled data\n",
    "cleaned_unlabelled = cleaning_data(df_test_sample)"
   ]
  },
  {
   "cell_type": "code",
   "execution_count": 9,
   "metadata": {},
   "outputs": [],
   "source": [
    "vectorized = vectorized_data(cleaned)\n",
    "X_train = cleaned['comment_text_cleaned']\n",
    "y_train = cleaned['toxic']\n",
    "X_val = cleaned_val['comment_text_cleaned']\n",
    "y_val = cleaned_val['toxic']\n",
    "vectorizer = vectorized\n",
    "\n",
    "trained_model = training_model(X_train,y_train,vectorizer)"
   ]
  },
  {
   "cell_type": "code",
   "execution_count": 10,
   "metadata": {},
   "outputs": [
    {
     "data": {
      "text/plain": [
       "(2292,)"
      ]
     },
     "execution_count": 10,
     "metadata": {},
     "output_type": "execute_result"
    }
   ],
   "source": [
    "#total features\n",
    "doneby = vectorizer.fit(X_train)\n",
    "doneby.idf_.shape"
   ]
  },
  {
   "cell_type": "code",
   "execution_count": 11,
   "metadata": {},
   "outputs": [
    {
     "data": {
      "text/plain": [
       "(1.0, 0.9615384615384616, 0.9807692307692308)"
      ]
     },
     "execution_count": 11,
     "metadata": {},
     "output_type": "execute_result"
    }
   ],
   "source": [
    "y_train_pred=trained_model.predict(X_train)\n",
    "precision_score(y_train,y_train_pred),recall_score(y_train,y_train_pred), roc_auc_score(y_train,y_train_pred)"
   ]
  },
  {
   "cell_type": "code",
   "execution_count": 12,
   "metadata": {},
   "outputs": [
    {
     "data": {
      "text/plain": [
       "(0.9230769230769231, 0.3564356435643564, 0.6765493012037577)"
      ]
     },
     "execution_count": 12,
     "metadata": {},
     "output_type": "execute_result"
    }
   ],
   "source": [
    "y_val_pred=trained_model.predict(X_val)\n",
    "precision_score(y_val,y_val_pred),recall_score(y_val,y_val_pred), roc_auc_score(y_val,y_val_pred)"
   ]
  },
  {
   "cell_type": "code",
   "execution_count": null,
   "metadata": {},
   "outputs": [],
   "source": []
  },
  {
   "cell_type": "code",
   "execution_count": 13,
   "metadata": {},
   "outputs": [
    {
     "data": {
      "text/plain": [
       "array([0.07      , 0.49      , 0.27643387, ..., 0.05255694, 0.        ,\n",
       "       0.20674923])"
      ]
     },
     "execution_count": 13,
     "metadata": {},
     "output_type": "execute_result"
    }
   ],
   "source": [
    "X_unlabelled = cleaned_unlabelled['comment_text_cleaned']\n",
    "y_prob = trained_model.predict_proba(X_unlabelled)\n",
    "y_prob[:,1]"
   ]
  },
  {
   "cell_type": "code",
   "execution_count": 14,
   "metadata": {},
   "outputs": [
    {
     "data": {
      "text/plain": [
       "array([[0.93      , 0.07      ],\n",
       "       [0.51      , 0.49      ],\n",
       "       [0.72356613, 0.27643387],\n",
       "       ...,\n",
       "       [0.94744306, 0.05255694],\n",
       "       [1.        , 0.        ],\n",
       "       [0.79325077, 0.20674923]])"
      ]
     },
     "execution_count": 14,
     "metadata": {},
     "output_type": "execute_result"
    }
   ],
   "source": [
    "y_prob"
   ]
  },
  {
   "cell_type": "code",
   "execution_count": 15,
   "metadata": {},
   "outputs": [],
   "source": [
    "#cleaned_unlabelled = cleaned_unlabelled.append(dict(zip(cleaned_unlabelled.columns, y_prob)), ignore_index=True)"
   ]
  },
  {
   "cell_type": "code",
   "execution_count": 16,
   "metadata": {},
   "outputs": [],
   "source": [
    "cleaned_unlabelled['newcol'] = y_prob.tolist()"
   ]
  },
  {
   "cell_type": "code",
   "execution_count": 17,
   "metadata": {},
   "outputs": [],
   "source": [
    "##https://stackoverflow.com/questions/35491274/split-a-pandas-column-of-lists-into-multiple-columns"
   ]
  },
  {
   "cell_type": "code",
   "execution_count": 18,
   "metadata": {
    "scrolled": true
   },
   "outputs": [],
   "source": [
    "extras_unlabelled = pd.DataFrame(cleaned_unlabelled['newcol'].to_list(), columns=['team1','team2'])"
   ]
  },
  {
   "cell_type": "code",
   "execution_count": 20,
   "metadata": {},
   "outputs": [],
   "source": [
    "df_merged = pd.concat([cleaned_unlabelled, extras_unlabelled], axis=1, ignore_index=True, sort=False)"
   ]
  },
  {
   "cell_type": "code",
   "execution_count": 21,
   "metadata": {},
   "outputs": [
    {
     "data": {
      "text/html": [
       "<div>\n",
       "<style scoped>\n",
       "    .dataframe tbody tr th:only-of-type {\n",
       "        vertical-align: middle;\n",
       "    }\n",
       "\n",
       "    .dataframe tbody tr th {\n",
       "        vertical-align: top;\n",
       "    }\n",
       "\n",
       "    .dataframe thead th {\n",
       "        text-align: right;\n",
       "    }\n",
       "</style>\n",
       "<table border=\"1\" class=\"dataframe\">\n",
       "  <thead>\n",
       "    <tr style=\"text-align: right;\">\n",
       "      <th></th>\n",
       "      <th>0</th>\n",
       "      <th>1</th>\n",
       "      <th>2</th>\n",
       "      <th>3</th>\n",
       "      <th>4</th>\n",
       "      <th>5</th>\n",
       "    </tr>\n",
       "  </thead>\n",
       "  <tbody>\n",
       "    <tr>\n",
       "      <th>0</th>\n",
       "      <td>2d8fbd7002d1bbde</td>\n",
       "      <td>Thank you for experimenting with the page Drif...</td>\n",
       "      <td>Thank experimenting page Drifting motorsport W...</td>\n",
       "      <td>[0.93, 0.07]</td>\n",
       "      <td>0.930000</td>\n",
       "      <td>0.070000</td>\n",
       "    </tr>\n",
       "    <tr>\n",
       "      <th>1</th>\n",
       "      <td>5c547ec9e6d8e14d</td>\n",
       "      <td>:: You have added no useful information to Per...</td>\n",
       "      <td>You added useful information Peregrin Took 's ...</td>\n",
       "      <td>[0.51, 0.49]</td>\n",
       "      <td>0.510000</td>\n",
       "      <td>0.490000</td>\n",
       "    </tr>\n",
       "    <tr>\n",
       "      <th>2</th>\n",
       "      <td>1d372ff0a1da78a4</td>\n",
       "      <td>*Oppose - Romanisation requires FK, not FC.</td>\n",
       "      <td>Oppose Romanisation requires FK FC</td>\n",
       "      <td>[0.7235661254847213, 0.27643387451527834]</td>\n",
       "      <td>0.723566</td>\n",
       "      <td>0.276434</td>\n",
       "    </tr>\n",
       "    <tr>\n",
       "      <th>3</th>\n",
       "      <td>ac5e86d8efdc7b94</td>\n",
       "      <td>:Cutter, Wisconsin-thank you-</td>\n",
       "      <td>Cutter Wisconsin-thank you-</td>\n",
       "      <td>[0.9712925383440089, 0.028707461655991064]</td>\n",
       "      <td>0.971293</td>\n",
       "      <td>0.028707</td>\n",
       "    </tr>\n",
       "    <tr>\n",
       "      <th>4</th>\n",
       "      <td>0ae9990eed171c6a</td>\n",
       "      <td>== Armillaria root rot == \\n\\n I figured I sho...</td>\n",
       "      <td>== Armillaria root rot == I figured I point on...</td>\n",
       "      <td>[0.8454497844384268, 0.15455021556157303]</td>\n",
       "      <td>0.845450</td>\n",
       "      <td>0.154550</td>\n",
       "    </tr>\n",
       "    <tr>\n",
       "      <th>...</th>\n",
       "      <td>...</td>\n",
       "      <td>...</td>\n",
       "      <td>...</td>\n",
       "      <td>...</td>\n",
       "      <td>...</td>\n",
       "      <td>...</td>\n",
       "    </tr>\n",
       "    <tr>\n",
       "      <th>3995</th>\n",
       "      <td>2080b2eb59ecfe3d</td>\n",
       "      <td>\" \\n\\n == Pheonix V. == \\n\\n You're welcome. I...</td>\n",
       "      <td>`` == Pheonix V. == You 're welcome I also blo...</td>\n",
       "      <td>[0.937, 0.063]</td>\n",
       "      <td>0.937000</td>\n",
       "      <td>0.063000</td>\n",
       "    </tr>\n",
       "    <tr>\n",
       "      <th>3996</th>\n",
       "      <td>5b4d04460d5b8773</td>\n",
       "      <td>== Insertion of penis into a pig's mouth == \\n...</td>\n",
       "      <td>== Insertion penis pig 's mouth == According C...</td>\n",
       "      <td>[0.8048177357165947, 0.19518226428340504]</td>\n",
       "      <td>0.804818</td>\n",
       "      <td>0.195182</td>\n",
       "    </tr>\n",
       "    <tr>\n",
       "      <th>3997</th>\n",
       "      <td>56495fd916ec5a89</td>\n",
       "      <td>\" \\n\\n == The history?! == \\n\\n Who wrote that...</td>\n",
       "      <td>`` == The history == Who wrote crap something ...</td>\n",
       "      <td>[0.9474430626562979, 0.052556937343702044]</td>\n",
       "      <td>0.947443</td>\n",
       "      <td>0.052557</td>\n",
       "    </tr>\n",
       "    <tr>\n",
       "      <th>3998</th>\n",
       "      <td>7ca8e71434a0c6b6</td>\n",
       "      <td>==Categories for discussion nomination of Cate...</td>\n",
       "      <td>==Categories discussion nomination Category Ea...</td>\n",
       "      <td>[1.0, 0.0]</td>\n",
       "      <td>1.000000</td>\n",
       "      <td>0.000000</td>\n",
       "    </tr>\n",
       "    <tr>\n",
       "      <th>3999</th>\n",
       "      <td>05adf3438c712e02</td>\n",
       "      <td>YOU KILLED TOWN! YOU KILLED TOWN! YOU KILLED T...</td>\n",
       "      <td>YOU KILLED TOWN YOU KILLED TOWN YOU KILLED TOW...</td>\n",
       "      <td>[0.7932507739938081, 0.20674922600619194]</td>\n",
       "      <td>0.793251</td>\n",
       "      <td>0.206749</td>\n",
       "    </tr>\n",
       "  </tbody>\n",
       "</table>\n",
       "<p>4000 rows × 6 columns</p>\n",
       "</div>"
      ],
      "text/plain": [
       "                     0                                                  1  \\\n",
       "0     2d8fbd7002d1bbde  Thank you for experimenting with the page Drif...   \n",
       "1     5c547ec9e6d8e14d  :: You have added no useful information to Per...   \n",
       "2     1d372ff0a1da78a4        *Oppose - Romanisation requires FK, not FC.   \n",
       "3     ac5e86d8efdc7b94                      :Cutter, Wisconsin-thank you-   \n",
       "4     0ae9990eed171c6a  == Armillaria root rot == \\n\\n I figured I sho...   \n",
       "...                ...                                                ...   \n",
       "3995  2080b2eb59ecfe3d  \" \\n\\n == Pheonix V. == \\n\\n You're welcome. I...   \n",
       "3996  5b4d04460d5b8773  == Insertion of penis into a pig's mouth == \\n...   \n",
       "3997  56495fd916ec5a89  \" \\n\\n == The history?! == \\n\\n Who wrote that...   \n",
       "3998  7ca8e71434a0c6b6  ==Categories for discussion nomination of Cate...   \n",
       "3999  05adf3438c712e02  YOU KILLED TOWN! YOU KILLED TOWN! YOU KILLED T...   \n",
       "\n",
       "                                                      2  \\\n",
       "0     Thank experimenting page Drifting motorsport W...   \n",
       "1     You added useful information Peregrin Took 's ...   \n",
       "2                    Oppose Romanisation requires FK FC   \n",
       "3                           Cutter Wisconsin-thank you-   \n",
       "4     == Armillaria root rot == I figured I point on...   \n",
       "...                                                 ...   \n",
       "3995  `` == Pheonix V. == You 're welcome I also blo...   \n",
       "3996  == Insertion penis pig 's mouth == According C...   \n",
       "3997  `` == The history == Who wrote crap something ...   \n",
       "3998  ==Categories discussion nomination Category Ea...   \n",
       "3999  YOU KILLED TOWN YOU KILLED TOWN YOU KILLED TOW...   \n",
       "\n",
       "                                               3         4         5  \n",
       "0                                   [0.93, 0.07]  0.930000  0.070000  \n",
       "1                                   [0.51, 0.49]  0.510000  0.490000  \n",
       "2      [0.7235661254847213, 0.27643387451527834]  0.723566  0.276434  \n",
       "3     [0.9712925383440089, 0.028707461655991064]  0.971293  0.028707  \n",
       "4      [0.8454497844384268, 0.15455021556157303]  0.845450  0.154550  \n",
       "...                                          ...       ...       ...  \n",
       "3995                              [0.937, 0.063]  0.937000  0.063000  \n",
       "3996   [0.8048177357165947, 0.19518226428340504]  0.804818  0.195182  \n",
       "3997  [0.9474430626562979, 0.052556937343702044]  0.947443  0.052557  \n",
       "3998                                  [1.0, 0.0]  1.000000  0.000000  \n",
       "3999   [0.7932507739938081, 0.20674922600619194]  0.793251  0.206749  \n",
       "\n",
       "[4000 rows x 6 columns]"
      ]
     },
     "execution_count": 21,
     "metadata": {},
     "output_type": "execute_result"
    }
   ],
   "source": [
    "df_merged "
   ]
  },
  {
   "cell_type": "code",
   "execution_count": 22,
   "metadata": {},
   "outputs": [
    {
     "data": {
      "text/plain": [
       "array([-1, -1, -1, ..., -1, -1, -1])"
      ]
     },
     "execution_count": 22,
     "metadata": {},
     "output_type": "execute_result"
    }
   ],
   "source": [
    "np.where(y_prob[:,1] > 0.74,1, -1) #this is either 1, or not (-1)\n",
    "#https://stackoverflow.com/questions/28430904/set-numpy-array-elements-to-zero-if-they-are-above-a-specific-threshold"
   ]
  },
  {
   "cell_type": "code",
   "execution_count": 23,
   "metadata": {},
   "outputs": [
    {
     "data": {
      "text/plain": [
       "array([ 0, -1, -1, ...,  0,  0,  0])"
      ]
     },
     "execution_count": 23,
     "metadata": {},
     "output_type": "execute_result"
    }
   ],
   "source": [
    "np.where(y_prob[:,0] > 0.74,0,-1)"
   ]
  },
  {
   "cell_type": "code",
   "execution_count": 24,
   "metadata": {},
   "outputs": [],
   "source": [
    "#assign column to unlabelled (propagate_toxic)\n",
    "cleaned_unlabelled['propagate_toxic']=np.where(y_prob[:,1] > 0.85,1, -1)"
   ]
  },
  {
   "cell_type": "code",
   "execution_count": 25,
   "metadata": {},
   "outputs": [],
   "source": [
    "cleaned_unlabelled['propagate_not_toxic']=np.where(y_prob[:,0] > 0.85,0,-1)"
   ]
  },
  {
   "cell_type": "code",
   "execution_count": 26,
   "metadata": {
    "scrolled": true
   },
   "outputs": [
    {
     "data": {
      "text/html": [
       "<div>\n",
       "<style scoped>\n",
       "    .dataframe tbody tr th:only-of-type {\n",
       "        vertical-align: middle;\n",
       "    }\n",
       "\n",
       "    .dataframe tbody tr th {\n",
       "        vertical-align: top;\n",
       "    }\n",
       "\n",
       "    .dataframe thead th {\n",
       "        text-align: right;\n",
       "    }\n",
       "</style>\n",
       "<table border=\"1\" class=\"dataframe\">\n",
       "  <thead>\n",
       "    <tr style=\"text-align: right;\">\n",
       "      <th></th>\n",
       "      <th>id</th>\n",
       "      <th>comment_text</th>\n",
       "      <th>comment_text_cleaned</th>\n",
       "      <th>newcol</th>\n",
       "      <th>propagate_toxic</th>\n",
       "      <th>propagate_not_toxic</th>\n",
       "    </tr>\n",
       "  </thead>\n",
       "  <tbody>\n",
       "    <tr>\n",
       "      <th>0</th>\n",
       "      <td>2d8fbd7002d1bbde</td>\n",
       "      <td>Thank you for experimenting with the page Drif...</td>\n",
       "      <td>Thank experimenting page Drifting motorsport W...</td>\n",
       "      <td>[0.93, 0.07]</td>\n",
       "      <td>-1</td>\n",
       "      <td>0</td>\n",
       "    </tr>\n",
       "    <tr>\n",
       "      <th>1</th>\n",
       "      <td>5c547ec9e6d8e14d</td>\n",
       "      <td>:: You have added no useful information to Per...</td>\n",
       "      <td>You added useful information Peregrin Took 's ...</td>\n",
       "      <td>[0.51, 0.49]</td>\n",
       "      <td>-1</td>\n",
       "      <td>-1</td>\n",
       "    </tr>\n",
       "    <tr>\n",
       "      <th>2</th>\n",
       "      <td>1d372ff0a1da78a4</td>\n",
       "      <td>*Oppose - Romanisation requires FK, not FC.</td>\n",
       "      <td>Oppose Romanisation requires FK FC</td>\n",
       "      <td>[0.7235661254847213, 0.27643387451527834]</td>\n",
       "      <td>-1</td>\n",
       "      <td>-1</td>\n",
       "    </tr>\n",
       "    <tr>\n",
       "      <th>3</th>\n",
       "      <td>ac5e86d8efdc7b94</td>\n",
       "      <td>:Cutter, Wisconsin-thank you-</td>\n",
       "      <td>Cutter Wisconsin-thank you-</td>\n",
       "      <td>[0.9712925383440089, 0.028707461655991064]</td>\n",
       "      <td>-1</td>\n",
       "      <td>0</td>\n",
       "    </tr>\n",
       "    <tr>\n",
       "      <th>4</th>\n",
       "      <td>0ae9990eed171c6a</td>\n",
       "      <td>== Armillaria root rot == \\n\\n I figured I sho...</td>\n",
       "      <td>== Armillaria root rot == I figured I point on...</td>\n",
       "      <td>[0.8454497844384268, 0.15455021556157303]</td>\n",
       "      <td>-1</td>\n",
       "      <td>-1</td>\n",
       "    </tr>\n",
       "    <tr>\n",
       "      <th>...</th>\n",
       "      <td>...</td>\n",
       "      <td>...</td>\n",
       "      <td>...</td>\n",
       "      <td>...</td>\n",
       "      <td>...</td>\n",
       "      <td>...</td>\n",
       "    </tr>\n",
       "    <tr>\n",
       "      <th>3995</th>\n",
       "      <td>2080b2eb59ecfe3d</td>\n",
       "      <td>\" \\n\\n == Pheonix V. == \\n\\n You're welcome. I...</td>\n",
       "      <td>`` == Pheonix V. == You 're welcome I also blo...</td>\n",
       "      <td>[0.937, 0.063]</td>\n",
       "      <td>-1</td>\n",
       "      <td>0</td>\n",
       "    </tr>\n",
       "    <tr>\n",
       "      <th>3996</th>\n",
       "      <td>5b4d04460d5b8773</td>\n",
       "      <td>== Insertion of penis into a pig's mouth == \\n...</td>\n",
       "      <td>== Insertion penis pig 's mouth == According C...</td>\n",
       "      <td>[0.8048177357165947, 0.19518226428340504]</td>\n",
       "      <td>-1</td>\n",
       "      <td>-1</td>\n",
       "    </tr>\n",
       "    <tr>\n",
       "      <th>3997</th>\n",
       "      <td>56495fd916ec5a89</td>\n",
       "      <td>\" \\n\\n == The history?! == \\n\\n Who wrote that...</td>\n",
       "      <td>`` == The history == Who wrote crap something ...</td>\n",
       "      <td>[0.9474430626562979, 0.052556937343702044]</td>\n",
       "      <td>-1</td>\n",
       "      <td>0</td>\n",
       "    </tr>\n",
       "    <tr>\n",
       "      <th>3998</th>\n",
       "      <td>7ca8e71434a0c6b6</td>\n",
       "      <td>==Categories for discussion nomination of Cate...</td>\n",
       "      <td>==Categories discussion nomination Category Ea...</td>\n",
       "      <td>[1.0, 0.0]</td>\n",
       "      <td>-1</td>\n",
       "      <td>0</td>\n",
       "    </tr>\n",
       "    <tr>\n",
       "      <th>3999</th>\n",
       "      <td>05adf3438c712e02</td>\n",
       "      <td>YOU KILLED TOWN! YOU KILLED TOWN! YOU KILLED T...</td>\n",
       "      <td>YOU KILLED TOWN YOU KILLED TOWN YOU KILLED TOW...</td>\n",
       "      <td>[0.7932507739938081, 0.20674922600619194]</td>\n",
       "      <td>-1</td>\n",
       "      <td>-1</td>\n",
       "    </tr>\n",
       "  </tbody>\n",
       "</table>\n",
       "<p>4000 rows × 6 columns</p>\n",
       "</div>"
      ],
      "text/plain": [
       "                    id                                       comment_text  \\\n",
       "0     2d8fbd7002d1bbde  Thank you for experimenting with the page Drif...   \n",
       "1     5c547ec9e6d8e14d  :: You have added no useful information to Per...   \n",
       "2     1d372ff0a1da78a4        *Oppose - Romanisation requires FK, not FC.   \n",
       "3     ac5e86d8efdc7b94                      :Cutter, Wisconsin-thank you-   \n",
       "4     0ae9990eed171c6a  == Armillaria root rot == \\n\\n I figured I sho...   \n",
       "...                ...                                                ...   \n",
       "3995  2080b2eb59ecfe3d  \" \\n\\n == Pheonix V. == \\n\\n You're welcome. I...   \n",
       "3996  5b4d04460d5b8773  == Insertion of penis into a pig's mouth == \\n...   \n",
       "3997  56495fd916ec5a89  \" \\n\\n == The history?! == \\n\\n Who wrote that...   \n",
       "3998  7ca8e71434a0c6b6  ==Categories for discussion nomination of Cate...   \n",
       "3999  05adf3438c712e02  YOU KILLED TOWN! YOU KILLED TOWN! YOU KILLED T...   \n",
       "\n",
       "                                   comment_text_cleaned  \\\n",
       "0     Thank experimenting page Drifting motorsport W...   \n",
       "1     You added useful information Peregrin Took 's ...   \n",
       "2                    Oppose Romanisation requires FK FC   \n",
       "3                           Cutter Wisconsin-thank you-   \n",
       "4     == Armillaria root rot == I figured I point on...   \n",
       "...                                                 ...   \n",
       "3995  `` == Pheonix V. == You 're welcome I also blo...   \n",
       "3996  == Insertion penis pig 's mouth == According C...   \n",
       "3997  `` == The history == Who wrote crap something ...   \n",
       "3998  ==Categories discussion nomination Category Ea...   \n",
       "3999  YOU KILLED TOWN YOU KILLED TOWN YOU KILLED TOW...   \n",
       "\n",
       "                                          newcol  propagate_toxic  \\\n",
       "0                                   [0.93, 0.07]               -1   \n",
       "1                                   [0.51, 0.49]               -1   \n",
       "2      [0.7235661254847213, 0.27643387451527834]               -1   \n",
       "3     [0.9712925383440089, 0.028707461655991064]               -1   \n",
       "4      [0.8454497844384268, 0.15455021556157303]               -1   \n",
       "...                                          ...              ...   \n",
       "3995                              [0.937, 0.063]               -1   \n",
       "3996   [0.8048177357165947, 0.19518226428340504]               -1   \n",
       "3997  [0.9474430626562979, 0.052556937343702044]               -1   \n",
       "3998                                  [1.0, 0.0]               -1   \n",
       "3999   [0.7932507739938081, 0.20674922600619194]               -1   \n",
       "\n",
       "      propagate_not_toxic  \n",
       "0                       0  \n",
       "1                      -1  \n",
       "2                      -1  \n",
       "3                       0  \n",
       "4                      -1  \n",
       "...                   ...  \n",
       "3995                    0  \n",
       "3996                   -1  \n",
       "3997                    0  \n",
       "3998                    0  \n",
       "3999                   -1  \n",
       "\n",
       "[4000 rows x 6 columns]"
      ]
     },
     "execution_count": 26,
     "metadata": {},
     "output_type": "execute_result"
    }
   ],
   "source": [
    "cleaned_unlabelled"
   ]
  },
  {
   "cell_type": "code",
   "execution_count": 27,
   "metadata": {},
   "outputs": [
    {
     "data": {
      "text/plain": [
       "(66, 7)"
      ]
     },
     "execution_count": 27,
     "metadata": {},
     "output_type": "execute_result"
    }
   ],
   "source": [
    "cleaned_unlabelled['new_label'] = cleaned_unlabelled.apply(lambda x: np.max([x['propagate_toxic'], x['propagate_not_toxic']]), axis = 1)\n",
    "cleaned_unlabelled[cleaned_unlabelled['new_label'] == 1].shape\n",
    "#0 means not toxic for certain (>0.74)\n",
    "#1 means toxic for certain (>0.74)\n",
    "#-1 means cannot tell (<0.74)\n",
    "#114 is fine because its binary"
   ]
  },
  {
   "cell_type": "code",
   "execution_count": 28,
   "metadata": {},
   "outputs": [],
   "source": [
    "psuedo_label_df = cleaned_unlabelled[cleaned_unlabelled['new_label'] > -1]\n",
    "remaining_unlabelled_df = cleaned_unlabelled[cleaned_unlabelled['new_label'] == -1]"
   ]
  },
  {
   "cell_type": "code",
   "execution_count": 29,
   "metadata": {},
   "outputs": [
    {
     "name": "stderr",
     "output_type": "stream",
     "text": [
      "C:\\Users\\User\\anaconda3\\lib\\site-packages\\pandas\\core\\frame.py:5039: SettingWithCopyWarning: \n",
      "A value is trying to be set on a copy of a slice from a DataFrame\n",
      "\n",
      "See the caveats in the documentation: https://pandas.pydata.org/pandas-docs/stable/user_guide/indexing.html#returning-a-view-versus-a-copy\n",
      "  return super().rename(\n"
     ]
    },
    {
     "data": {
      "text/html": [
       "<div>\n",
       "<style scoped>\n",
       "    .dataframe tbody tr th:only-of-type {\n",
       "        vertical-align: middle;\n",
       "    }\n",
       "\n",
       "    .dataframe tbody tr th {\n",
       "        vertical-align: top;\n",
       "    }\n",
       "\n",
       "    .dataframe thead th {\n",
       "        text-align: right;\n",
       "    }\n",
       "</style>\n",
       "<table border=\"1\" class=\"dataframe\">\n",
       "  <thead>\n",
       "    <tr style=\"text-align: right;\">\n",
       "      <th></th>\n",
       "      <th>id</th>\n",
       "      <th>comment_text</th>\n",
       "      <th>comment_text_cleaned</th>\n",
       "      <th>newcol</th>\n",
       "      <th>propagate_toxic</th>\n",
       "      <th>propagate_not_toxic</th>\n",
       "      <th>toxic</th>\n",
       "    </tr>\n",
       "  </thead>\n",
       "  <tbody>\n",
       "    <tr>\n",
       "      <th>0</th>\n",
       "      <td>2d8fbd7002d1bbde</td>\n",
       "      <td>Thank you for experimenting with the page Drif...</td>\n",
       "      <td>Thank experimenting page Drifting motorsport W...</td>\n",
       "      <td>[0.93, 0.07]</td>\n",
       "      <td>-1</td>\n",
       "      <td>0</td>\n",
       "      <td>0</td>\n",
       "    </tr>\n",
       "    <tr>\n",
       "      <th>3</th>\n",
       "      <td>ac5e86d8efdc7b94</td>\n",
       "      <td>:Cutter, Wisconsin-thank you-</td>\n",
       "      <td>Cutter Wisconsin-thank you-</td>\n",
       "      <td>[0.9712925383440089, 0.028707461655991064]</td>\n",
       "      <td>-1</td>\n",
       "      <td>0</td>\n",
       "      <td>0</td>\n",
       "    </tr>\n",
       "    <tr>\n",
       "      <th>6</th>\n",
       "      <td>dd71652756a30a35</td>\n",
       "      <td>, 10 July 2015 (UTC) \\n\\n ::Cool.  Thanks for ...</td>\n",
       "      <td>10 July 2015 UTC :Cool Thanks input 10:14</td>\n",
       "      <td>[0.9947777777777778, 0.005222222222222222]</td>\n",
       "      <td>-1</td>\n",
       "      <td>0</td>\n",
       "      <td>0</td>\n",
       "    </tr>\n",
       "    <tr>\n",
       "      <th>8</th>\n",
       "      <td>d8ca6c21cebb8793</td>\n",
       "      <td>Please refrain from adding nonsense to Wikiped...</td>\n",
       "      <td>Please refrain adding nonsense Wikipedia Ameri...</td>\n",
       "      <td>[0.9930887825624666, 0.0069112174375332265]</td>\n",
       "      <td>-1</td>\n",
       "      <td>0</td>\n",
       "      <td>0</td>\n",
       "    </tr>\n",
       "    <tr>\n",
       "      <th>10</th>\n",
       "      <td>6d722955591d95d8</td>\n",
       "      <td>\"==Doctored Photo on Front Page== \\n Do you th...</td>\n",
       "      <td>`` ==Doctored Photo Front Page== Do think time...</td>\n",
       "      <td>[0.9, 0.1]</td>\n",
       "      <td>-1</td>\n",
       "      <td>0</td>\n",
       "      <td>0</td>\n",
       "    </tr>\n",
       "    <tr>\n",
       "      <th>...</th>\n",
       "      <td>...</td>\n",
       "      <td>...</td>\n",
       "      <td>...</td>\n",
       "      <td>...</td>\n",
       "      <td>...</td>\n",
       "      <td>...</td>\n",
       "      <td>...</td>\n",
       "    </tr>\n",
       "    <tr>\n",
       "      <th>3988</th>\n",
       "      <td>268d1a0738ed7e35</td>\n",
       "      <td>Article needs an update</td>\n",
       "      <td>Article needs update</td>\n",
       "      <td>[0.9913137254901961, 0.008686274509803922]</td>\n",
       "      <td>-1</td>\n",
       "      <td>0</td>\n",
       "      <td>0</td>\n",
       "    </tr>\n",
       "    <tr>\n",
       "      <th>3990</th>\n",
       "      <td>587633a5ffdb19fa</td>\n",
       "      <td>\" \\n\\n The Southern Kuriles are officially cla...</td>\n",
       "      <td>`` The Southern Kuriles officially claimed I r...</td>\n",
       "      <td>[0.9636666666666668, 0.036333333333333336]</td>\n",
       "      <td>-1</td>\n",
       "      <td>0</td>\n",
       "      <td>0</td>\n",
       "    </tr>\n",
       "    <tr>\n",
       "      <th>3995</th>\n",
       "      <td>2080b2eb59ecfe3d</td>\n",
       "      <td>\" \\n\\n == Pheonix V. == \\n\\n You're welcome. I...</td>\n",
       "      <td>`` == Pheonix V. == You 're welcome I also blo...</td>\n",
       "      <td>[0.937, 0.063]</td>\n",
       "      <td>-1</td>\n",
       "      <td>0</td>\n",
       "      <td>0</td>\n",
       "    </tr>\n",
       "    <tr>\n",
       "      <th>3997</th>\n",
       "      <td>56495fd916ec5a89</td>\n",
       "      <td>\" \\n\\n == The history?! == \\n\\n Who wrote that...</td>\n",
       "      <td>`` == The history == Who wrote crap something ...</td>\n",
       "      <td>[0.9474430626562979, 0.052556937343702044]</td>\n",
       "      <td>-1</td>\n",
       "      <td>0</td>\n",
       "      <td>0</td>\n",
       "    </tr>\n",
       "    <tr>\n",
       "      <th>3998</th>\n",
       "      <td>7ca8e71434a0c6b6</td>\n",
       "      <td>==Categories for discussion nomination of Cate...</td>\n",
       "      <td>==Categories discussion nomination Category Ea...</td>\n",
       "      <td>[1.0, 0.0]</td>\n",
       "      <td>-1</td>\n",
       "      <td>0</td>\n",
       "      <td>0</td>\n",
       "    </tr>\n",
       "  </tbody>\n",
       "</table>\n",
       "<p>2333 rows × 7 columns</p>\n",
       "</div>"
      ],
      "text/plain": [
       "                    id                                       comment_text  \\\n",
       "0     2d8fbd7002d1bbde  Thank you for experimenting with the page Drif...   \n",
       "3     ac5e86d8efdc7b94                      :Cutter, Wisconsin-thank you-   \n",
       "6     dd71652756a30a35  , 10 July 2015 (UTC) \\n\\n ::Cool.  Thanks for ...   \n",
       "8     d8ca6c21cebb8793  Please refrain from adding nonsense to Wikiped...   \n",
       "10    6d722955591d95d8  \"==Doctored Photo on Front Page== \\n Do you th...   \n",
       "...                ...                                                ...   \n",
       "3988  268d1a0738ed7e35                            Article needs an update   \n",
       "3990  587633a5ffdb19fa  \" \\n\\n The Southern Kuriles are officially cla...   \n",
       "3995  2080b2eb59ecfe3d  \" \\n\\n == Pheonix V. == \\n\\n You're welcome. I...   \n",
       "3997  56495fd916ec5a89  \" \\n\\n == The history?! == \\n\\n Who wrote that...   \n",
       "3998  7ca8e71434a0c6b6  ==Categories for discussion nomination of Cate...   \n",
       "\n",
       "                                   comment_text_cleaned  \\\n",
       "0     Thank experimenting page Drifting motorsport W...   \n",
       "3                           Cutter Wisconsin-thank you-   \n",
       "6             10 July 2015 UTC :Cool Thanks input 10:14   \n",
       "8     Please refrain adding nonsense Wikipedia Ameri...   \n",
       "10    `` ==Doctored Photo Front Page== Do think time...   \n",
       "...                                                 ...   \n",
       "3988                               Article needs update   \n",
       "3990  `` The Southern Kuriles officially claimed I r...   \n",
       "3995  `` == Pheonix V. == You 're welcome I also blo...   \n",
       "3997  `` == The history == Who wrote crap something ...   \n",
       "3998  ==Categories discussion nomination Category Ea...   \n",
       "\n",
       "                                           newcol  propagate_toxic  \\\n",
       "0                                    [0.93, 0.07]               -1   \n",
       "3      [0.9712925383440089, 0.028707461655991064]               -1   \n",
       "6      [0.9947777777777778, 0.005222222222222222]               -1   \n",
       "8     [0.9930887825624666, 0.0069112174375332265]               -1   \n",
       "10                                     [0.9, 0.1]               -1   \n",
       "...                                           ...              ...   \n",
       "3988   [0.9913137254901961, 0.008686274509803922]               -1   \n",
       "3990   [0.9636666666666668, 0.036333333333333336]               -1   \n",
       "3995                               [0.937, 0.063]               -1   \n",
       "3997   [0.9474430626562979, 0.052556937343702044]               -1   \n",
       "3998                                   [1.0, 0.0]               -1   \n",
       "\n",
       "      propagate_not_toxic  toxic  \n",
       "0                       0      0  \n",
       "3                       0      0  \n",
       "6                       0      0  \n",
       "8                       0      0  \n",
       "10                      0      0  \n",
       "...                   ...    ...  \n",
       "3988                    0      0  \n",
       "3990                    0      0  \n",
       "3995                    0      0  \n",
       "3997                    0      0  \n",
       "3998                    0      0  \n",
       "\n",
       "[2333 rows x 7 columns]"
      ]
     },
     "execution_count": 29,
     "metadata": {},
     "output_type": "execute_result"
    }
   ],
   "source": [
    "psuedo_label_df.rename(columns={'new_label':'toxic'}, inplace=True)\n",
    "psuedo_label_df"
   ]
  },
  {
   "cell_type": "code",
   "execution_count": 30,
   "metadata": {
    "scrolled": true
   },
   "outputs": [
    {
     "data": {
      "text/plain": [
       "(66, 7)"
      ]
     },
     "execution_count": 30,
     "metadata": {},
     "output_type": "execute_result"
    }
   ],
   "source": [
    "cleaned_unlabelled['new_label'] = cleaned_unlabelled.apply(lambda x: np.max([x['propagate_toxic'], x['propagate_not_toxic']]), axis = 1)\n",
    "cleaned_unlabelled[cleaned_unlabelled['new_label'] == 1].shape"
   ]
  },
  {
   "cell_type": "code",
   "execution_count": null,
   "metadata": {},
   "outputs": [],
   "source": []
  },
  {
   "cell_type": "code",
   "execution_count": 31,
   "metadata": {},
   "outputs": [],
   "source": [
    "#run this again \n",
    "vectorized = vectorized_data(cleaned)\n",
    "X_train = cleaned['comment_text_cleaned']\n",
    "y_train = cleaned['toxic']\n",
    "vectorizer = vectorized\n",
    "trained_model = training_model(X_train,y_train,vectorizer)"
   ]
  },
  {
   "cell_type": "code",
   "execution_count": 32,
   "metadata": {},
   "outputs": [
    {
     "data": {
      "text/plain": [
       "(1.0, 0.9615384615384616, 0.9807692307692308)"
      ]
     },
     "execution_count": 32,
     "metadata": {},
     "output_type": "execute_result"
    }
   ],
   "source": [
    "y_train_pred=trained_model.predict(X_train)\n",
    "precision_score(y_train,y_train_pred),recall_score(y_train,y_train_pred), roc_auc_score(y_train,y_train_pred)"
   ]
  },
  {
   "cell_type": "code",
   "execution_count": 33,
   "metadata": {},
   "outputs": [
    {
     "data": {
      "text/plain": [
       "(0.9473684210526315, 0.3564356435643564, 0.6771054747298978)"
      ]
     },
     "execution_count": 33,
     "metadata": {},
     "output_type": "execute_result"
    }
   ],
   "source": [
    "y_val_pred=trained_model.predict(X_val)\n",
    "precision_score(y_val,y_val_pred),recall_score(y_val,y_val_pred), roc_auc_score(y_val,y_val_pred)"
   ]
  },
  {
   "cell_type": "code",
   "execution_count": 34,
   "metadata": {},
   "outputs": [],
   "source": [
    "# by increasing dataset, you give ML model more ability to generalise\n",
    "#(0.8947368421052632, 0.38202247191011235, 0.6888158462733877)"
   ]
  },
  {
   "cell_type": "markdown",
   "metadata": {},
   "source": [
    "## Refactoring code"
   ]
  },
  {
   "cell_type": "code",
   "execution_count": 35,
   "metadata": {},
   "outputs": [],
   "source": [
    "#repeats process until no new labels can be added\n",
    "def define_x_y(cleaned):\n",
    "    X_train = cleaned['comment_text_cleaned']\n",
    "    y_train = cleaned['toxic']\n",
    "    return (X_train, y_train)\n",
    "\n",
    "def training_process(cleaned):\n",
    "    vectorized = vectorized_data(cleaned)\n",
    "    vectorizer = vectorized\n",
    "    X_train, y_train = define_x_y(cleaned)\n",
    "    return training_model(X_train,y_train,vectorizer)\n",
    "\n",
    "def train_val_scores(x, y_val, trained_model): \n",
    "    y_val_pred=trained_model.predict(x) #transform depending on which type of function you are talking about\n",
    "    return precision_score(y_val,y_val_pred),recall_score(y_val,y_val_pred), roc_auc_score(y_val,y_val_pred)\n",
    "\n",
    "def pseudo_label_creation(trained_model, cleaned_unlabelled):\n",
    "    X_unlabelled = cleaned_unlabelled['comment_text_cleaned']\n",
    "    y_prob = trained_model.predict_proba(X_unlabelled)\n",
    "    cleaned_unlabelled['propagate_toxic']=np.where(y_prob[:,1] > 0.85,1, -1)\n",
    "    cleaned_unlabelled['propagate_not_toxic']=np.where(y_prob[:,0] > 0.85,0,-1)\n",
    "    cleaned_unlabelled['new_label'] = cleaned_unlabelled.apply(lambda x: np.max([x['propagate_toxic'], x['propagate_not_toxic']]), axis = 1)\n",
    "    pseudo_label_df = cleaned_unlabelled[cleaned_unlabelled['new_label'] > -1]\n",
    "    remaining_unlabelled_df = cleaned_unlabelled[cleaned_unlabelled['new_label'] == -1]\n",
    "    pseudo_label_df.rename(columns={'new_label':'toxic'}, inplace=True)\n",
    "    return pseudo_label_df, remaining_unlabelled_df"
   ]
  },
  {
   "cell_type": "code",
   "execution_count": 36,
   "metadata": {
    "scrolled": true
   },
   "outputs": [
    {
     "name": "stdout",
     "output_type": "stream",
     "text": [
      "1000\n",
      "2351\n",
      "3351\n",
      "1034\n",
      "4385\n",
      "92\n",
      "4477\n",
      "42\n"
     ]
    }
   ],
   "source": [
    "import warnings\n",
    "warnings.filterwarnings(\"ignore\")\n",
    "\n",
    "size_new_labels = 51\n",
    "\n",
    "cleaned = cleaning_data(df_train_labelled)\n",
    "cleaned_val = cleaning_data(df_validation_labelled)\n",
    "# you have to clean also the comment_text in unlabelled data\n",
    "cleaned_unlabelled = cleaning_data(df_test_sample)\n",
    "\n",
    "val_precision = []\n",
    "val_recall = []\n",
    "val_roc_auc_score = []\n",
    "min_new_labels = 50\n",
    "size_training = []\n",
    "X_val, y_val = define_x_y(cleaned_val)\n",
    "\n",
    "while size_new_labels > min_new_labels:\n",
    "    print(len(cleaned))\n",
    "    trained_model = training_process(cleaned)\n",
    "    X_train,y_train = define_x_y(cleaned) \n",
    "    #print('train\\nprecision, recall, roc_auc_score ')\n",
    "    p,r,roc = train_val_scores(X_train,y_train, trained_model)\n",
    "    #print('val\\nprecision, recall, roc_auc_score ')\n",
    "    p,r,roc = train_val_scores(X_val, y_val, trained_model)\n",
    "    val_precision.append(p)\n",
    "    val_recall.append(r)\n",
    "    val_roc_auc_score.append(roc)  \n",
    "    #the dataframes on the left are outputs of the function pseudo_label_creation \n",
    "    pseudo_label_df, cleaned_unlabelled = pseudo_label_creation(trained_model,cleaned_unlabelled)\n",
    "    #print('new_pseudo_labels')\n",
    "    size_new_labels = len(pseudo_label_df)\n",
    "    print(size_new_labels)\n",
    "    size_training.append(len(cleaned))\n",
    "    \n",
    "    if size_new_labels > min_new_labels:\n",
    "        cleaned = cleaned.append(pseudo_label_df[['comment_text_cleaned', 'toxic']], ignore_index = True)"
   ]
  },
  {
   "cell_type": "code",
   "execution_count": 37,
   "metadata": {},
   "outputs": [
    {
     "data": {
      "text/plain": [
       "<matplotlib.legend.Legend at 0x2789d744d60>"
      ]
     },
     "execution_count": 37,
     "metadata": {},
     "output_type": "execute_result"
    },
    {
     "data": {
      "image/png": "[encoded data removed]",
      "text/plain": [
       "<Figure size 432x288 with 1 Axes>"
      ]
     },
     "metadata": {
      "needs_background": "light"
     },
     "output_type": "display_data"
    }
   ],
   "source": [
    "plt.plot(val_precision, label = 'precision')\n",
    "plt.plot(val_recall, label = 'recall')\n",
    "plt.plot(val_roc_auc_score, label = 'roc_auc_score')\n",
    "plt.legend()"
   ]
  },
  {
   "cell_type": "code",
   "execution_count": 38,
   "metadata": {
    "scrolled": false
   },
   "outputs": [
    {
     "data": {
      "text/plain": [
       "Text(0, 0.5, 'ROC')"
      ]
     },
     "execution_count": 38,
     "metadata": {},
     "output_type": "execute_result"
    },
    {
     "data": {
      "image/png": "[encoded data removed]",
      "text/plain": [
       "<Figure size 432x288 with 1 Axes>"
      ]
     },
     "metadata": {
      "needs_background": "light"
     },
     "output_type": "display_data"
    }
   ],
   "source": [
    "plt.plot(size_training, val_roc_auc_score, marker='s', markersize = 10)\n",
    "plt.xlabel('training_size')\n",
    "plt.ylabel('ROC')"
   ]
  },
  {
   "cell_type": "code",
   "execution_count": 39,
   "metadata": {
    "scrolled": true
   },
   "outputs": [
    {
     "data": {
      "text/plain": [
       "Text(0, 0.5, 'Precision')"
      ]
     },
     "execution_count": 39,
     "metadata": {},
     "output_type": "execute_result"
    },
    {
     "data": {
      "image/png": "[encoded data removed]",
      "text/plain": [
       "<Figure size 432x288 with 1 Axes>"
      ]
     },
     "metadata": {
      "needs_background": "light"
     },
     "output_type": "display_data"
    }
   ],
   "source": [
    "plt.plot(size_training, val_precision, marker='s', markersize = 10)\n",
    "plt.xlabel('training_size')\n",
    "plt.ylabel('Precision')"
   ]
  },
  {
   "cell_type": "code",
   "execution_count": 40,
   "metadata": {},
   "outputs": [],
   "source": [
    "#precision went down because you are adding training set data (size), but not quality of training set."
   ]
  },
  {
   "cell_type": "code",
   "execution_count": 41,
   "metadata": {
    "scrolled": true
   },
   "outputs": [
    {
     "data": {
      "text/plain": [
       "Text(0, 0.5, 'Recall')"
      ]
     },
     "execution_count": 41,
     "metadata": {},
     "output_type": "execute_result"
    },
    {
     "data": {
      "image/png": "[encoded data removed]",
      "text/plain": [
       "<Figure size 432x288 with 1 Axes>"
      ]
     },
     "metadata": {
      "needs_background": "light"
     },
     "output_type": "display_data"
    }
   ],
   "source": [
    "plt.plot(size_training, val_recall, marker='s', markersize = 10)\n",
    "plt.xlabel('training_size')\n",
    "plt.ylabel('Recall')"
   ]
  },
  {
   "cell_type": "raw",
   "metadata": {},
   "source": [
    "1. Show improvement on validation scores\n",
    "2. Show with images/tables\n",
    "3. In this case, show the increment from 1000 labels to 4506 labels"
   ]
  },
  {
   "cell_type": "markdown",
   "metadata": {},
   "source": [
    "# Trying hyperparam tuning"
   ]
  },
  {
   "cell_type": "code",
   "execution_count": 42,
   "metadata": {},
   "outputs": [],
   "source": [
    "#Gridsearch CV for hyperparameter tuning\n",
    "# no need for scaler = StandardScaler() as we are alr using selectK"
   ]
  },
  {
   "cell_type": "code",
   "execution_count": 43,
   "metadata": {},
   "outputs": [],
   "source": [
    "from sklearn.model_selection import GridSearchCV\n",
    "from sklearn.neighbors import KNeighborsClassifier\n",
    "from sklearn.pipeline import Pipeline\n",
    "from sklearn.preprocessing import MinMaxScaler"
   ]
  },
  {
   "cell_type": "code",
   "execution_count": 44,
   "metadata": {},
   "outputs": [],
   "source": [
    "def grid_search_model(X_train,y_train,vectorizer): \n",
    "    pipeline = Pipeline([('vect', vectorizer),\n",
    "                         ('chi',  SelectKBest(chi2)),\n",
    "                         ('clf', RandomForestClassifier())])\n",
    "    param_grid = {\n",
    "    \"chi__k\": [400, 800, 1200, 1600],\n",
    "    \"clf__max_depth\": [50, 100],}\n",
    "    search = GridSearchCV(pipeline, param_grid,cv= 5, n_jobs=2)\n",
    "    model = search.fit(X_train, y_train)\n",
    "    return model\n",
    "    \n",
    "#training model only fit the model once\n",
    "#training 40 models, 4x2x5 (5 for the folds)\n"
   ]
  },
  {
   "cell_type": "code",
   "execution_count": 45,
   "metadata": {},
   "outputs": [],
   "source": [
    "def training_process_grid_search(cleaned):\n",
    "    vectorized = vectorized_data(cleaned)\n",
    "    vectorizer = vectorized\n",
    "    X_train, y_train = define_x_y(cleaned)\n",
    "    return grid_search_model(X_train,y_train,vectorizer)"
   ]
  },
  {
   "cell_type": "code",
   "execution_count": null,
   "metadata": {},
   "outputs": [
    {
     "name": "stdout",
     "output_type": "stream",
     "text": [
      "1000\n",
      "Best parameter (CV score=0.918):\n",
      "{'chi__k': 400, 'clf__max_depth': 100}\n",
      "3152\n",
      "4152\n",
      "Best parameter (CV score=0.983):\n",
      "{'chi__k': 800, 'clf__max_depth': 50}\n",
      "347\n",
      "4499\n"
     ]
    }
   ],
   "source": [
    "import warnings\n",
    "warnings.filterwarnings(\"ignore\")\n",
    "\n",
    "size_new_labels = 51\n",
    "\n",
    "cleaned = cleaning_data(df_train_labelled)\n",
    "cleaned_val = cleaning_data(df_validation_labelled)\n",
    "# you have to clean also the comment_text in unlabelled data\n",
    "cleaned_unlabelled = cleaning_data(df_test_sample)\n",
    "\n",
    "val_precision = []\n",
    "val_recall = []\n",
    "val_roc_auc_score = []\n",
    "min_new_labels = 50\n",
    "size_training = []\n",
    "X_val, y_val = define_x_y(cleaned_val)\n",
    "\n",
    "while size_new_labels > min_new_labels:\n",
    "    print(len(cleaned))\n",
    "    trained_model = training_process_grid_search(cleaned)\n",
    "    print(\"Best parameter (CV score=%0.3f):\" % trained_model.best_score_)\n",
    "    print(trained_model.best_params_)\n",
    "    X_train,y_train = define_x_y(cleaned) \n",
    "    #print('train\\nprecision, recall, roc_auc_score ')\n",
    "    p,r,roc = train_val_scores(X_train,y_train, trained_model)\n",
    "    #print('val\\nprecision, recall, roc_auc_score ')\n",
    "    p,r,roc = train_val_scores(X_val, y_val, trained_model)\n",
    "    val_precision.append(p)\n",
    "    val_recall.append(r)\n",
    "    val_roc_auc_score.append(roc)  \n",
    "    #the dataframes on the left are outputs of the function pseudo_label_creation \n",
    "    pseudo_label_df, cleaned_unlabelled = pseudo_label_creation(trained_model,cleaned_unlabelled)\n",
    "    #print('new_pseudo_labels')\n",
    "    size_new_labels = len(pseudo_label_df)\n",
    "    print(size_new_labels)\n",
    "    size_training.append(len(cleaned))\n",
    "    \n",
    "    if size_new_labels > min_new_labels:\n",
    "        cleaned = cleaned.append(pseudo_label_df[['comment_text_cleaned', 'toxic']], ignore_index = True)"
   ]
  },
  {
   "cell_type": "code",
   "execution_count": null,
   "metadata": {},
   "outputs": [],
   "source": [
    "plt.plot(val_precision, label = 'precision')\n",
    "plt.plot(val_recall, label = 'recall')\n",
    "plt.plot(val_roc_auc_score, label = 'roc_auc_score')\n",
    "plt.legend()"
   ]
  },
  {
   "cell_type": "code",
   "execution_count": null,
   "metadata": {
    "scrolled": false
   },
   "outputs": [],
   "source": [
    "plt.plot(size_training, val_roc_auc_score, marker='s', markersize = 10)\n",
    "plt.xlabel('training_size')\n",
    "plt.ylabel('ROC')"
   ]
  },
  {
   "cell_type": "code",
   "execution_count": null,
   "metadata": {
    "scrolled": true
   },
   "outputs": [],
   "source": [
    "plt.plot(size_training, val_precision, marker='s', markersize = 10)\n",
    "plt.xlabel('training_size')\n",
    "plt.ylabel('Precision')"
   ]
  },
  {
   "cell_type": "code",
   "execution_count": null,
   "metadata": {},
   "outputs": [],
   "source": [
    "#precision went down because you are adding training set data (size), but not quality of training set."
   ]
  },
  {
   "cell_type": "code",
   "execution_count": null,
   "metadata": {
    "scrolled": false
   },
   "outputs": [],
   "source": [
    "plt.plot(size_training, val_recall, marker='s', markersize = 10)\n",
    "plt.xlabel('training_size')\n",
    "plt.ylabel('Recall')"
   ]
  },
  {
   "cell_type": "code",
   "execution_count": null,
   "metadata": {},
   "outputs": [],
   "source": []
  }
 ],
 "metadata": {
  "kernelspec": {
   "display_name": "Python 3",
   "language": "python",
   "name": "python3"
  },
  "language_info": {
   "codemirror_mode": {
    "name": "ipython",
    "version": 3
   },
   "file_extension": ".py",
   "mimetype": "text/x-python",
   "name": "python",
   "nbconvert_exporter": "python",
   "pygments_lexer": "ipython3",
   "version": "3.8.5"
  }
 },
 "nbformat": 4,
 "nbformat_minor": 4
}

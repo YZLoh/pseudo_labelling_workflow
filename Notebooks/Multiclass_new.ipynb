{
 "cells": [
  {
   "cell_type": "code",
   "execution_count": 1,
   "metadata": {},
   "outputs": [],
   "source": [
    "import pandas as pd\n",
    "import numpy as np\n",
    "from sklearn.model_selection import train_test_split\n",
    "from sklearn.feature_extraction.text import TfidfVectorizer\n",
    "from skmultilearn.adapt import MLkNN\n",
    "from sklearn.metrics import hamming_loss, accuracy_score\n",
    "import string \n",
    "\n",
    "import matplotlib.pyplot as plt\n",
    "from nltk.corpus import stopwords\n",
    "from nltk.stem import PorterStemmer\n",
    "from sklearn.feature_extraction.text import TfidfVectorizer\n",
    "from sklearn.pipeline import Pipeline\n",
    "from sklearn.metrics import classification_report, confusion_matrix, precision_score, recall_score, roc_auc_score \n",
    "from sklearn.model_selection import train_test_split\n",
    "from sklearn.feature_selection import SelectKBest, chi2\n",
    "from sklearn.ensemble import RandomForestClassifier\n",
    "import copy \n",
    "\n",
    "from nltk.tokenize import word_tokenize\n",
    "from sklearn import preprocessing"
   ]
  },
  {
   "cell_type": "code",
   "execution_count": 2,
   "metadata": {},
   "outputs": [],
   "source": [
    "#filter out only rows with 1 or more labels\n",
    "#randomly sample 1000 rows"
   ]
  },
  {
   "cell_type": "code",
   "execution_count": 3,
   "metadata": {},
   "outputs": [],
   "source": [
    "#filtered_df = df[(df[df.columns.tolist()[2:]].sum(axis=1) != 0)]"
   ]
  },
  {
   "cell_type": "code",
   "execution_count": 4,
   "metadata": {},
   "outputs": [],
   "source": [
    "path = '../Multilabel_text_classifcation/jigsaw-toxic-comment-classification-challenge/'\n",
    "df = pd.read_csv(path+'train.csv')\n",
    "df_test = pd.read_csv(path+'test.csv')\n",
    "df_submission = pd.read_csv(path+'sample_submission.csv')\n",
    "\n",
    "filtered_df = df[(df[df.columns.tolist()[2:]].sum(axis=1) != 0)]\n"
   ]
  },
  {
   "cell_type": "code",
   "execution_count": 5,
   "metadata": {},
   "outputs": [],
   "source": [
    "df_sample_without_replacement = filtered_df.sample(2000)\n",
    "df_validation_labelled = df_sample_without_replacement.iloc[:1000]\n",
    "df_train_labelled = df_sample_without_replacement.iloc[1000:]\n",
    "df_test_sample = df_test.sample(4000)\n"
   ]
  },
  {
   "cell_type": "code",
   "execution_count": 6,
   "metadata": {},
   "outputs": [],
   "source": [
    "df_validation_labelled.to_csv('multiclass_validation_labelled_sample.csv', index=False)\n",
    "df_train_labelled.to_csv('multiclass_train_labelled_sample.csv', index=False)\n",
    "df_test_sample.to_csv('multiclass_df_test_sample.csv', index=False)\n"
   ]
  },
  {
   "cell_type": "markdown",
   "metadata": {},
   "source": [
    "## for future references (to prevent constant undersampling)"
   ]
  },
  {
   "cell_type": "code",
   "execution_count": 7,
   "metadata": {
    "scrolled": true
   },
   "outputs": [],
   "source": [
    "df_train_labelled = pd.read_csv('multiclass_train_labelled_sample.csv')\n",
    "df_validation_labelled = pd.read_csv('multiclass_validation_labelled_sample.csv')\n",
    "df_test_sample = pd.read_csv('multiclass_df_test_sample.csv')"
   ]
  },
  {
   "cell_type": "code",
   "execution_count": 8,
   "metadata": {
    "scrolled": true
   },
   "outputs": [
    {
     "data": {
      "text/html": [
       "<div>\n",
       "<style scoped>\n",
       "    .dataframe tbody tr th:only-of-type {\n",
       "        vertical-align: middle;\n",
       "    }\n",
       "\n",
       "    .dataframe tbody tr th {\n",
       "        vertical-align: top;\n",
       "    }\n",
       "\n",
       "    .dataframe thead th {\n",
       "        text-align: right;\n",
       "    }\n",
       "</style>\n",
       "<table border=\"1\" class=\"dataframe\">\n",
       "  <thead>\n",
       "    <tr style=\"text-align: right;\">\n",
       "      <th></th>\n",
       "      <th>id</th>\n",
       "      <th>comment_text</th>\n",
       "      <th>toxic</th>\n",
       "      <th>severe_toxic</th>\n",
       "      <th>obscene</th>\n",
       "      <th>threat</th>\n",
       "      <th>insult</th>\n",
       "      <th>identity_hate</th>\n",
       "    </tr>\n",
       "  </thead>\n",
       "  <tbody>\n",
       "    <tr>\n",
       "      <th>0</th>\n",
       "      <td>ace24540859c7e64</td>\n",
       "      <td>Oh shit, there seems to be a case here, Marsh ...</td>\n",
       "      <td>1</td>\n",
       "      <td>0</td>\n",
       "      <td>0</td>\n",
       "      <td>0</td>\n",
       "      <td>0</td>\n",
       "      <td>0</td>\n",
       "    </tr>\n",
       "    <tr>\n",
       "      <th>1</th>\n",
       "      <td>948d9060f83ac76c</td>\n",
       "      <td>Tesc, where did you go?  Were you in fact a so...</td>\n",
       "      <td>1</td>\n",
       "      <td>0</td>\n",
       "      <td>0</td>\n",
       "      <td>0</td>\n",
       "      <td>0</td>\n",
       "      <td>0</td>\n",
       "    </tr>\n",
       "    <tr>\n",
       "      <th>2</th>\n",
       "      <td>dc51c66ff7e78396</td>\n",
       "      <td>your all a bunch of idiots, rename the page ha...</td>\n",
       "      <td>1</td>\n",
       "      <td>0</td>\n",
       "      <td>0</td>\n",
       "      <td>0</td>\n",
       "      <td>1</td>\n",
       "      <td>0</td>\n",
       "    </tr>\n",
       "    <tr>\n",
       "      <th>3</th>\n",
       "      <td>ee0c1d905ad291c8</td>\n",
       "      <td>warning? \\n\\nwhy did you warn me? for what? im...</td>\n",
       "      <td>1</td>\n",
       "      <td>0</td>\n",
       "      <td>0</td>\n",
       "      <td>0</td>\n",
       "      <td>1</td>\n",
       "      <td>0</td>\n",
       "    </tr>\n",
       "    <tr>\n",
       "      <th>4</th>\n",
       "      <td>b13539a97f762250</td>\n",
       "      <td>\"\\n\\nthank you Fut. Perf. once more you remain...</td>\n",
       "      <td>1</td>\n",
       "      <td>0</td>\n",
       "      <td>0</td>\n",
       "      <td>0</td>\n",
       "      <td>0</td>\n",
       "      <td>0</td>\n",
       "    </tr>\n",
       "    <tr>\n",
       "      <th>...</th>\n",
       "      <td>...</td>\n",
       "      <td>...</td>\n",
       "      <td>...</td>\n",
       "      <td>...</td>\n",
       "      <td>...</td>\n",
       "      <td>...</td>\n",
       "      <td>...</td>\n",
       "      <td>...</td>\n",
       "    </tr>\n",
       "    <tr>\n",
       "      <th>995</th>\n",
       "      <td>fc6d45d108129fc8</td>\n",
       "      <td>Goethean and me\\n\\nI would like you to know I ...</td>\n",
       "      <td>1</td>\n",
       "      <td>0</td>\n",
       "      <td>0</td>\n",
       "      <td>0</td>\n",
       "      <td>0</td>\n",
       "      <td>0</td>\n",
       "    </tr>\n",
       "    <tr>\n",
       "      <th>996</th>\n",
       "      <td>235fc68b9664fecf</td>\n",
       "      <td>Message\\nHi! Man you just provoked me to tell ...</td>\n",
       "      <td>0</td>\n",
       "      <td>0</td>\n",
       "      <td>1</td>\n",
       "      <td>0</td>\n",
       "      <td>0</td>\n",
       "      <td>0</td>\n",
       "    </tr>\n",
       "    <tr>\n",
       "      <th>997</th>\n",
       "      <td>6eab71baeaf14caf</td>\n",
       "      <td>Now that Specifico has chimed in with the usua...</td>\n",
       "      <td>1</td>\n",
       "      <td>0</td>\n",
       "      <td>1</td>\n",
       "      <td>0</td>\n",
       "      <td>0</td>\n",
       "      <td>0</td>\n",
       "    </tr>\n",
       "    <tr>\n",
       "      <th>998</th>\n",
       "      <td>b11a32b527540196</td>\n",
       "      <td>U BASTARDS STOP BLOCKING ME!\\nAAAAAAAAAAH\\nf u...</td>\n",
       "      <td>1</td>\n",
       "      <td>0</td>\n",
       "      <td>1</td>\n",
       "      <td>0</td>\n",
       "      <td>1</td>\n",
       "      <td>0</td>\n",
       "    </tr>\n",
       "    <tr>\n",
       "      <th>999</th>\n",
       "      <td>852f77d9c3096645</td>\n",
       "      <td>wtf? you are now just as bad as fcytravis. WHY...</td>\n",
       "      <td>1</td>\n",
       "      <td>0</td>\n",
       "      <td>1</td>\n",
       "      <td>0</td>\n",
       "      <td>1</td>\n",
       "      <td>0</td>\n",
       "    </tr>\n",
       "  </tbody>\n",
       "</table>\n",
       "<p>1000 rows × 8 columns</p>\n",
       "</div>"
      ],
      "text/plain": [
       "                   id                                       comment_text  \\\n",
       "0    ace24540859c7e64  Oh shit, there seems to be a case here, Marsh ...   \n",
       "1    948d9060f83ac76c  Tesc, where did you go?  Were you in fact a so...   \n",
       "2    dc51c66ff7e78396  your all a bunch of idiots, rename the page ha...   \n",
       "3    ee0c1d905ad291c8  warning? \\n\\nwhy did you warn me? for what? im...   \n",
       "4    b13539a97f762250  \"\\n\\nthank you Fut. Perf. once more you remain...   \n",
       "..                ...                                                ...   \n",
       "995  fc6d45d108129fc8  Goethean and me\\n\\nI would like you to know I ...   \n",
       "996  235fc68b9664fecf  Message\\nHi! Man you just provoked me to tell ...   \n",
       "997  6eab71baeaf14caf  Now that Specifico has chimed in with the usua...   \n",
       "998  b11a32b527540196  U BASTARDS STOP BLOCKING ME!\\nAAAAAAAAAAH\\nf u...   \n",
       "999  852f77d9c3096645  wtf? you are now just as bad as fcytravis. WHY...   \n",
       "\n",
       "     toxic  severe_toxic  obscene  threat  insult  identity_hate  \n",
       "0        1             0        0       0       0              0  \n",
       "1        1             0        0       0       0              0  \n",
       "2        1             0        0       0       1              0  \n",
       "3        1             0        0       0       1              0  \n",
       "4        1             0        0       0       0              0  \n",
       "..     ...           ...      ...     ...     ...            ...  \n",
       "995      1             0        0       0       0              0  \n",
       "996      0             0        1       0       0              0  \n",
       "997      1             0        1       0       0              0  \n",
       "998      1             0        1       0       1              0  \n",
       "999      1             0        1       0       1              0  \n",
       "\n",
       "[1000 rows x 8 columns]"
      ]
     },
     "execution_count": 8,
     "metadata": {},
     "output_type": "execute_result"
    }
   ],
   "source": [
    "df_train_labelled\n",
    "#for multilabel, a 6th column with the list of all labels (e.g. for [0] its [1,1,1,0,1,0])"
   ]
  },
  {
   "cell_type": "code",
   "execution_count": 9,
   "metadata": {
    "scrolled": true
   },
   "outputs": [
    {
     "data": {
      "text/html": [
       "<div>\n",
       "<style scoped>\n",
       "    .dataframe tbody tr th:only-of-type {\n",
       "        vertical-align: middle;\n",
       "    }\n",
       "\n",
       "    .dataframe tbody tr th {\n",
       "        vertical-align: top;\n",
       "    }\n",
       "\n",
       "    .dataframe thead th {\n",
       "        text-align: right;\n",
       "    }\n",
       "</style>\n",
       "<table border=\"1\" class=\"dataframe\">\n",
       "  <thead>\n",
       "    <tr style=\"text-align: right;\">\n",
       "      <th></th>\n",
       "      <th>id</th>\n",
       "      <th>comment_text</th>\n",
       "    </tr>\n",
       "  </thead>\n",
       "  <tbody>\n",
       "    <tr>\n",
       "      <th>0</th>\n",
       "      <td>e5d5becff8ad83c8</td>\n",
       "      <td>sodomised by a bunch of starved midget pirates...</td>\n",
       "    </tr>\n",
       "    <tr>\n",
       "      <th>1</th>\n",
       "      <td>c199fd57e877767a</td>\n",
       "      <td>\" \\n\\n == Stark? == \\n\\n Hi, I don't want to \"...</td>\n",
       "    </tr>\n",
       "    <tr>\n",
       "      <th>2</th>\n",
       "      <td>4b935ace1ed43454</td>\n",
       "      <td>==Thanks== \\n Appreciate it! I wish the other ...</td>\n",
       "    </tr>\n",
       "    <tr>\n",
       "      <th>3</th>\n",
       "      <td>0639a8580dda7e40</td>\n",
       "      <td>\" \\n\\n == Unchanged Burgers == \\n The article ...</td>\n",
       "    </tr>\n",
       "    <tr>\n",
       "      <th>4</th>\n",
       "      <td>3e9965d5ad3a5ea1</td>\n",
       "      <td>2005 (UTC) \\n The width seems to get properly ...</td>\n",
       "    </tr>\n",
       "    <tr>\n",
       "      <th>...</th>\n",
       "      <td>...</td>\n",
       "      <td>...</td>\n",
       "    </tr>\n",
       "    <tr>\n",
       "      <th>3995</th>\n",
       "      <td>cd7e209e9efd101b</td>\n",
       "      <td>\" \\n :: It's nothing to do with recentism when...</td>\n",
       "    </tr>\n",
       "    <tr>\n",
       "      <th>3996</th>\n",
       "      <td>abc63d530bf4df79</td>\n",
       "      <td>== Face of Canada == \\n\\n I think the user is ...</td>\n",
       "    </tr>\n",
       "    <tr>\n",
       "      <th>3997</th>\n",
       "      <td>4a1f80b5b87437f1</td>\n",
       "      <td>:Good link! Personally, I prefer watching pain...</td>\n",
       "    </tr>\n",
       "    <tr>\n",
       "      <th>3998</th>\n",
       "      <td>4e91f0f04eced47f</td>\n",
       "      <td>Yeah, I agree ferrariman, but saying stuff lik...</td>\n",
       "    </tr>\n",
       "    <tr>\n",
       "      <th>3999</th>\n",
       "      <td>ffe966aacb6295e4</td>\n",
       "      <td>religion. Most moaists are homosexual. so is k...</td>\n",
       "    </tr>\n",
       "  </tbody>\n",
       "</table>\n",
       "<p>4000 rows × 2 columns</p>\n",
       "</div>"
      ],
      "text/plain": [
       "                    id                                       comment_text\n",
       "0     e5d5becff8ad83c8  sodomised by a bunch of starved midget pirates...\n",
       "1     c199fd57e877767a  \" \\n\\n == Stark? == \\n\\n Hi, I don't want to \"...\n",
       "2     4b935ace1ed43454  ==Thanks== \\n Appreciate it! I wish the other ...\n",
       "3     0639a8580dda7e40  \" \\n\\n == Unchanged Burgers == \\n The article ...\n",
       "4     3e9965d5ad3a5ea1  2005 (UTC) \\n The width seems to get properly ...\n",
       "...                ...                                                ...\n",
       "3995  cd7e209e9efd101b  \" \\n :: It's nothing to do with recentism when...\n",
       "3996  abc63d530bf4df79  == Face of Canada == \\n\\n I think the user is ...\n",
       "3997  4a1f80b5b87437f1  :Good link! Personally, I prefer watching pain...\n",
       "3998  4e91f0f04eced47f  Yeah, I agree ferrariman, but saying stuff lik...\n",
       "3999  ffe966aacb6295e4  religion. Most moaists are homosexual. so is k...\n",
       "\n",
       "[4000 rows x 2 columns]"
      ]
     },
     "execution_count": 9,
     "metadata": {},
     "output_type": "execute_result"
    }
   ],
   "source": [
    "df_test_sample"
   ]
  },
  {
   "cell_type": "markdown",
   "metadata": {},
   "source": [
    "# multiclass"
   ]
  },
  {
   "cell_type": "code",
   "execution_count": 10,
   "metadata": {},
   "outputs": [],
   "source": [
    "def training_model(X_train,y_train,vectorizer): \n",
    "    pipeline = Pipeline([('vect', vectorizer),\n",
    "                         ('chi',  SelectKBest(chi2, k=1200)),\n",
    "                         ('clf', RandomForestClassifier())])\n",
    "    model = pipeline.fit(X_train, y_train) #only used in the trained data\n",
    "    return model\n",
    "\n",
    "def cleaning_data(part_df):\n",
    "    words = stopwords.words(\"english\")\n",
    "    part_df['comment_text_cleaned']= part_df['comment_text'].apply(lambda x: word_tokenize(x))\n",
    "    part_df['comment_text_cleaned']= part_df['comment_text_cleaned'].apply(lambda x: [i for i in x if i not in words])\n",
    "    part_df['comment_text_cleaned']= part_df['comment_text_cleaned'].apply(lambda x: \" \".join([i for i in x if i not in string.punctuation]))\n",
    "    return part_df\n",
    "\n",
    "def vectorized_data(part_df):\n",
    "    vectorizer = TfidfVectorizer(min_df= 3, stop_words=\"english\", sublinear_tf=True, norm='l2', ngram_range=(1, 2))\n",
    "    #final_features = vectorizer.fit_transform(part_df['comment_text_cleaned']).toarray()\n",
    "    return vectorizer\n",
    "\n",
    "def clean_target(sample_df):\n",
    "    sample_df['toxic_string'] = sample_df['toxic'].apply(lambda x: \"\".join(['toxic' for i in [x] if i == 1]))\n",
    "    sample_df['severe_toxic_string'] = sample_df['severe_toxic'].apply(lambda x: \"\".join(['severe_toxic' for i in [x] if i == 1]))\n",
    "    sample_df['obscene_string'] = sample_df['obscene'].apply(lambda x: \"\".join(['obscene' for i in [x] if i == 1]))\n",
    "    sample_df['threat_string'] = sample_df['threat'].apply(lambda x: \"\".join(['threat' for i in [x] if i == 1]))\n",
    "    sample_df['insult_string'] = sample_df['insult'].apply(lambda x: \"\".join(['insult' for i in [x] if i == 1]))\n",
    "    sample_df['identity_hate_string'] = sample_df['identity_hate'].apply(lambda x: \"\".join(['identity_hate' for i in [x] if i == 1]))\n",
    "    sample_df['target_string'] = sample_df.apply(lambda x: x['toxic_string'] + x['severe_toxic_string']+ x['obscene_string'] + x['threat_string'] + x['insult_string'] + x['identity_hate_string'], axis = 1)\n",
    "    return sample_df[['comment_text_cleaned','target_string']]"
   ]
  },
  {
   "cell_type": "code",
   "execution_count": 11,
   "metadata": {},
   "outputs": [],
   "source": [
    "#repeats process until no new labels can be added\n",
    "def define_x_y(cleaned):\n",
    "    X_train = cleaned['comment_text_cleaned']\n",
    "    y_train = cleaned['target']\n",
    "    return (X_train, y_train)\n",
    "\n",
    "def training_process(cleaned):\n",
    "    vectorized = vectorized_data(cleaned)\n",
    "    vectorizer = vectorized\n",
    "    X_train, y_train = define_x_y(cleaned)\n",
    "    return training_model(X_train,y_train,vectorizer)\n",
    "\n",
    "def train_val_scores(x, y_val, trained_model): \n",
    "    y_val_pred=trained_model.predict(x) #transform depending on which type of function you are talking about\n",
    "    return precision_score(y_val,y_val_pred,average = 'weighted'),recall_score(y_val,y_val_pred,average = 'weighted')\n",
    "\n"
   ]
  },
  {
   "cell_type": "code",
   "execution_count": 12,
   "metadata": {
    "scrolled": true
   },
   "outputs": [],
   "source": [
    "import warnings\n",
    "warnings.filterwarnings(\"ignore\")\n",
    "\n",
    "cleaned = cleaning_data(df_train_labelled)\n",
    "cleaned_val = cleaning_data(df_validation_labelled)\n",
    "cleaned_train = clean_target(cleaned)\n",
    "cleaned_val = clean_target(cleaned_val)\n",
    "\n",
    "# you have to clean also the comment_text in unlabelled data\n",
    "cleaned_unlabelled = cleaning_data(df_test_sample)\n"
   ]
  },
  {
   "cell_type": "code",
   "execution_count": 13,
   "metadata": {
    "scrolled": true
   },
   "outputs": [
    {
     "data": {
      "text/html": [
       "<div>\n",
       "<style scoped>\n",
       "    .dataframe tbody tr th:only-of-type {\n",
       "        vertical-align: middle;\n",
       "    }\n",
       "\n",
       "    .dataframe tbody tr th {\n",
       "        vertical-align: top;\n",
       "    }\n",
       "\n",
       "    .dataframe thead th {\n",
       "        text-align: right;\n",
       "    }\n",
       "</style>\n",
       "<table border=\"1\" class=\"dataframe\">\n",
       "  <thead>\n",
       "    <tr style=\"text-align: right;\">\n",
       "      <th></th>\n",
       "      <th>comment_text_cleaned</th>\n",
       "      <th>target_string</th>\n",
       "      <th>n_samples</th>\n",
       "    </tr>\n",
       "  </thead>\n",
       "  <tbody>\n",
       "    <tr>\n",
       "      <th>0</th>\n",
       "      <td>Oh shit seems case Marsh Arabs Honestly I idea...</td>\n",
       "      <td>toxic</td>\n",
       "      <td>376</td>\n",
       "    </tr>\n",
       "    <tr>\n",
       "      <th>1</th>\n",
       "      <td>Tesc go Were fact sockpuppet</td>\n",
       "      <td>toxic</td>\n",
       "      <td>376</td>\n",
       "    </tr>\n",
       "    <tr>\n",
       "      <th>2</th>\n",
       "      <td>bunch idiots rename page got news episode guid...</td>\n",
       "      <td>toxicinsult</td>\n",
       "      <td>66</td>\n",
       "    </tr>\n",
       "    <tr>\n",
       "      <th>3</th>\n",
       "      <td>warning warn im war ultra-christians ultra-rac...</td>\n",
       "      <td>toxicinsult</td>\n",
       "      <td>66</td>\n",
       "    </tr>\n",
       "    <tr>\n",
       "      <th>4</th>\n",
       "      <td>`` thank Fut Perf remain true Wikipedia Polici...</td>\n",
       "      <td>toxic</td>\n",
       "      <td>376</td>\n",
       "    </tr>\n",
       "    <tr>\n",
       "      <th>...</th>\n",
       "      <td>...</td>\n",
       "      <td>...</td>\n",
       "      <td>...</td>\n",
       "    </tr>\n",
       "    <tr>\n",
       "      <th>995</th>\n",
       "      <td>Goethean I would like know I known Goethean 6 ...</td>\n",
       "      <td>toxic</td>\n",
       "      <td>376</td>\n",
       "    </tr>\n",
       "    <tr>\n",
       "      <th>996</th>\n",
       "      <td>Message Hi Man provoked tell stupid messages h...</td>\n",
       "      <td>obscene</td>\n",
       "      <td>16</td>\n",
       "    </tr>\n",
       "    <tr>\n",
       "      <th>997</th>\n",
       "      <td>Now Specifico chimed usual bullshit time close...</td>\n",
       "      <td>toxicobscene</td>\n",
       "      <td>95</td>\n",
       "    </tr>\n",
       "    <tr>\n",
       "      <th>998</th>\n",
       "      <td>U BASTARDS STOP BLOCKING ME AAAAAAAAAAH f u</td>\n",
       "      <td>toxicobsceneinsult</td>\n",
       "      <td>245</td>\n",
       "    </tr>\n",
       "    <tr>\n",
       "      <th>999</th>\n",
       "      <td>wtf bad fcytravis WHY NOT WARN HIM Anus</td>\n",
       "      <td>toxicobsceneinsult</td>\n",
       "      <td>245</td>\n",
       "    </tr>\n",
       "  </tbody>\n",
       "</table>\n",
       "<p>1000 rows × 3 columns</p>\n",
       "</div>"
      ],
      "text/plain": [
       "                                  comment_text_cleaned       target_string  \\\n",
       "0    Oh shit seems case Marsh Arabs Honestly I idea...               toxic   \n",
       "1                         Tesc go Were fact sockpuppet               toxic   \n",
       "2    bunch idiots rename page got news episode guid...         toxicinsult   \n",
       "3    warning warn im war ultra-christians ultra-rac...         toxicinsult   \n",
       "4    `` thank Fut Perf remain true Wikipedia Polici...               toxic   \n",
       "..                                                 ...                 ...   \n",
       "995  Goethean I would like know I known Goethean 6 ...               toxic   \n",
       "996  Message Hi Man provoked tell stupid messages h...             obscene   \n",
       "997  Now Specifico chimed usual bullshit time close...        toxicobscene   \n",
       "998        U BASTARDS STOP BLOCKING ME AAAAAAAAAAH f u  toxicobsceneinsult   \n",
       "999            wtf bad fcytravis WHY NOT WARN HIM Anus  toxicobsceneinsult   \n",
       "\n",
       "     n_samples  \n",
       "0          376  \n",
       "1          376  \n",
       "2           66  \n",
       "3           66  \n",
       "4          376  \n",
       "..         ...  \n",
       "995        376  \n",
       "996         16  \n",
       "997         95  \n",
       "998        245  \n",
       "999        245  \n",
       "\n",
       "[1000 rows x 3 columns]"
      ]
     },
     "execution_count": 13,
     "metadata": {},
     "output_type": "execute_result"
    }
   ],
   "source": [
    "dict_target = cleaned_train.groupby('target_string').count().to_dict()['comment_text_cleaned']\n",
    "cleaned_train['n_samples'] = cleaned_train.target_string.map(dict_target)\n",
    "cleaned_train"
   ]
  },
  {
   "cell_type": "code",
   "execution_count": 14,
   "metadata": {
    "scrolled": true
   },
   "outputs": [
    {
     "data": {
      "text/html": [
       "<div>\n",
       "<style scoped>\n",
       "    .dataframe tbody tr th:only-of-type {\n",
       "        vertical-align: middle;\n",
       "    }\n",
       "\n",
       "    .dataframe tbody tr th {\n",
       "        vertical-align: top;\n",
       "    }\n",
       "\n",
       "    .dataframe thead th {\n",
       "        text-align: right;\n",
       "    }\n",
       "</style>\n",
       "<table border=\"1\" class=\"dataframe\">\n",
       "  <thead>\n",
       "    <tr style=\"text-align: right;\">\n",
       "      <th></th>\n",
       "      <th>comment_text_cleaned</th>\n",
       "      <th>target_string</th>\n",
       "      <th>n_samples</th>\n",
       "    </tr>\n",
       "  </thead>\n",
       "  <tbody>\n",
       "    <tr>\n",
       "      <th>0</th>\n",
       "      <td>Oh shit seems case Marsh Arabs Honestly I idea...</td>\n",
       "      <td>toxic</td>\n",
       "      <td>376</td>\n",
       "    </tr>\n",
       "    <tr>\n",
       "      <th>1</th>\n",
       "      <td>Tesc go Were fact sockpuppet</td>\n",
       "      <td>toxic</td>\n",
       "      <td>376</td>\n",
       "    </tr>\n",
       "    <tr>\n",
       "      <th>2</th>\n",
       "      <td>bunch idiots rename page got news episode guid...</td>\n",
       "      <td>toxicinsult</td>\n",
       "      <td>66</td>\n",
       "    </tr>\n",
       "    <tr>\n",
       "      <th>3</th>\n",
       "      <td>warning warn im war ultra-christians ultra-rac...</td>\n",
       "      <td>toxicinsult</td>\n",
       "      <td>66</td>\n",
       "    </tr>\n",
       "    <tr>\n",
       "      <th>4</th>\n",
       "      <td>`` thank Fut Perf remain true Wikipedia Polici...</td>\n",
       "      <td>toxic</td>\n",
       "      <td>376</td>\n",
       "    </tr>\n",
       "    <tr>\n",
       "      <th>...</th>\n",
       "      <td>...</td>\n",
       "      <td>...</td>\n",
       "      <td>...</td>\n",
       "    </tr>\n",
       "    <tr>\n",
       "      <th>995</th>\n",
       "      <td>User Abd Muslim Scum</td>\n",
       "      <td>other</td>\n",
       "      <td>1</td>\n",
       "    </tr>\n",
       "    <tr>\n",
       "      <th>996</th>\n",
       "      <td>This perfect example Wikipedia fucks bunch POV...</td>\n",
       "      <td>other</td>\n",
       "      <td>4</td>\n",
       "    </tr>\n",
       "    <tr>\n",
       "      <th>997</th>\n",
       "      <td>`` IT 'S MY TALK PAGE HOW DARE YOU desacrate S...</td>\n",
       "      <td>other</td>\n",
       "      <td>4</td>\n",
       "    </tr>\n",
       "    <tr>\n",
       "      <th>998</th>\n",
       "      <td>igger Nigger Nigger Nigger Nigger Nigger Nigge...</td>\n",
       "      <td>other</td>\n",
       "      <td>4</td>\n",
       "    </tr>\n",
       "    <tr>\n",
       "      <th>999</th>\n",
       "      <td>You 're yet another islamic-fascist shown face...</td>\n",
       "      <td>other</td>\n",
       "      <td>9</td>\n",
       "    </tr>\n",
       "  </tbody>\n",
       "</table>\n",
       "<p>1000 rows × 3 columns</p>\n",
       "</div>"
      ],
      "text/plain": [
       "                                  comment_text_cleaned target_string  \\\n",
       "0    Oh shit seems case Marsh Arabs Honestly I idea...         toxic   \n",
       "1                         Tesc go Were fact sockpuppet         toxic   \n",
       "2    bunch idiots rename page got news episode guid...   toxicinsult   \n",
       "3    warning warn im war ultra-christians ultra-rac...   toxicinsult   \n",
       "4    `` thank Fut Perf remain true Wikipedia Polici...         toxic   \n",
       "..                                                 ...           ...   \n",
       "995                               User Abd Muslim Scum         other   \n",
       "996  This perfect example Wikipedia fucks bunch POV...         other   \n",
       "997  `` IT 'S MY TALK PAGE HOW DARE YOU desacrate S...         other   \n",
       "998  igger Nigger Nigger Nigger Nigger Nigger Nigge...         other   \n",
       "999  You 're yet another islamic-fascist shown face...         other   \n",
       "\n",
       "     n_samples  \n",
       "0          376  \n",
       "1          376  \n",
       "2           66  \n",
       "3           66  \n",
       "4          376  \n",
       "..         ...  \n",
       "995          1  \n",
       "996          4  \n",
       "997          4  \n",
       "998          4  \n",
       "999          9  \n",
       "\n",
       "[1000 rows x 3 columns]"
      ]
     },
     "execution_count": 14,
     "metadata": {},
     "output_type": "execute_result"
    }
   ],
   "source": [
    "#cleaned_train select the rows that have target with n_samples > threshold\n",
    "cleaned_train_other = cleaned_train[cleaned_train['n_samples'] <= 10]\n",
    "cleaned_train_other['target_string'] = 'other'\n",
    "cleaned_train = cleaned_train[cleaned_train['n_samples'] > 10]\n",
    "cleaned_train = cleaned_train.append(cleaned_train_other,ignore_index = True)\n",
    "cleaned_train"
   ]
  },
  {
   "cell_type": "code",
   "execution_count": 15,
   "metadata": {},
   "outputs": [
    {
     "data": {
      "text/html": [
       "<div>\n",
       "<style scoped>\n",
       "    .dataframe tbody tr th:only-of-type {\n",
       "        vertical-align: middle;\n",
       "    }\n",
       "\n",
       "    .dataframe tbody tr th {\n",
       "        vertical-align: top;\n",
       "    }\n",
       "\n",
       "    .dataframe thead th {\n",
       "        text-align: right;\n",
       "    }\n",
       "</style>\n",
       "<table border=\"1\" class=\"dataframe\">\n",
       "  <thead>\n",
       "    <tr style=\"text-align: right;\">\n",
       "      <th></th>\n",
       "      <th>comment_text_cleaned</th>\n",
       "      <th>target_string</th>\n",
       "      <th>n_samples</th>\n",
       "    </tr>\n",
       "  </thead>\n",
       "  <tbody>\n",
       "    <tr>\n",
       "      <th>0</th>\n",
       "      <td>Oh shit seems case Marsh Arabs Honestly I idea...</td>\n",
       "      <td>toxic</td>\n",
       "      <td>376</td>\n",
       "    </tr>\n",
       "    <tr>\n",
       "      <th>1</th>\n",
       "      <td>Tesc go Were fact sockpuppet</td>\n",
       "      <td>toxic</td>\n",
       "      <td>376</td>\n",
       "    </tr>\n",
       "    <tr>\n",
       "      <th>2</th>\n",
       "      <td>bunch idiots rename page got news episode guid...</td>\n",
       "      <td>toxicinsult</td>\n",
       "      <td>66</td>\n",
       "    </tr>\n",
       "    <tr>\n",
       "      <th>3</th>\n",
       "      <td>warning warn im war ultra-christians ultra-rac...</td>\n",
       "      <td>toxicinsult</td>\n",
       "      <td>66</td>\n",
       "    </tr>\n",
       "    <tr>\n",
       "      <th>4</th>\n",
       "      <td>`` thank Fut Perf remain true Wikipedia Polici...</td>\n",
       "      <td>toxic</td>\n",
       "      <td>376</td>\n",
       "    </tr>\n",
       "    <tr>\n",
       "      <th>...</th>\n",
       "      <td>...</td>\n",
       "      <td>...</td>\n",
       "      <td>...</td>\n",
       "    </tr>\n",
       "    <tr>\n",
       "      <th>995</th>\n",
       "      <td>User Abd Muslim Scum</td>\n",
       "      <td>other</td>\n",
       "      <td>44</td>\n",
       "    </tr>\n",
       "    <tr>\n",
       "      <th>996</th>\n",
       "      <td>This perfect example Wikipedia fucks bunch POV...</td>\n",
       "      <td>other</td>\n",
       "      <td>44</td>\n",
       "    </tr>\n",
       "    <tr>\n",
       "      <th>997</th>\n",
       "      <td>`` IT 'S MY TALK PAGE HOW DARE YOU desacrate S...</td>\n",
       "      <td>other</td>\n",
       "      <td>44</td>\n",
       "    </tr>\n",
       "    <tr>\n",
       "      <th>998</th>\n",
       "      <td>igger Nigger Nigger Nigger Nigger Nigger Nigge...</td>\n",
       "      <td>other</td>\n",
       "      <td>44</td>\n",
       "    </tr>\n",
       "    <tr>\n",
       "      <th>999</th>\n",
       "      <td>You 're yet another islamic-fascist shown face...</td>\n",
       "      <td>other</td>\n",
       "      <td>44</td>\n",
       "    </tr>\n",
       "  </tbody>\n",
       "</table>\n",
       "<p>1000 rows × 3 columns</p>\n",
       "</div>"
      ],
      "text/plain": [
       "                                  comment_text_cleaned target_string  \\\n",
       "0    Oh shit seems case Marsh Arabs Honestly I idea...         toxic   \n",
       "1                         Tesc go Were fact sockpuppet         toxic   \n",
       "2    bunch idiots rename page got news episode guid...   toxicinsult   \n",
       "3    warning warn im war ultra-christians ultra-rac...   toxicinsult   \n",
       "4    `` thank Fut Perf remain true Wikipedia Polici...         toxic   \n",
       "..                                                 ...           ...   \n",
       "995                               User Abd Muslim Scum         other   \n",
       "996  This perfect example Wikipedia fucks bunch POV...         other   \n",
       "997  `` IT 'S MY TALK PAGE HOW DARE YOU desacrate S...         other   \n",
       "998  igger Nigger Nigger Nigger Nigger Nigger Nigge...         other   \n",
       "999  You 're yet another islamic-fascist shown face...         other   \n",
       "\n",
       "     n_samples  \n",
       "0          376  \n",
       "1          376  \n",
       "2           66  \n",
       "3           66  \n",
       "4          376  \n",
       "..         ...  \n",
       "995         44  \n",
       "996         44  \n",
       "997         44  \n",
       "998         44  \n",
       "999         44  \n",
       "\n",
       "[1000 rows x 3 columns]"
      ]
     },
     "execution_count": 15,
     "metadata": {},
     "output_type": "execute_result"
    }
   ],
   "source": [
    "dict_target = cleaned_train.groupby('target_string').count().to_dict()['comment_text_cleaned']\n",
    "cleaned_train['n_samples'] = cleaned_train.target_string.map(dict_target)\n",
    "cleaned_train"
   ]
  },
  {
   "cell_type": "code",
   "execution_count": 16,
   "metadata": {
    "scrolled": true
   },
   "outputs": [
    {
     "data": {
      "image/png": "[encoded data removed]",
      "text/plain": [
       "<Figure size 720x576 with 1 Axes>"
      ]
     },
     "metadata": {
      "needs_background": "light"
     },
     "output_type": "display_data"
    }
   ],
   "source": [
    "values = list(dict_target.values())\n",
    "keys = list(dict_target.keys())\n",
    "\n",
    "plt.figure(figsize = (10,8) )\n",
    "plt.bar(keys,values, align = 'center')\n",
    "plt.xticks(rotation = 90)\n",
    "plt.tight_layout()"
   ]
  },
  {
   "cell_type": "code",
   "execution_count": 17,
   "metadata": {},
   "outputs": [],
   "source": [
    "toxic =  {1,3,4,6,7,11,12,16}\n",
    "\n"
   ]
  },
  {
   "cell_type": "code",
   "execution_count": 18,
   "metadata": {},
   "outputs": [],
   "source": [
    "# plot shows some initial imbalance in the sample\n",
    "# there is therefore a possibility of sampling 'unequally' to begin with\n",
    "# in order to unequally sample, also have to create target_string on entire training to know the distribution\n"
   ]
  },
  {
   "cell_type": "code",
   "execution_count": 19,
   "metadata": {},
   "outputs": [
    {
     "data": {
      "text/plain": [
       "{'toxic': 0,\n",
       " 'toxicinsult': 1,\n",
       " 'toxicobsceneinsult': 2,\n",
       " 'toxicobscene': 3,\n",
       " 'toxicsevere_toxicobsceneinsult': 4,\n",
       " 'toxicsevere_toxicobsceneinsultidentity_hate': 5,\n",
       " 'insult': 6,\n",
       " 'toxicobsceneinsultidentity_hate': 7,\n",
       " 'toxicsevere_toxicobscene': 8,\n",
       " 'obscene': 9,\n",
       " 'obsceneinsult': 10,\n",
       " 'other': 11}"
      ]
     },
     "execution_count": 19,
     "metadata": {},
     "output_type": "execute_result"
    }
   ],
   "source": [
    "#enumerate is to iterate the index and the value of the index in a list\n",
    "#value = key, i is the number associated with the key\n",
    "dict_labels = {value:i for i,value in enumerate(cleaned_train.drop_duplicates('target_string').target_string.tolist())}\n",
    "dict_labels"
   ]
  },
  {
   "cell_type": "code",
   "execution_count": null,
   "metadata": {},
   "outputs": [],
   "source": []
  },
  {
   "cell_type": "code",
   "execution_count": 20,
   "metadata": {},
   "outputs": [
    {
     "data": {
      "text/plain": [
       "{'toxic': 0,\n",
       " 'toxicinsult': 1,\n",
       " 'toxicobsceneinsult': 2,\n",
       " 'toxicobscene': 3,\n",
       " 'toxicsevere_toxicobsceneinsult': 4,\n",
       " 'toxicsevere_toxicobsceneinsultidentity_hate': 5,\n",
       " 'insult': 6,\n",
       " 'toxicobsceneinsultidentity_hate': 7,\n",
       " 'toxicsevere_toxicobscene': 8,\n",
       " 'obscene': 9,\n",
       " 'obsceneinsult': 10,\n",
       " 'other': 11,\n",
       " 'toxicinsultidentity_hate': 11,\n",
       " 'toxicsevere_toxicobscenethreatinsult': 11,\n",
       " 'toxicthreat': 11,\n",
       " 'toxicidentity_hate': 11,\n",
       " 'toxicobscenethreatinsult': 11,\n",
       " 'identity_hate': 11,\n",
       " 'toxicsevere_toxic': 11,\n",
       " 'toxicobscenethreatinsultidentity_hate': 11,\n",
       " 'threat': 11,\n",
       " 'toxicobscenethreat': 11,\n",
       " 'toxicsevere_toxicthreat': 11,\n",
       " 'insultidentity_hate': 11,\n",
       " 'toxicobsceneidentity_hate': 11,\n",
       " 'toxicthreatinsult': 11,\n",
       " 'toxicsevere_toxicidentity_hate': 11,\n",
       " 'toxicthreatidentity_hate': 11}"
      ]
     },
     "execution_count": 20,
     "metadata": {},
     "output_type": "execute_result"
    }
   ],
   "source": [
    "#increases size of labels not seen\n",
    "#save number of last label\n",
    "#n_labels = len(dict_labels)\n",
    "cleaned_val_list = cleaned_val.drop_duplicates('target_string').target_string.tolist()\n",
    "for value in cleaned_val_list:\n",
    "    if value not in dict_labels:\n",
    "        dict_labels[value] = dict_labels['other']\n",
    "#        n_labels += 1\n",
    "\n",
    "dict_labels\n",
    "    "
   ]
  },
  {
   "cell_type": "code",
   "execution_count": 21,
   "metadata": {},
   "outputs": [],
   "source": [
    "cleaned_train['target'] = cleaned_train['target_string'].map(dict_labels) #map will contain the key\n",
    "cleaned_val['target'] = cleaned_val['target_string'].map(dict_labels)"
   ]
  },
  {
   "cell_type": "markdown",
   "metadata": {},
   "source": [
    "#REMOVED BECAUSE OF ISSUES WITH LABEL ENCODER#\n",
    "#label encoding doesn't ignore things that are not in the test\n",
    "le = label_encoding(cleaned_train.append(cleaned_val, ignore_index  = True))\n",
    "cleaned_train['target'] = le.transform(cleaned_train['target_string'])\n",
    "cleaned_val['target'] = le.transform(cleaned_val['target_string'])\n",
    "#unlabelled part has no target: cleaned_unlabelled['target'] = le.transform(cleaned_unlabelled['target_string'])\n",
    "vectorized = vectorized_data(cleaned_train)\n",
    "X_val, y_val = define_x_y(cleaned_val)"
   ]
  },
  {
   "cell_type": "code",
   "execution_count": 22,
   "metadata": {},
   "outputs": [
    {
     "data": {
      "text/plain": [
       "array([ 0,  1,  2,  3,  4,  5,  6,  7,  8,  9, 10, 11], dtype=int64)"
      ]
     },
     "execution_count": 22,
     "metadata": {},
     "output_type": "execute_result"
    }
   ],
   "source": [
    "list_classes = np.sort(cleaned_train['target'].unique())\n",
    "list_classes"
   ]
  },
  {
   "cell_type": "code",
   "execution_count": 23,
   "metadata": {},
   "outputs": [],
   "source": [
    "def pseudo_label_creation(list_classes, trained_model, cleaned_unlabelled):\n",
    "    X_unlabelled = cleaned_unlabelled['comment_text_cleaned']\n",
    "    y_prob = trained_model.predict_proba(X_unlabelled)\n",
    "    #need to change the \"propagate toxic/not-toxic bits to make it multiclass\"\n",
    "    #for loop to create multiple classes  \n",
    "    for multiclass in list_classes:\n",
    "        cleaned_unlabelled['propagate_' + str(multiclass)]=np.where(y_prob[:,multiclass] > 0.65,multiclass, -1)\n",
    "    cleaned_unlabelled['new_label'] = cleaned_unlabelled.apply(lambda x: np.max([x['propagate_' + str(multiclass)] for multiclass in list_classes]), axis = 1)\n",
    "    pseudo_label_df = cleaned_unlabelled[cleaned_unlabelled['new_label'] > -1]\n",
    "    remaining_unlabelled_df = cleaned_unlabelled[cleaned_unlabelled['new_label'] == -1]\n",
    "    pseudo_label_df.rename(columns={'new_label': 'target'}, inplace=True)\n",
    "    return pseudo_label_df, remaining_unlabelled_df"
   ]
  },
  {
   "cell_type": "code",
   "execution_count": 24,
   "metadata": {},
   "outputs": [],
   "source": [
    "cleaned_train_2 = copy.deepcopy(cleaned_train)\n",
    "cleaned_unlabelled_2 = copy.deepcopy(cleaned_unlabelled)"
   ]
  },
  {
   "cell_type": "code",
   "execution_count": 25,
   "metadata": {},
   "outputs": [],
   "source": [
    "from sklearn.model_selection import GridSearchCV\n",
    "from sklearn.neighbors import KNeighborsClassifier\n",
    "from sklearn.pipeline import Pipeline\n",
    "from sklearn.preprocessing import MinMaxScaler"
   ]
  },
  {
   "cell_type": "code",
   "execution_count": 26,
   "metadata": {},
   "outputs": [],
   "source": [
    "def grid_search_model(X_train,y_train,vectorizer): \n",
    "    pipeline = Pipeline([('vect', vectorizer),\n",
    "                         ('chi',  SelectKBest(chi2)),\n",
    "                         ('clf', RandomForestClassifier())])\n",
    "    param_grid = {\n",
    "    \"chi__k\": [400, 800, 1200, 1600],\n",
    "    \"clf__max_depth\": [50, 100],}\n",
    "    search = GridSearchCV(pipeline, param_grid,cv= 5, n_jobs=2)\n",
    "    model = search.fit(X_train, y_train)\n",
    "    return model\n",
    "    \n",
    "#training model only fit the model once\n",
    "#training 40 models, 4x2x5 (5 for the folds)"
   ]
  },
  {
   "cell_type": "code",
   "execution_count": 27,
   "metadata": {},
   "outputs": [],
   "source": [
    "def train_val_label_scores(x, y_val, labels, trained_model): \n",
    "    y_val_pred=trained_model.predict(x)\n",
    "    labels_precision = [precision_score(y_val,y_val_pred,average = 'weighted', labels = [label])\n",
    "                       for label in labels]\n",
    "    labels_recall = [recall_score(y_val,y_val_pred,average = 'weighted', labels = [label])\n",
    "                       for label in labels]\n",
    "    return labels_precision, labels_recall\n"
   ]
  },
  {
   "cell_type": "code",
   "execution_count": 28,
   "metadata": {},
   "outputs": [
    {
     "data": {
      "text/plain": [
       "[0, 1, 2, 3, 4, 5, 6, 7, 8, 9, 10, 11]"
      ]
     },
     "execution_count": 28,
     "metadata": {},
     "output_type": "execute_result"
    }
   ],
   "source": [
    "#list of all unique labels\n",
    "unique_labels = list(set(list(dict_labels.values())))\n",
    "#when you convert from dict to list, you need to transform it to a set to get unique vals\n",
    "#then you need to transform it back to a list\n",
    "unique_labels"
   ]
  },
  {
   "cell_type": "code",
   "execution_count": 29,
   "metadata": {},
   "outputs": [],
   "source": [
    "def training_process_grid_search(cleaned):\n",
    "    vectorized = vectorized_data(cleaned)\n",
    "    vectorizer = vectorized\n",
    "    X_train, y_train = define_x_y(cleaned)\n",
    "    return grid_search_model(X_train,y_train,vectorizer)"
   ]
  },
  {
   "cell_type": "code",
   "execution_count": 30,
   "metadata": {
    "scrolled": true
   },
   "outputs": [
    {
     "name": "stdout",
     "output_type": "stream",
     "text": [
      "1000\n",
      "Best parameter (CV score=0.494):\n",
      "{'chi__k': 800, 'clf__max_depth': 100}\n",
      "2544\n",
      "3544\n",
      "Best parameter (CV score=0.860):\n",
      "{'chi__k': 1600, 'clf__max_depth': 100}\n",
      "941\n",
      "4485\n",
      "Best parameter (CV score=0.891):\n",
      "{'chi__k': 1200, 'clf__max_depth': 100}\n",
      "188\n",
      "4673\n",
      "Best parameter (CV score=0.893):\n",
      "{'chi__k': 1600, 'clf__max_depth': 100}\n",
      "34\n"
     ]
    }
   ],
   "source": [
    "val_precision = []\n",
    "val_recall = []\n",
    "val_label_precision = []\n",
    "val_label_recall = []\n",
    "val_roc_auc_score = []\n",
    "min_new_labels = 60\n",
    "size_new_labels = 61\n",
    "size_training = []\n",
    "\n",
    "while size_new_labels > min_new_labels:\n",
    "    print(len(cleaned_train_2))\n",
    "    trained_model = training_process_grid_search(cleaned_train_2)\n",
    "    print(\"Best parameter (CV score=%0.3f):\" % trained_model.best_score_)\n",
    "    print(trained_model.best_params_)\n",
    "    X_train,y_train = define_x_y(cleaned_train_2) \n",
    "    X_val,y_val = define_x_y(cleaned_val) \n",
    "    #print('train\\nprecision, recall, roc_auc_score ')\n",
    "    p1,r1 = train_val_scores(X_train,y_train, trained_model)\n",
    "    p2,r2 = train_val_label_scores(X_train,y_train,unique_labels, trained_model)\n",
    "    #print('val\\nprecision, recall, roc_auc_score ')\n",
    "    p1,r1 = train_val_scores(X_val, y_val, trained_model)\n",
    "    p2,r2 = train_val_label_scores(X_val, y_val,unique_labels, trained_model)\n",
    "    val_precision.append(p1)\n",
    "    val_recall.append(r1)    \n",
    "    val_label_precision.append(p2)\n",
    "    val_label_recall.append(r2)  \n",
    "    pseudo_label_df, cleaned_unlabelled_2 = pseudo_label_creation(list_classes,trained_model,cleaned_unlabelled_2)\n",
    "    #print('new_pseudo_labels')\n",
    "    size_new_labels = len(pseudo_label_df)\n",
    "    print(size_new_labels)\n",
    "    size_training.append(len(cleaned_train_2))\n",
    "    \n",
    "    if size_new_labels > min_new_labels:\n",
    "        cleaned_train_2 = cleaned_train_2.append(pseudo_label_df[['comment_text_cleaned', 'target']], ignore_index = True)"
   ]
  },
  {
   "cell_type": "code",
   "execution_count": 31,
   "metadata": {
    "scrolled": true
   },
   "outputs": [
    {
     "data": {
      "text/plain": [
       "Text(0, 0.5, 'Precision')"
      ]
     },
     "execution_count": 31,
     "metadata": {},
     "output_type": "execute_result"
    },
    {
     "data": {
      "image/png": "[encoded data removed]",
      "text/plain": [
       "<Figure size 432x288 with 1 Axes>"
      ]
     },
     "metadata": {
      "needs_background": "light"
     },
     "output_type": "display_data"
    }
   ],
   "source": [
    "plt.plot(size_training, val_precision, marker='s', markersize = 10)\n",
    "plt.xlabel('training_size')\n",
    "plt.ylabel('Precision')"
   ]
  },
  {
   "cell_type": "code",
   "execution_count": 32,
   "metadata": {},
   "outputs": [
    {
     "data": {
      "text/plain": [
       "Text(0, 0.5, 'Precision')"
      ]
     },
     "execution_count": 32,
     "metadata": {},
     "output_type": "execute_result"
    },
    {
     "data": {
      "image/png": "[encoded data removed]",
      "text/plain": [
       "<Figure size 432x288 with 1 Axes>"
      ]
     },
     "metadata": {
      "needs_background": "light"
     },
     "output_type": "display_data"
    }
   ],
   "source": [
    "plt.plot(size_training, val_label_precision, marker='s', markersize = 10)\n",
    "plt.xlabel('training_size')\n",
    "plt.ylabel('Precision')"
   ]
  },
  {
   "cell_type": "code",
   "execution_count": 33,
   "metadata": {
    "scrolled": false
   },
   "outputs": [
    {
     "data": {
      "text/plain": [
       "Text(0, 0.5, 'Recall')"
      ]
     },
     "execution_count": 33,
     "metadata": {},
     "output_type": "execute_result"
    },
    {
     "data": {
      "image/png": "[encoded data removed]",
      "text/plain": [
       "<Figure size 432x288 with 1 Axes>"
      ]
     },
     "metadata": {
      "needs_background": "light"
     },
     "output_type": "display_data"
    }
   ],
   "source": [
    "plt.plot(size_training, val_recall, marker='s', markersize = 10)\n",
    "plt.xlabel('training_size')\n",
    "plt.ylabel('Recall')"
   ]
  },
  {
   "cell_type": "code",
   "execution_count": 34,
   "metadata": {},
   "outputs": [
    {
     "data": {
      "text/plain": [
       "Text(0, 0.5, 'Recall')"
      ]
     },
     "execution_count": 34,
     "metadata": {},
     "output_type": "execute_result"
    },
    {
     "data": {
      "image/png": "[encoded data removed]",
      "text/plain": [
       "<Figure size 432x288 with 1 Axes>"
      ]
     },
     "metadata": {
      "needs_background": "light"
     },
     "output_type": "display_data"
    }
   ],
   "source": [
    "plt.plot(size_training, val_label_recall, marker='s', markersize = 10)\n",
    "plt.xlabel('training_size')\n",
    "plt.ylabel('Recall')"
   ]
  },
  {
   "cell_type": "code",
   "execution_count": 35,
   "metadata": {},
   "outputs": [
    {
     "data": {
      "text/plain": [
       "<AxesSubplot:>"
      ]
     },
     "execution_count": 35,
     "metadata": {},
     "output_type": "execute_result"
    },
    {
     "data": {
      "image/png": "[encoded data removed]",
      "text/plain": [
       "<Figure size 432x288 with 1 Axes>"
      ]
     },
     "metadata": {
      "needs_background": "light"
     },
     "output_type": "display_data"
    }
   ],
   "source": [
    "df_precision = pd.DataFrame(val_precision)\n",
    "df_precision.plot()"
   ]
  },
  {
   "cell_type": "code",
   "execution_count": 36,
   "metadata": {},
   "outputs": [
    {
     "data": {
      "text/plain": [
       "<AxesSubplot:>"
      ]
     },
     "execution_count": 36,
     "metadata": {},
     "output_type": "execute_result"
    },
    {
     "data": {
      "image/png": "[encoded data removed]",
      "text/plain": [
       "<Figure size 432x288 with 1 Axes>"
      ]
     },
     "metadata": {
      "needs_background": "light"
     },
     "output_type": "display_data"
    }
   ],
   "source": [
    "df_recall = pd.DataFrame(val_recall)\n",
    "df_recall.plot()"
   ]
  },
  {
   "cell_type": "code",
   "execution_count": null,
   "metadata": {},
   "outputs": [],
   "source": []
  }
 ],
 "metadata": {
  "kernelspec": {
   "display_name": "Python 3",
   "language": "python",
   "name": "python3"
  },
  "language_info": {
   "codemirror_mode": {
    "name": "ipython",
    "version": 3
   },
   "file_extension": ".py",
   "mimetype": "text/x-python",
   "name": "python",
   "nbconvert_exporter": "python",
   "pygments_lexer": "ipython3",
   "version": "3.8.5"
  }
 },
 "nbformat": 4,
 "nbformat_minor": 4
}

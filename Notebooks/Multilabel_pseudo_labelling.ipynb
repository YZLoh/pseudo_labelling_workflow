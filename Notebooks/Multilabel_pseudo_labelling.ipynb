{
 "cells": [
  {
   "cell_type": "code",
   "execution_count": 1,
   "metadata": {},
   "outputs": [],
   "source": [
    "import pandas as pd\n",
    "import numpy as np\n",
    "from sklearn.model_selection import train_test_split\n",
    "from sklearn.feature_extraction.text import TfidfVectorizer\n",
    "from skmultilearn.adapt import MLkNN\n",
    "from sklearn.metrics import hamming_loss, accuracy_score\n",
    "import string \n",
    "\n",
    "import matplotlib.pyplot as plt\n",
    "from nltk.corpus import stopwords\n",
    "from nltk.stem import PorterStemmer\n",
    "from sklearn.feature_extraction.text import TfidfVectorizer\n",
    "from sklearn.pipeline import Pipeline\n",
    "from sklearn.metrics import classification_report, confusion_matrix, precision_score, recall_score, roc_auc_score \n",
    "from sklearn.model_selection import train_test_split\n",
    "from sklearn.feature_selection import SelectKBest, chi2\n",
    "from sklearn.ensemble import RandomForestClassifier\n",
    "\n",
    "from nltk.tokenize import word_tokenize\n",
    "\n"
   ]
  },
  {
   "cell_type": "markdown",
   "metadata": {},
   "source": [
    "1) Split the full dataset into 0.9 train, 0.1 validation. 0.1 validation is all labelled. <br>\n",
    "2) The 0.9 train is split into 0.2 labelled, 0.8 unlabelled data. <br>\n",
    "3) Create a vectorizer (I am using tf-idf) for x value of labeled train, test and unlabeled training datasets<br>\n",
    "4) Build model from labelled train and label the unlabeled training datasets. Measure for F1 scores. <br>\n",
    "5) As multilabel/multiclass will output multiple probabilities, only models that have a result higher than the threshold can be accepted. <br>\n",
    "6) Concatting train labeled data with prediction of unlabeled that have probability > 0.74 (threshold based on journal). This new pseudo-labelled data will be added to the train labelled data, and a second model (will keep to the same classifier) will be run from the new train data sets. <br>\n",
    "7)Use the second model to predict the remaining of unlabeled data, then iterate step 3 until there are no probability of predicted pseudo-labelled>0.74\n"
   ]
  },
  {
   "cell_type": "code",
   "execution_count": 2,
   "metadata": {},
   "outputs": [],
   "source": [
    "#this 0.2/0.8 split is not a hard criteria\n"
   ]
  },
  {
   "cell_type": "raw",
   "metadata": {},
   "source": [
    "path = '../Multilabel_text_classifcation/jigsaw-toxic-comment-classification-challenge/'\n",
    "df = pd.read_csv(path+'train.csv')\n",
    "df_test = pd.read_csv(path+'test.csv')\n",
    "df_submission = pd.read_csv(path+'sample_submission.csv')\n",
    "\n",
    "df_sample_without_replacement = df.sample(2000)\n",
    "df_validation_labelled = df_sample_without_replacement.iloc[:1000]\n",
    "df_train_labelled = df_sample_without_replacement.iloc[1000:]\n",
    "df_test_sample = df_test.sample(4000)"
   ]
  },
  {
   "cell_type": "raw",
   "metadata": {},
   "source": [
    "df_validation_labelled.to_csv('validation_labelled_sample.csv', index=False)\n",
    "df_train_labelled.to_csv('train_labelled_sample.csv', index=False)\n",
    "df_test_sample.to_csv('df_test_sample.csv', index=False)\n"
   ]
  },
  {
   "cell_type": "code",
   "execution_count": 3,
   "metadata": {},
   "outputs": [],
   "source": [
    "df_train_labelled = pd.read_csv('train_labelled_sample.csv')\n",
    "df_validation_labelled = pd.read_csv('validation_labelled_sample.csv')\n",
    "df_test_sample = pd.read_csv('df_test_sample.csv')"
   ]
  },
  {
   "cell_type": "code",
   "execution_count": 4,
   "metadata": {
    "scrolled": true
   },
   "outputs": [
    {
     "data": {
      "text/html": [
       "<div>\n",
       "<style scoped>\n",
       "    .dataframe tbody tr th:only-of-type {\n",
       "        vertical-align: middle;\n",
       "    }\n",
       "\n",
       "    .dataframe tbody tr th {\n",
       "        vertical-align: top;\n",
       "    }\n",
       "\n",
       "    .dataframe thead th {\n",
       "        text-align: right;\n",
       "    }\n",
       "</style>\n",
       "<table border=\"1\" class=\"dataframe\">\n",
       "  <thead>\n",
       "    <tr style=\"text-align: right;\">\n",
       "      <th></th>\n",
       "      <th>id</th>\n",
       "      <th>comment_text</th>\n",
       "      <th>toxic</th>\n",
       "      <th>severe_toxic</th>\n",
       "      <th>obscene</th>\n",
       "      <th>threat</th>\n",
       "      <th>insult</th>\n",
       "      <th>identity_hate</th>\n",
       "    </tr>\n",
       "  </thead>\n",
       "  <tbody>\n",
       "    <tr>\n",
       "      <th>0</th>\n",
       "      <td>518d1baa4ee62c06</td>\n",
       "      <td>\"@Josh3580 of course you are going to oppose i...</td>\n",
       "      <td>0</td>\n",
       "      <td>0</td>\n",
       "      <td>0</td>\n",
       "      <td>0</td>\n",
       "      <td>0</td>\n",
       "      <td>0</td>\n",
       "    </tr>\n",
       "    <tr>\n",
       "      <th>1</th>\n",
       "      <td>4682125b685509da</td>\n",
       "      <td>Copyright Violations\\nZhangshou:  By now, you ...</td>\n",
       "      <td>0</td>\n",
       "      <td>0</td>\n",
       "      <td>0</td>\n",
       "      <td>0</td>\n",
       "      <td>0</td>\n",
       "      <td>0</td>\n",
       "    </tr>\n",
       "    <tr>\n",
       "      <th>2</th>\n",
       "      <td>573c6e9dd5614ade</td>\n",
       "      <td>Edit request from 120.63.15.134, 29 August 201...</td>\n",
       "      <td>0</td>\n",
       "      <td>0</td>\n",
       "      <td>0</td>\n",
       "      <td>0</td>\n",
       "      <td>0</td>\n",
       "      <td>0</td>\n",
       "    </tr>\n",
       "    <tr>\n",
       "      <th>3</th>\n",
       "      <td>7470c1caba22935e</td>\n",
       "      <td>\"I'm around again... Thanks for the comments M...</td>\n",
       "      <td>0</td>\n",
       "      <td>0</td>\n",
       "      <td>0</td>\n",
       "      <td>0</td>\n",
       "      <td>0</td>\n",
       "      <td>0</td>\n",
       "    </tr>\n",
       "    <tr>\n",
       "      <th>4</th>\n",
       "      <td>8a24aab08fd0abef</td>\n",
       "      <td>, as you did at Meagan Good, you may be blocke...</td>\n",
       "      <td>0</td>\n",
       "      <td>0</td>\n",
       "      <td>0</td>\n",
       "      <td>0</td>\n",
       "      <td>0</td>\n",
       "      <td>0</td>\n",
       "    </tr>\n",
       "    <tr>\n",
       "      <th>...</th>\n",
       "      <td>...</td>\n",
       "      <td>...</td>\n",
       "      <td>...</td>\n",
       "      <td>...</td>\n",
       "      <td>...</td>\n",
       "      <td>...</td>\n",
       "      <td>...</td>\n",
       "      <td>...</td>\n",
       "    </tr>\n",
       "    <tr>\n",
       "      <th>995</th>\n",
       "      <td>1add881f75c8b51b</td>\n",
       "      <td>Looks like instead of black choppers, your see...</td>\n",
       "      <td>0</td>\n",
       "      <td>0</td>\n",
       "      <td>0</td>\n",
       "      <td>0</td>\n",
       "      <td>0</td>\n",
       "      <td>0</td>\n",
       "    </tr>\n",
       "    <tr>\n",
       "      <th>996</th>\n",
       "      <td>9a3ad8998d4ce52b</td>\n",
       "      <td>\"\\n\\n BLACK DAHLIA MURDER IS NOT 'MELODIC DEAT...</td>\n",
       "      <td>1</td>\n",
       "      <td>0</td>\n",
       "      <td>1</td>\n",
       "      <td>0</td>\n",
       "      <td>1</td>\n",
       "      <td>0</td>\n",
       "    </tr>\n",
       "    <tr>\n",
       "      <th>997</th>\n",
       "      <td>f861da2322f1f9db</td>\n",
       "      <td>\"\\n\\n Rugby \\n\\nHey, I saw your contribution t...</td>\n",
       "      <td>0</td>\n",
       "      <td>0</td>\n",
       "      <td>0</td>\n",
       "      <td>0</td>\n",
       "      <td>0</td>\n",
       "      <td>0</td>\n",
       "    </tr>\n",
       "    <tr>\n",
       "      <th>998</th>\n",
       "      <td>9bfb9305ea9c4293</td>\n",
       "      <td>Not that it matters, because thanks to Moriori...</td>\n",
       "      <td>0</td>\n",
       "      <td>0</td>\n",
       "      <td>0</td>\n",
       "      <td>0</td>\n",
       "      <td>0</td>\n",
       "      <td>0</td>\n",
       "    </tr>\n",
       "    <tr>\n",
       "      <th>999</th>\n",
       "      <td>3079fa66b6a930cb</td>\n",
       "      <td>Ok they want me to put a valid reason for the ...</td>\n",
       "      <td>0</td>\n",
       "      <td>0</td>\n",
       "      <td>0</td>\n",
       "      <td>0</td>\n",
       "      <td>0</td>\n",
       "      <td>0</td>\n",
       "    </tr>\n",
       "  </tbody>\n",
       "</table>\n",
       "<p>1000 rows × 8 columns</p>\n",
       "</div>"
      ],
      "text/plain": [
       "                   id                                       comment_text  \\\n",
       "0    518d1baa4ee62c06  \"@Josh3580 of course you are going to oppose i...   \n",
       "1    4682125b685509da  Copyright Violations\\nZhangshou:  By now, you ...   \n",
       "2    573c6e9dd5614ade  Edit request from 120.63.15.134, 29 August 201...   \n",
       "3    7470c1caba22935e  \"I'm around again... Thanks for the comments M...   \n",
       "4    8a24aab08fd0abef  , as you did at Meagan Good, you may be blocke...   \n",
       "..                ...                                                ...   \n",
       "995  1add881f75c8b51b  Looks like instead of black choppers, your see...   \n",
       "996  9a3ad8998d4ce52b  \"\\n\\n BLACK DAHLIA MURDER IS NOT 'MELODIC DEAT...   \n",
       "997  f861da2322f1f9db  \"\\n\\n Rugby \\n\\nHey, I saw your contribution t...   \n",
       "998  9bfb9305ea9c4293  Not that it matters, because thanks to Moriori...   \n",
       "999  3079fa66b6a930cb  Ok they want me to put a valid reason for the ...   \n",
       "\n",
       "     toxic  severe_toxic  obscene  threat  insult  identity_hate  \n",
       "0        0             0        0       0       0              0  \n",
       "1        0             0        0       0       0              0  \n",
       "2        0             0        0       0       0              0  \n",
       "3        0             0        0       0       0              0  \n",
       "4        0             0        0       0       0              0  \n",
       "..     ...           ...      ...     ...     ...            ...  \n",
       "995      0             0        0       0       0              0  \n",
       "996      1             0        1       0       1              0  \n",
       "997      0             0        0       0       0              0  \n",
       "998      0             0        0       0       0              0  \n",
       "999      0             0        0       0       0              0  \n",
       "\n",
       "[1000 rows x 8 columns]"
      ]
     },
     "execution_count": 4,
     "metadata": {},
     "output_type": "execute_result"
    }
   ],
   "source": [
    "df_train_labelled"
   ]
  },
  {
   "cell_type": "code",
   "execution_count": 5,
   "metadata": {},
   "outputs": [
    {
     "data": {
      "text/plain": [
       "0      [0, 0, 0, 0, 0, 0]\n",
       "1      [0, 0, 0, 0, 0, 0]\n",
       "2      [0, 0, 0, 0, 0, 0]\n",
       "3      [0, 0, 0, 0, 0, 0]\n",
       "4      [0, 0, 0, 0, 0, 0]\n",
       "              ...        \n",
       "995    [0, 0, 0, 0, 0, 0]\n",
       "996    [1, 0, 1, 0, 1, 0]\n",
       "997    [0, 0, 0, 0, 0, 0]\n",
       "998    [0, 0, 0, 0, 0, 0]\n",
       "999    [0, 0, 0, 0, 0, 0]\n",
       "Length: 1000, dtype: object"
      ]
     },
     "execution_count": 5,
     "metadata": {},
     "output_type": "execute_result"
    }
   ],
   "source": [
    "df_train_labelled.apply(lambda x: np.array([x['toxic'], x['severe_toxic'], x['obscene'], x['threat'],x['insult'], x['identity_hate']]), axis = 1)"
   ]
  },
  {
   "cell_type": "code",
   "execution_count": 6,
   "metadata": {
    "scrolled": true
   },
   "outputs": [
    {
     "data": {
      "text/html": [
       "<div>\n",
       "<style scoped>\n",
       "    .dataframe tbody tr th:only-of-type {\n",
       "        vertical-align: middle;\n",
       "    }\n",
       "\n",
       "    .dataframe tbody tr th {\n",
       "        vertical-align: top;\n",
       "    }\n",
       "\n",
       "    .dataframe thead th {\n",
       "        text-align: right;\n",
       "    }\n",
       "</style>\n",
       "<table border=\"1\" class=\"dataframe\">\n",
       "  <thead>\n",
       "    <tr style=\"text-align: right;\">\n",
       "      <th></th>\n",
       "      <th>id</th>\n",
       "      <th>comment_text</th>\n",
       "      <th>target</th>\n",
       "    </tr>\n",
       "  </thead>\n",
       "  <tbody>\n",
       "    <tr>\n",
       "      <th>0</th>\n",
       "      <td>518d1baa4ee62c06</td>\n",
       "      <td>\"@Josh3580 of course you are going to oppose i...</td>\n",
       "      <td>[0, 0, 0, 0, 0, 0]</td>\n",
       "    </tr>\n",
       "    <tr>\n",
       "      <th>1</th>\n",
       "      <td>4682125b685509da</td>\n",
       "      <td>Copyright Violations\\nZhangshou:  By now, you ...</td>\n",
       "      <td>[0, 0, 0, 0, 0, 0]</td>\n",
       "    </tr>\n",
       "    <tr>\n",
       "      <th>2</th>\n",
       "      <td>573c6e9dd5614ade</td>\n",
       "      <td>Edit request from 120.63.15.134, 29 August 201...</td>\n",
       "      <td>[0, 0, 0, 0, 0, 0]</td>\n",
       "    </tr>\n",
       "    <tr>\n",
       "      <th>3</th>\n",
       "      <td>7470c1caba22935e</td>\n",
       "      <td>\"I'm around again... Thanks for the comments M...</td>\n",
       "      <td>[0, 0, 0, 0, 0, 0]</td>\n",
       "    </tr>\n",
       "    <tr>\n",
       "      <th>4</th>\n",
       "      <td>8a24aab08fd0abef</td>\n",
       "      <td>, as you did at Meagan Good, you may be blocke...</td>\n",
       "      <td>[0, 0, 0, 0, 0, 0]</td>\n",
       "    </tr>\n",
       "    <tr>\n",
       "      <th>...</th>\n",
       "      <td>...</td>\n",
       "      <td>...</td>\n",
       "      <td>...</td>\n",
       "    </tr>\n",
       "    <tr>\n",
       "      <th>995</th>\n",
       "      <td>1add881f75c8b51b</td>\n",
       "      <td>Looks like instead of black choppers, your see...</td>\n",
       "      <td>[0, 0, 0, 0, 0, 0]</td>\n",
       "    </tr>\n",
       "    <tr>\n",
       "      <th>996</th>\n",
       "      <td>9a3ad8998d4ce52b</td>\n",
       "      <td>\"\\n\\n BLACK DAHLIA MURDER IS NOT 'MELODIC DEAT...</td>\n",
       "      <td>[1, 0, 1, 0, 1, 0]</td>\n",
       "    </tr>\n",
       "    <tr>\n",
       "      <th>997</th>\n",
       "      <td>f861da2322f1f9db</td>\n",
       "      <td>\"\\n\\n Rugby \\n\\nHey, I saw your contribution t...</td>\n",
       "      <td>[0, 0, 0, 0, 0, 0]</td>\n",
       "    </tr>\n",
       "    <tr>\n",
       "      <th>998</th>\n",
       "      <td>9bfb9305ea9c4293</td>\n",
       "      <td>Not that it matters, because thanks to Moriori...</td>\n",
       "      <td>[0, 0, 0, 0, 0, 0]</td>\n",
       "    </tr>\n",
       "    <tr>\n",
       "      <th>999</th>\n",
       "      <td>3079fa66b6a930cb</td>\n",
       "      <td>Ok they want me to put a valid reason for the ...</td>\n",
       "      <td>[0, 0, 0, 0, 0, 0]</td>\n",
       "    </tr>\n",
       "  </tbody>\n",
       "</table>\n",
       "<p>1000 rows × 3 columns</p>\n",
       "</div>"
      ],
      "text/plain": [
       "                   id                                       comment_text  \\\n",
       "0    518d1baa4ee62c06  \"@Josh3580 of course you are going to oppose i...   \n",
       "1    4682125b685509da  Copyright Violations\\nZhangshou:  By now, you ...   \n",
       "2    573c6e9dd5614ade  Edit request from 120.63.15.134, 29 August 201...   \n",
       "3    7470c1caba22935e  \"I'm around again... Thanks for the comments M...   \n",
       "4    8a24aab08fd0abef  , as you did at Meagan Good, you may be blocke...   \n",
       "..                ...                                                ...   \n",
       "995  1add881f75c8b51b  Looks like instead of black choppers, your see...   \n",
       "996  9a3ad8998d4ce52b  \"\\n\\n BLACK DAHLIA MURDER IS NOT 'MELODIC DEAT...   \n",
       "997  f861da2322f1f9db  \"\\n\\n Rugby \\n\\nHey, I saw your contribution t...   \n",
       "998  9bfb9305ea9c4293  Not that it matters, because thanks to Moriori...   \n",
       "999  3079fa66b6a930cb  Ok they want me to put a valid reason for the ...   \n",
       "\n",
       "                 target  \n",
       "0    [0, 0, 0, 0, 0, 0]  \n",
       "1    [0, 0, 0, 0, 0, 0]  \n",
       "2    [0, 0, 0, 0, 0, 0]  \n",
       "3    [0, 0, 0, 0, 0, 0]  \n",
       "4    [0, 0, 0, 0, 0, 0]  \n",
       "..                  ...  \n",
       "995  [0, 0, 0, 0, 0, 0]  \n",
       "996  [1, 0, 1, 0, 1, 0]  \n",
       "997  [0, 0, 0, 0, 0, 0]  \n",
       "998  [0, 0, 0, 0, 0, 0]  \n",
       "999  [0, 0, 0, 0, 0, 0]  \n",
       "\n",
       "[1000 rows x 3 columns]"
      ]
     },
     "execution_count": 6,
     "metadata": {},
     "output_type": "execute_result"
    }
   ],
   "source": [
    "df_train_labelled['target'] = df_train_labelled.apply(lambda x:[x['toxic'], x['severe_toxic'], x['obscene'], x['threat'],x['insult'], x['identity_hate']], axis = 1)\n",
    "df_train_labelled = df_train_labelled.drop(['toxic','severe_toxic','obscene','threat','insult', 'identity_hate'], axis = 1)\n",
    "df_train_labelled"
   ]
  },
  {
   "cell_type": "code",
   "execution_count": 7,
   "metadata": {
    "scrolled": true
   },
   "outputs": [
    {
     "data": {
      "text/html": [
       "<div>\n",
       "<style scoped>\n",
       "    .dataframe tbody tr th:only-of-type {\n",
       "        vertical-align: middle;\n",
       "    }\n",
       "\n",
       "    .dataframe tbody tr th {\n",
       "        vertical-align: top;\n",
       "    }\n",
       "\n",
       "    .dataframe thead th {\n",
       "        text-align: right;\n",
       "    }\n",
       "</style>\n",
       "<table border=\"1\" class=\"dataframe\">\n",
       "  <thead>\n",
       "    <tr style=\"text-align: right;\">\n",
       "      <th></th>\n",
       "      <th>id</th>\n",
       "      <th>comment_text</th>\n",
       "    </tr>\n",
       "  </thead>\n",
       "  <tbody>\n",
       "    <tr>\n",
       "      <th>0</th>\n",
       "      <td>2d8fbd7002d1bbde</td>\n",
       "      <td>Thank you for experimenting with the page Drif...</td>\n",
       "    </tr>\n",
       "    <tr>\n",
       "      <th>1</th>\n",
       "      <td>5c547ec9e6d8e14d</td>\n",
       "      <td>:: You have added no useful information to Per...</td>\n",
       "    </tr>\n",
       "    <tr>\n",
       "      <th>2</th>\n",
       "      <td>1d372ff0a1da78a4</td>\n",
       "      <td>*Oppose - Romanisation requires FK, not FC.</td>\n",
       "    </tr>\n",
       "    <tr>\n",
       "      <th>3</th>\n",
       "      <td>ac5e86d8efdc7b94</td>\n",
       "      <td>:Cutter, Wisconsin-thank you-</td>\n",
       "    </tr>\n",
       "    <tr>\n",
       "      <th>4</th>\n",
       "      <td>0ae9990eed171c6a</td>\n",
       "      <td>== Armillaria root rot == \\n\\n I figured I sho...</td>\n",
       "    </tr>\n",
       "    <tr>\n",
       "      <th>...</th>\n",
       "      <td>...</td>\n",
       "      <td>...</td>\n",
       "    </tr>\n",
       "    <tr>\n",
       "      <th>3995</th>\n",
       "      <td>2080b2eb59ecfe3d</td>\n",
       "      <td>\" \\n\\n == Pheonix V. == \\n\\n You're welcome. I...</td>\n",
       "    </tr>\n",
       "    <tr>\n",
       "      <th>3996</th>\n",
       "      <td>5b4d04460d5b8773</td>\n",
       "      <td>== Insertion of penis into a pig's mouth == \\n...</td>\n",
       "    </tr>\n",
       "    <tr>\n",
       "      <th>3997</th>\n",
       "      <td>56495fd916ec5a89</td>\n",
       "      <td>\" \\n\\n == The history?! == \\n\\n Who wrote that...</td>\n",
       "    </tr>\n",
       "    <tr>\n",
       "      <th>3998</th>\n",
       "      <td>7ca8e71434a0c6b6</td>\n",
       "      <td>==Categories for discussion nomination of Cate...</td>\n",
       "    </tr>\n",
       "    <tr>\n",
       "      <th>3999</th>\n",
       "      <td>05adf3438c712e02</td>\n",
       "      <td>YOU KILLED TOWN! YOU KILLED TOWN! YOU KILLED T...</td>\n",
       "    </tr>\n",
       "  </tbody>\n",
       "</table>\n",
       "<p>4000 rows × 2 columns</p>\n",
       "</div>"
      ],
      "text/plain": [
       "                    id                                       comment_text\n",
       "0     2d8fbd7002d1bbde  Thank you for experimenting with the page Drif...\n",
       "1     5c547ec9e6d8e14d  :: You have added no useful information to Per...\n",
       "2     1d372ff0a1da78a4        *Oppose - Romanisation requires FK, not FC.\n",
       "3     ac5e86d8efdc7b94                      :Cutter, Wisconsin-thank you-\n",
       "4     0ae9990eed171c6a  == Armillaria root rot == \\n\\n I figured I sho...\n",
       "...                ...                                                ...\n",
       "3995  2080b2eb59ecfe3d  \" \\n\\n == Pheonix V. == \\n\\n You're welcome. I...\n",
       "3996  5b4d04460d5b8773  == Insertion of penis into a pig's mouth == \\n...\n",
       "3997  56495fd916ec5a89  \" \\n\\n == The history?! == \\n\\n Who wrote that...\n",
       "3998  7ca8e71434a0c6b6  ==Categories for discussion nomination of Cate...\n",
       "3999  05adf3438c712e02  YOU KILLED TOWN! YOU KILLED TOWN! YOU KILLED T...\n",
       "\n",
       "[4000 rows x 2 columns]"
      ]
     },
     "execution_count": 7,
     "metadata": {},
     "output_type": "execute_result"
    }
   ],
   "source": [
    "df_test_sample"
   ]
  },
  {
   "cell_type": "code",
   "execution_count": 8,
   "metadata": {
    "scrolled": true
   },
   "outputs": [
    {
     "data": {
      "text/html": [
       "<div>\n",
       "<style scoped>\n",
       "    .dataframe tbody tr th:only-of-type {\n",
       "        vertical-align: middle;\n",
       "    }\n",
       "\n",
       "    .dataframe tbody tr th {\n",
       "        vertical-align: top;\n",
       "    }\n",
       "\n",
       "    .dataframe thead th {\n",
       "        text-align: right;\n",
       "    }\n",
       "</style>\n",
       "<table border=\"1\" class=\"dataframe\">\n",
       "  <thead>\n",
       "    <tr style=\"text-align: right;\">\n",
       "      <th></th>\n",
       "      <th>id</th>\n",
       "      <th>comment_text</th>\n",
       "      <th>target</th>\n",
       "    </tr>\n",
       "  </thead>\n",
       "  <tbody>\n",
       "    <tr>\n",
       "      <th>0</th>\n",
       "      <td>1ffccb4076cbbac7</td>\n",
       "      <td>\"\\n\\n You have no idea... \\n\\n...how honored I...</td>\n",
       "      <td>[0, 0, 0, 0, 0, 0]</td>\n",
       "    </tr>\n",
       "    <tr>\n",
       "      <th>1</th>\n",
       "      <td>a36cc13a4c351525</td>\n",
       "      <td>By definition, there is no paraphiliac flirting.</td>\n",
       "      <td>[0, 0, 0, 0, 0, 0]</td>\n",
       "    </tr>\n",
       "    <tr>\n",
       "      <th>2</th>\n",
       "      <td>3321525528be3a31</td>\n",
       "      <td>\"\\n\\nBelow I am pasting an email from a histor...</td>\n",
       "      <td>[0, 0, 0, 0, 0, 0]</td>\n",
       "    </tr>\n",
       "    <tr>\n",
       "      <th>3</th>\n",
       "      <td>4a98b516f7cef0e7</td>\n",
       "      <td>I note that you avoid answering the question c...</td>\n",
       "      <td>[0, 0, 0, 0, 0, 0]</td>\n",
       "    </tr>\n",
       "    <tr>\n",
       "      <th>4</th>\n",
       "      <td>0639c3b95fa665c7</td>\n",
       "      <td>Private request for admin intervention ) \\n\\nH...</td>\n",
       "      <td>[0, 0, 0, 0, 0, 0]</td>\n",
       "    </tr>\n",
       "    <tr>\n",
       "      <th>...</th>\n",
       "      <td>...</td>\n",
       "      <td>...</td>\n",
       "      <td>...</td>\n",
       "    </tr>\n",
       "    <tr>\n",
       "      <th>995</th>\n",
       "      <td>43893ddfd1beca02</td>\n",
       "      <td>I'm not one of your students. Talk to me like ...</td>\n",
       "      <td>[1, 0, 0, 0, 0, 0]</td>\n",
       "    </tr>\n",
       "    <tr>\n",
       "      <th>996</th>\n",
       "      <td>9f803165f5c43ef9</td>\n",
       "      <td>\"\\nCall it \"\"Neighborhoods\"\" and have it as a ...</td>\n",
       "      <td>[0, 0, 0, 0, 0, 0]</td>\n",
       "    </tr>\n",
       "    <tr>\n",
       "      <th>997</th>\n",
       "      <td>472d7fc518ef1742</td>\n",
       "      <td>\"\\nI try to never block for warring if protect...</td>\n",
       "      <td>[0, 0, 0, 0, 0, 0]</td>\n",
       "    </tr>\n",
       "    <tr>\n",
       "      <th>998</th>\n",
       "      <td>ecb592c762bcfda3</td>\n",
       "      <td>\"\\n\\n Translating \\n\\nHi. I don't think there ...</td>\n",
       "      <td>[0, 0, 0, 0, 0, 0]</td>\n",
       "    </tr>\n",
       "    <tr>\n",
       "      <th>999</th>\n",
       "      <td>58339bf6af32e9b4</td>\n",
       "      <td>Loads of red links \\n\\nNotability must certain...</td>\n",
       "      <td>[0, 0, 0, 0, 0, 0]</td>\n",
       "    </tr>\n",
       "  </tbody>\n",
       "</table>\n",
       "<p>1000 rows × 3 columns</p>\n",
       "</div>"
      ],
      "text/plain": [
       "                   id                                       comment_text  \\\n",
       "0    1ffccb4076cbbac7  \"\\n\\n You have no idea... \\n\\n...how honored I...   \n",
       "1    a36cc13a4c351525   By definition, there is no paraphiliac flirting.   \n",
       "2    3321525528be3a31  \"\\n\\nBelow I am pasting an email from a histor...   \n",
       "3    4a98b516f7cef0e7  I note that you avoid answering the question c...   \n",
       "4    0639c3b95fa665c7  Private request for admin intervention ) \\n\\nH...   \n",
       "..                ...                                                ...   \n",
       "995  43893ddfd1beca02  I'm not one of your students. Talk to me like ...   \n",
       "996  9f803165f5c43ef9  \"\\nCall it \"\"Neighborhoods\"\" and have it as a ...   \n",
       "997  472d7fc518ef1742  \"\\nI try to never block for warring if protect...   \n",
       "998  ecb592c762bcfda3  \"\\n\\n Translating \\n\\nHi. I don't think there ...   \n",
       "999  58339bf6af32e9b4  Loads of red links \\n\\nNotability must certain...   \n",
       "\n",
       "                 target  \n",
       "0    [0, 0, 0, 0, 0, 0]  \n",
       "1    [0, 0, 0, 0, 0, 0]  \n",
       "2    [0, 0, 0, 0, 0, 0]  \n",
       "3    [0, 0, 0, 0, 0, 0]  \n",
       "4    [0, 0, 0, 0, 0, 0]  \n",
       "..                  ...  \n",
       "995  [1, 0, 0, 0, 0, 0]  \n",
       "996  [0, 0, 0, 0, 0, 0]  \n",
       "997  [0, 0, 0, 0, 0, 0]  \n",
       "998  [0, 0, 0, 0, 0, 0]  \n",
       "999  [0, 0, 0, 0, 0, 0]  \n",
       "\n",
       "[1000 rows x 3 columns]"
      ]
     },
     "execution_count": 8,
     "metadata": {},
     "output_type": "execute_result"
    }
   ],
   "source": [
    "df_validation_labelled['target'] = df_validation_labelled.apply(lambda x: [x['toxic'], x['severe_toxic'], x['obscene'], x['threat'],x['insult'], x['identity_hate']], axis = 1)\n",
    "df_validation_labelled = df_validation_labelled.drop(['toxic','severe_toxic','obscene','threat','insult', 'identity_hate'], axis = 1)\n",
    "df_validation_labelled"
   ]
  },
  {
   "cell_type": "markdown",
   "metadata": {},
   "source": [
    "# Multilabel classifier "
   ]
  },
  {
   "cell_type": "code",
   "execution_count": 9,
   "metadata": {},
   "outputs": [],
   "source": [
    "def training_model(X_train,y_train,vectorizer): \n",
    "    pipeline = Pipeline([('vect', vectorizer),\n",
    "                         ('chi',  SelectKBest(chi2, k=1200)),\n",
    "                         ('clf', RandomForestClassifier())])\n",
    "    model = pipeline.fit(X_train, y_train) #only used in the trained data\n",
    "    return model\n",
    "\n",
    "def cleaning_data(part_df):\n",
    "    words = stopwords.words(\"english\")\n",
    "    part_df['comment_text_cleaned']= part_df['comment_text'].apply(lambda x: word_tokenize(x))\n",
    "    part_df['comment_text_cleaned']= part_df['comment_text_cleaned'].apply(lambda x: [i for i in x if i not in words])\n",
    "    part_df['comment_text_cleaned']= part_df['comment_text_cleaned'].apply(lambda x: \" \".join([i for i in x if i not in string.punctuation]))\n",
    "    return part_df\n",
    "\n",
    "def vectorized_data(part_df):\n",
    "    vectorizer = TfidfVectorizer(min_df= 3, stop_words=\"english\", sublinear_tf=True, norm='l2', ngram_range=(1, 2))\n",
    "    #final_features = vectorizer.fit_transform(part_df['comment_text_cleaned']).toarray()\n",
    "    return vectorizer\n",
    "\n",
    "#sublinear_tfbool, default=False\n",
    "#Apply sublinear tf scaling, i.e. replace tf with 1 + log(tf).\n"
   ]
  },
  {
   "cell_type": "code",
   "execution_count": 10,
   "metadata": {},
   "outputs": [],
   "source": [
    "cleaned = cleaning_data(df_train_labelled)\n",
    "#cleaned = cleaning_data(df_train.sample(20000))\n",
    "cleaned_val = cleaning_data(df_validation_labelled)\n",
    "#cleaned_val = cleaning_data(df_val.sample(5000))\n",
    "# you have to clean also the comment_text in unlabelled data\n",
    "cleaned_unlabelled = cleaning_data(df_test_sample)"
   ]
  },
  {
   "cell_type": "code",
   "execution_count": 11,
   "metadata": {},
   "outputs": [],
   "source": [
    "# Multilabel binariser\n",
    "# https://scikit-learn.org/stable/modules/generated/sklearn.preprocessing.MultiLabelBinarizer.html"
   ]
  },
  {
   "cell_type": "code",
   "execution_count": 12,
   "metadata": {},
   "outputs": [
    {
     "data": {
      "text/plain": [
       "array([[1, 0],\n",
       "       [1, 0],\n",
       "       [1, 0],\n",
       "       ...,\n",
       "       [1, 0],\n",
       "       [1, 0],\n",
       "       [1, 0]])"
      ]
     },
     "execution_count": 12,
     "metadata": {},
     "output_type": "execute_result"
    }
   ],
   "source": [
    "vectorized = vectorized_data(cleaned)\n",
    "from sklearn.preprocessing import MultiLabelBinarizer\n",
    "mlb = MultiLabelBinarizer()\n",
    "\n",
    "X_train = cleaned['comment_text_cleaned']\n",
    "y_train = cleaned['target'].to_numpy()\n",
    "mlb.fit_transform(y_train)"
   ]
  },
  {
   "cell_type": "code",
   "execution_count": 13,
   "metadata": {},
   "outputs": [
    {
     "data": {
      "text/plain": [
       "array([[0, 0, 0, 0, 0, 0],\n",
       "       [0, 0, 0, 0, 0, 0],\n",
       "       [0, 0, 0, 0, 0, 0],\n",
       "       ...,\n",
       "       [0, 0, 0, 0, 0, 0],\n",
       "       [0, 0, 0, 0, 0, 0],\n",
       "       [0, 0, 0, 0, 0, 0]])"
      ]
     },
     "execution_count": 13,
     "metadata": {},
     "output_type": "execute_result"
    }
   ],
   "source": [
    "y_train = np.vstack(y_train) #array of arrays\n",
    "y_train"
   ]
  },
  {
   "cell_type": "code",
   "execution_count": 14,
   "metadata": {},
   "outputs": [
    {
     "data": {
      "text/plain": [
       "array([[1, 0],\n",
       "       [1, 0],\n",
       "       [1, 0],\n",
       "       ...,\n",
       "       [1, 0],\n",
       "       [1, 0],\n",
       "       [1, 0]])"
      ]
     },
     "execution_count": 14,
     "metadata": {},
     "output_type": "execute_result"
    }
   ],
   "source": [
    "mlb.fit_transform(y_train)"
   ]
  },
  {
   "cell_type": "code",
   "execution_count": 15,
   "metadata": {},
   "outputs": [],
   "source": [
    "#different formats - to discuss next time."
   ]
  },
  {
   "cell_type": "code",
   "execution_count": 16,
   "metadata": {},
   "outputs": [],
   "source": [
    "X_train = cleaned['comment_text_cleaned']\n",
    "y_train = cleaned['target'].values\n",
    "y_train = np.vstack(y_train)\n",
    "X_val = cleaned_val['comment_text_cleaned']\n",
    "y_val = cleaned_val['target'].values\n",
    "y_val = np.vstack(y_val)\n",
    "vectorizer = vectorized\n",
    "trained_model = training_model(X_train,y_train,vectorizer)"
   ]
  },
  {
   "cell_type": "code",
   "execution_count": 17,
   "metadata": {},
   "outputs": [
    {
     "data": {
      "text/plain": [
       "(2292,)"
      ]
     },
     "execution_count": 17,
     "metadata": {},
     "output_type": "execute_result"
    }
   ],
   "source": [
    "#total features\n",
    "doneby = vectorizer.fit(X_train)\n",
    "doneby.idf_.shape"
   ]
  },
  {
   "cell_type": "code",
   "execution_count": 18,
   "metadata": {},
   "outputs": [
    {
     "name": "stderr",
     "output_type": "stream",
     "text": [
      "C:\\Users\\User\\anaconda3\\lib\\site-packages\\sklearn\\metrics\\_classification.py:1248: UndefinedMetricWarning: Precision is ill-defined and being set to 0.0 in samples with no predicted labels. Use `zero_division` parameter to control this behavior.\n",
      "  _warn_prf(average, modifier, msg_start, len(result))\n",
      "C:\\Users\\User\\anaconda3\\lib\\site-packages\\sklearn\\metrics\\_classification.py:1248: UndefinedMetricWarning: Recall is ill-defined and being set to 0.0 in samples with no true labels. Use `zero_division` parameter to control this behavior.\n",
      "  _warn_prf(average, modifier, msg_start, len(result))\n"
     ]
    },
    {
     "data": {
      "text/plain": [
       "(0.03575, 0.024916666666666663)"
      ]
     },
     "execution_count": 18,
     "metadata": {},
     "output_type": "execute_result"
    }
   ],
   "source": [
    "y_val_pred=trained_model.predict(X_val)\n",
    "precision_score(y_val,y_val_pred,average = \"samples\"),recall_score(y_val,y_val_pred,average = \"samples\")"
   ]
  },
  {
   "cell_type": "code",
   "execution_count": 19,
   "metadata": {},
   "outputs": [
    {
     "data": {
      "text/plain": [
       "array([[0.9       , 0.1       ],\n",
       "       [0.53      , 0.47      ],\n",
       "       [0.63751035, 0.36248965],\n",
       "       ...,\n",
       "       [0.93466359, 0.06533641],\n",
       "       [1.        , 0.        ],\n",
       "       [0.67625031, 0.32374969]])"
      ]
     },
     "execution_count": 19,
     "metadata": {},
     "output_type": "execute_result"
    }
   ],
   "source": [
    "X_unlabelled = cleaned_unlabelled['comment_text_cleaned']\n",
    "y_prob = trained_model.predict_proba(X_unlabelled)\n",
    "y_prob[0]\n",
    "\n",
    "#for each label, it is grouped[0.93, 0.07]"
   ]
  },
  {
   "cell_type": "code",
   "execution_count": 20,
   "metadata": {
    "scrolled": true
   },
   "outputs": [
    {
     "data": {
      "text/plain": [
       "(4000, 2)"
      ]
     },
     "execution_count": 20,
     "metadata": {},
     "output_type": "execute_result"
    }
   ],
   "source": [
    "y_prob[0].shape\n",
    "#now we have 1 array for each label"
   ]
  },
  {
   "cell_type": "code",
   "execution_count": 21,
   "metadata": {},
   "outputs": [],
   "source": [
    "#To propagate labels for each of the 6 labels independently, then put everything together."
   ]
  },
  {
   "cell_type": "code",
   "execution_count": 22,
   "metadata": {},
   "outputs": [],
   "source": [
    "#toxic\tsevere_toxic\tobscene\tthreat\tinsult\tidentity_hate"
   ]
  },
  {
   "cell_type": "markdown",
   "metadata": {},
   "source": [
    "## Putting it together"
   ]
  },
  {
   "cell_type": "code",
   "execution_count": 41,
   "metadata": {},
   "outputs": [],
   "source": [
    "#repeats process until no new labels can be added\n",
    "def define_x_y(cleaned):\n",
    "    X_train = cleaned['comment_text_cleaned']\n",
    "    y_train = cleaned['target'].values\n",
    "    y_train = np.vstack(y_train)\n",
    "    return (X_train, y_train)\n",
    "\n",
    "def training_model(X_train,y_train,vectorizer): \n",
    "    pipeline = Pipeline([('vect', vectorizer),\n",
    "                         ('chi',  SelectKBest(chi2, k=1200)),\n",
    "                         ('clf', RandomForestClassifier())])\n",
    "    model = pipeline.fit(X_train, y_train) #only used in the trained data\n",
    "    return model\n",
    "\n",
    "def training_process(cleaned):\n",
    "    vectorized = vectorized_data(cleaned)\n",
    "    vectorizer = vectorized\n",
    "    X_train, y_train = define_x_y(cleaned)\n",
    "    return training_model(X_train,y_train,vectorizer)\n",
    "\n",
    "def train_val_scores(x, y_val, trained_model): \n",
    "    y_val_pred=trained_model.predict(x) #transform depending on which type of function you are talking about\n",
    "    return precision_score(y_val,y_val_pred,average = \"weighted\"),recall_score(y_val,y_val_pred,average = \"weighted\")\n",
    "\n",
    "def label_propagation(threshold,y_prob, cleaned_unlabelled, label):\n",
    "    cleaned_unlabelled[label]=np.where(y_prob[:,1] > threshold,1, -1) #label does not need to be converted into a string\n",
    "    cleaned_unlabelled[\"not_\" + str(label)]=np.where(y_prob[:,0] > threshold,0,-1) # need to do str(label) because you need to sum a string with a number\n",
    "    cleaned_unlabelled[label] = cleaned_unlabelled.apply(lambda x: np.max([x[label], x[\"not_\" + str(label)]]), axis = 1)\n",
    "    return cleaned_unlabelled.drop([\"not_\" + str(label)], axis = 1) \n",
    "\n",
    "def pseudo_label_creation(threshold, trained_model, cleaned_unlabelled):\n",
    "    X_unlabelled = cleaned_unlabelled['comment_text_cleaned']\n",
    "    y_prob = trained_model.predict_proba(X_unlabelled)\n",
    "    for i in range(len(y_prob)):\n",
    "        cleaned_unlabelled = label_propagation(threshold, y_prob[i],cleaned_unlabelled, i)\n",
    "    #print(cleaned_unlabelled.columns)\n",
    "    pseudo_label_df = cleaned_unlabelled[(cleaned_unlabelled[0] > -1) & \n",
    "                                        (cleaned_unlabelled[1] > -1) &\n",
    "                                        (cleaned_unlabelled[2] > -1) & \n",
    "                                        (cleaned_unlabelled[3] > -1) &\n",
    "                                        (cleaned_unlabelled[4] > -1) & \n",
    "                                        (cleaned_unlabelled[5] > -1) \n",
    "                                        ]\n",
    "    remaining_unlabelled_df = cleaned_unlabelled[(cleaned_unlabelled[0] == -1) |\n",
    "                                        (cleaned_unlabelled[1] == -1) |\n",
    "                                        (cleaned_unlabelled[2] == -1) | \n",
    "                                        (cleaned_unlabelled[3] == -1) |\n",
    "                                        (cleaned_unlabelled[4] == -1) | \n",
    "                                        (cleaned_unlabelled[5] == -1) \n",
    "                                        ]\n",
    "    pseudo_label_df['target'] = pseudo_label_df.apply(lambda x:[x[0], x[1], x[2], x[3], x[4],x[5]], axis = 1)\n",
    "    remaining_unlabelled_df['target'] = remaining_unlabelled_df.apply(lambda x:[x[0], x[1], x[2], x[3], x[4],x[5]], axis = 1)\n",
    "    pseudo_label_df = pseudo_label_df.drop([0,1,2,3,4,5], axis = 1)\n",
    "    remaining_unlabelled_df = remaining_unlabelled_df.drop([0,1,2,3,4,5], axis = 1)\n",
    "    return pseudo_label_df, remaining_unlabelled_df"
   ]
  },
  {
   "cell_type": "code",
   "execution_count": 53,
   "metadata": {},
   "outputs": [],
   "source": [
    "df_precision = pd.DataFrame({})\n",
    "df_recall = pd.DataFrame({})\n",
    "df_trainingsize = pd.DataFrame({})\n",
    "thresholds = [0.6,0.7,0.8,0.85,0.9]"
   ]
  },
  {
   "cell_type": "code",
   "execution_count": null,
   "metadata": {},
   "outputs": [],
   "source": []
  },
  {
   "cell_type": "code",
   "execution_count": 54,
   "metadata": {
    "scrolled": true
   },
   "outputs": [
    {
     "name": "stdout",
     "output_type": "stream",
     "text": [
      "1000\n",
      "3525\n",
      "4525\n",
      "358\n",
      "4883\n",
      "75\n",
      "4958\n",
      "14\n",
      "4972\n",
      "8\n",
      "1000\n",
      "2909\n",
      "3909\n",
      "795\n",
      "4704\n",
      "66\n",
      "4770\n",
      "57\n",
      "4827\n",
      "59\n",
      "1000\n",
      "2445\n",
      "3445\n",
      "1081\n",
      "4526\n",
      "72\n",
      "4598\n",
      "27\n",
      "4625\n",
      "12\n",
      "1000\n",
      "2156\n",
      "3156\n",
      "1217\n",
      "4373\n",
      "92\n",
      "4465\n",
      "35\n",
      "4500\n",
      "25\n",
      "1000\n",
      "1748\n",
      "2748\n",
      "1216\n",
      "3964\n",
      "193\n",
      "4157\n",
      "92\n",
      "4249\n",
      "33\n"
     ]
    }
   ],
   "source": [
    "import warnings\n",
    "warnings.filterwarnings(\"ignore\")\n",
    "\n",
    "for threshold in thresholds:\n",
    "    size_new_labels = 51\n",
    "    cleaned = cleaning_data(df_train_labelled)\n",
    "    cleaned_val = cleaning_data(df_validation_labelled)\n",
    "    # you have to clean also the comment_text in unlabelled data\n",
    "    cleaned_unlabelled = cleaning_data(df_test_sample)\n",
    "\n",
    "    val_precision = []\n",
    "    val_recall = []\n",
    "    min_new_labels = 50\n",
    "    size_training = []\n",
    "    X_val, y_val = define_x_y(cleaned_val)\n",
    "\n",
    "    while len(val_precision) < 5:\n",
    "    #size_new_labels > min_new_labels:\n",
    "        print(len(cleaned))\n",
    "        trained_model = training_process(cleaned)\n",
    "        X_train,y_train = define_x_y(cleaned) \n",
    "        p,r = train_val_scores(X_train,y_train, trained_model)\n",
    "        p,r = train_val_scores(X_val, y_val, trained_model)\n",
    "        val_precision.append(p)\n",
    "        val_recall.append(r) \n",
    "        #the dataframes on the left are outputs of the function pseudo_label_creation \n",
    "        pseudo_label_df, cleaned_unlabelled = pseudo_label_creation(threshold,trained_model,cleaned_unlabelled)\n",
    "        #pseudo_label_df = pseudo_label_creation(trained_model,cleaned_unlabelled) \n",
    "        #print('new_pseudo_labels')\n",
    "        size_new_labels = len(pseudo_label_df)\n",
    "        print(size_new_labels)\n",
    "        size_training.append(len(cleaned))\n",
    "\n",
    "        #if size_new_labels > min_new_labels:\n",
    "        cleaned = cleaned.append(pseudo_label_df[['comment_text_cleaned', 'target']], ignore_index = True)\n",
    "    df_precision[threshold] = val_precision\n",
    "    df_recall[threshold] = val_recall\n",
    "    df_trainingsize[threshold] = size_training"
   ]
  },
  {
   "cell_type": "code",
   "execution_count": 55,
   "metadata": {},
   "outputs": [
    {
     "data": {
      "text/html": [
       "<div>\n",
       "<style scoped>\n",
       "    .dataframe tbody tr th:only-of-type {\n",
       "        vertical-align: middle;\n",
       "    }\n",
       "\n",
       "    .dataframe tbody tr th {\n",
       "        vertical-align: top;\n",
       "    }\n",
       "\n",
       "    .dataframe thead th {\n",
       "        text-align: right;\n",
       "    }\n",
       "</style>\n",
       "<table border=\"1\" class=\"dataframe\">\n",
       "  <thead>\n",
       "    <tr style=\"text-align: right;\">\n",
       "      <th></th>\n",
       "      <th>0.60</th>\n",
       "      <th>0.70</th>\n",
       "      <th>0.80</th>\n",
       "      <th>0.85</th>\n",
       "      <th>0.90</th>\n",
       "    </tr>\n",
       "  </thead>\n",
       "  <tbody>\n",
       "    <tr>\n",
       "      <th>0</th>\n",
       "      <td>0.867698</td>\n",
       "      <td>0.848782</td>\n",
       "      <td>0.856511</td>\n",
       "      <td>0.863564</td>\n",
       "      <td>0.872755</td>\n",
       "    </tr>\n",
       "    <tr>\n",
       "      <th>1</th>\n",
       "      <td>0.815753</td>\n",
       "      <td>0.815437</td>\n",
       "      <td>0.828587</td>\n",
       "      <td>0.833292</td>\n",
       "      <td>0.818509</td>\n",
       "    </tr>\n",
       "    <tr>\n",
       "      <th>2</th>\n",
       "      <td>0.790782</td>\n",
       "      <td>0.803279</td>\n",
       "      <td>0.822713</td>\n",
       "      <td>0.840655</td>\n",
       "      <td>0.816538</td>\n",
       "    </tr>\n",
       "    <tr>\n",
       "      <th>3</th>\n",
       "      <td>0.805037</td>\n",
       "      <td>0.802622</td>\n",
       "      <td>0.845769</td>\n",
       "      <td>0.831703</td>\n",
       "      <td>0.836167</td>\n",
       "    </tr>\n",
       "    <tr>\n",
       "      <th>4</th>\n",
       "      <td>0.807466</td>\n",
       "      <td>0.781288</td>\n",
       "      <td>0.824730</td>\n",
       "      <td>0.823868</td>\n",
       "      <td>0.826422</td>\n",
       "    </tr>\n",
       "  </tbody>\n",
       "</table>\n",
       "</div>"
      ],
      "text/plain": [
       "       0.60      0.70      0.80      0.85      0.90\n",
       "0  0.867698  0.848782  0.856511  0.863564  0.872755\n",
       "1  0.815753  0.815437  0.828587  0.833292  0.818509\n",
       "2  0.790782  0.803279  0.822713  0.840655  0.816538\n",
       "3  0.805037  0.802622  0.845769  0.831703  0.836167\n",
       "4  0.807466  0.781288  0.824730  0.823868  0.826422"
      ]
     },
     "execution_count": 55,
     "metadata": {},
     "output_type": "execute_result"
    }
   ],
   "source": [
    "df_precision.head()"
   ]
  },
  {
   "cell_type": "code",
   "execution_count": 56,
   "metadata": {},
   "outputs": [
    {
     "data": {
      "text/plain": [
       "<AxesSubplot:>"
      ]
     },
     "execution_count": 56,
     "metadata": {},
     "output_type": "execute_result"
    },
    {
     "data": {
      "image/png": "[encoded data removed]",
      "text/plain": [
       "<Figure size 432x288 with 1 Axes>"
      ]
     },
     "metadata": {
      "needs_background": "light"
     },
     "output_type": "display_data"
    }
   ],
   "source": [
    "df_precision.plot()"
   ]
  },
  {
   "cell_type": "code",
   "execution_count": 57,
   "metadata": {},
   "outputs": [
    {
     "data": {
      "text/html": [
       "<div>\n",
       "<style scoped>\n",
       "    .dataframe tbody tr th:only-of-type {\n",
       "        vertical-align: middle;\n",
       "    }\n",
       "\n",
       "    .dataframe tbody tr th {\n",
       "        vertical-align: top;\n",
       "    }\n",
       "\n",
       "    .dataframe thead th {\n",
       "        text-align: right;\n",
       "    }\n",
       "</style>\n",
       "<table border=\"1\" class=\"dataframe\">\n",
       "  <thead>\n",
       "    <tr style=\"text-align: right;\">\n",
       "      <th></th>\n",
       "      <th>0.60</th>\n",
       "      <th>0.70</th>\n",
       "      <th>0.80</th>\n",
       "      <th>0.85</th>\n",
       "      <th>0.90</th>\n",
       "    </tr>\n",
       "  </thead>\n",
       "  <tbody>\n",
       "    <tr>\n",
       "      <th>0</th>\n",
       "      <td>0.299180</td>\n",
       "      <td>0.319672</td>\n",
       "      <td>0.295082</td>\n",
       "      <td>0.307377</td>\n",
       "      <td>0.286885</td>\n",
       "    </tr>\n",
       "    <tr>\n",
       "      <th>1</th>\n",
       "      <td>0.299180</td>\n",
       "      <td>0.282787</td>\n",
       "      <td>0.274590</td>\n",
       "      <td>0.254098</td>\n",
       "      <td>0.262295</td>\n",
       "    </tr>\n",
       "    <tr>\n",
       "      <th>2</th>\n",
       "      <td>0.327869</td>\n",
       "      <td>0.356557</td>\n",
       "      <td>0.270492</td>\n",
       "      <td>0.286885</td>\n",
       "      <td>0.270492</td>\n",
       "    </tr>\n",
       "    <tr>\n",
       "      <th>3</th>\n",
       "      <td>0.327869</td>\n",
       "      <td>0.352459</td>\n",
       "      <td>0.315574</td>\n",
       "      <td>0.241803</td>\n",
       "      <td>0.266393</td>\n",
       "    </tr>\n",
       "    <tr>\n",
       "      <th>4</th>\n",
       "      <td>0.331967</td>\n",
       "      <td>0.381148</td>\n",
       "      <td>0.270492</td>\n",
       "      <td>0.262295</td>\n",
       "      <td>0.286885</td>\n",
       "    </tr>\n",
       "  </tbody>\n",
       "</table>\n",
       "</div>"
      ],
      "text/plain": [
       "       0.60      0.70      0.80      0.85      0.90\n",
       "0  0.299180  0.319672  0.295082  0.307377  0.286885\n",
       "1  0.299180  0.282787  0.274590  0.254098  0.262295\n",
       "2  0.327869  0.356557  0.270492  0.286885  0.270492\n",
       "3  0.327869  0.352459  0.315574  0.241803  0.266393\n",
       "4  0.331967  0.381148  0.270492  0.262295  0.286885"
      ]
     },
     "execution_count": 57,
     "metadata": {},
     "output_type": "execute_result"
    }
   ],
   "source": [
    "df_recall.head()"
   ]
  },
  {
   "cell_type": "code",
   "execution_count": 58,
   "metadata": {},
   "outputs": [
    {
     "data": {
      "text/plain": [
       "<AxesSubplot:>"
      ]
     },
     "execution_count": 58,
     "metadata": {},
     "output_type": "execute_result"
    },
    {
     "data": {
      "image/png": "[encoded data removed]",
      "text/plain": [
       "<Figure size 432x288 with 1 Axes>"
      ]
     },
     "metadata": {
      "needs_background": "light"
     },
     "output_type": "display_data"
    }
   ],
   "source": [
    "df_recall.plot()"
   ]
  },
  {
   "cell_type": "code",
   "execution_count": 59,
   "metadata": {},
   "outputs": [
    {
     "data": {
      "text/html": [
       "<div>\n",
       "<style scoped>\n",
       "    .dataframe tbody tr th:only-of-type {\n",
       "        vertical-align: middle;\n",
       "    }\n",
       "\n",
       "    .dataframe tbody tr th {\n",
       "        vertical-align: top;\n",
       "    }\n",
       "\n",
       "    .dataframe thead th {\n",
       "        text-align: right;\n",
       "    }\n",
       "</style>\n",
       "<table border=\"1\" class=\"dataframe\">\n",
       "  <thead>\n",
       "    <tr style=\"text-align: right;\">\n",
       "      <th></th>\n",
       "      <th>0.60</th>\n",
       "      <th>0.70</th>\n",
       "      <th>0.80</th>\n",
       "      <th>0.85</th>\n",
       "      <th>0.90</th>\n",
       "    </tr>\n",
       "  </thead>\n",
       "  <tbody>\n",
       "    <tr>\n",
       "      <th>0</th>\n",
       "      <td>1000</td>\n",
       "      <td>1000</td>\n",
       "      <td>1000</td>\n",
       "      <td>1000</td>\n",
       "      <td>1000</td>\n",
       "    </tr>\n",
       "    <tr>\n",
       "      <th>1</th>\n",
       "      <td>4525</td>\n",
       "      <td>3909</td>\n",
       "      <td>3445</td>\n",
       "      <td>3156</td>\n",
       "      <td>2748</td>\n",
       "    </tr>\n",
       "    <tr>\n",
       "      <th>2</th>\n",
       "      <td>4883</td>\n",
       "      <td>4704</td>\n",
       "      <td>4526</td>\n",
       "      <td>4373</td>\n",
       "      <td>3964</td>\n",
       "    </tr>\n",
       "    <tr>\n",
       "      <th>3</th>\n",
       "      <td>4958</td>\n",
       "      <td>4770</td>\n",
       "      <td>4598</td>\n",
       "      <td>4465</td>\n",
       "      <td>4157</td>\n",
       "    </tr>\n",
       "    <tr>\n",
       "      <th>4</th>\n",
       "      <td>4972</td>\n",
       "      <td>4827</td>\n",
       "      <td>4625</td>\n",
       "      <td>4500</td>\n",
       "      <td>4249</td>\n",
       "    </tr>\n",
       "  </tbody>\n",
       "</table>\n",
       "</div>"
      ],
      "text/plain": [
       "   0.60  0.70  0.80  0.85  0.90\n",
       "0  1000  1000  1000  1000  1000\n",
       "1  4525  3909  3445  3156  2748\n",
       "2  4883  4704  4526  4373  3964\n",
       "3  4958  4770  4598  4465  4157\n",
       "4  4972  4827  4625  4500  4249"
      ]
     },
     "execution_count": 59,
     "metadata": {},
     "output_type": "execute_result"
    }
   ],
   "source": [
    "df_trainingsize.head()"
   ]
  },
  {
   "cell_type": "code",
   "execution_count": 60,
   "metadata": {},
   "outputs": [
    {
     "data": {
      "text/plain": [
       "<AxesSubplot:>"
      ]
     },
     "execution_count": 60,
     "metadata": {},
     "output_type": "execute_result"
    },
    {
     "data": {
      "image/png": "[encoded data removed]",
      "text/plain": [
       "<Figure size 432x288 with 1 Axes>"
      ]
     },
     "metadata": {
      "needs_background": "light"
     },
     "output_type": "display_data"
    }
   ],
   "source": [
    "df_trainingsize.plot()"
   ]
  },
  {
   "cell_type": "code",
   "execution_count": null,
   "metadata": {},
   "outputs": [],
   "source": [
    "#by decreasing threshold, increase recall\n",
    "#small dataset, so limited"
   ]
  },
  {
   "cell_type": "code",
   "execution_count": null,
   "metadata": {},
   "outputs": [],
   "source": [
    "plt.plot(val_precision, label = 'precision')\n",
    "plt.plot(val_recall, label = 'recall')\n",
    "plt.legend()"
   ]
  },
  {
   "cell_type": "code",
   "execution_count": null,
   "metadata": {
    "scrolled": true
   },
   "outputs": [],
   "source": [
    "plt.plot(size_training, val_precision, marker='s', markersize = 10)\n",
    "plt.xlabel('training_size')\n",
    "plt.ylabel('Precision')"
   ]
  },
  {
   "cell_type": "code",
   "execution_count": null,
   "metadata": {},
   "outputs": [],
   "source": [
    "#precision went down because you are adding training set data (size), but not quality of training set."
   ]
  },
  {
   "cell_type": "code",
   "execution_count": null,
   "metadata": {
    "scrolled": true
   },
   "outputs": [],
   "source": [
    "plt.plot(size_training, val_recall, marker='s', markersize = 10)\n",
    "plt.xlabel('training_size')\n",
    "plt.ylabel('Recall')"
   ]
  },
  {
   "cell_type": "raw",
   "metadata": {},
   "source": [
    "1. Show improvement on validation scores\n",
    "2. Show with images/tables\n",
    "3. In this case, show the increment from 1000 labels to 4506 labels"
   ]
  },
  {
   "cell_type": "markdown",
   "metadata": {},
   "source": [
    "# Trying hyperparam tuning"
   ]
  },
  {
   "cell_type": "code",
   "execution_count": 29,
   "metadata": {},
   "outputs": [],
   "source": [
    "#Gridsearch CV for hyperparameter tuning\n",
    "# no need for scaler = StandardScaler() as we are alr using selectK"
   ]
  },
  {
   "cell_type": "code",
   "execution_count": 30,
   "metadata": {},
   "outputs": [],
   "source": [
    "from sklearn.model_selection import GridSearchCV\n",
    "from sklearn.neighbors import KNeighborsClassifier\n",
    "from sklearn.pipeline import Pipeline\n",
    "from sklearn.preprocessing import MinMaxScaler"
   ]
  },
  {
   "cell_type": "code",
   "execution_count": 31,
   "metadata": {},
   "outputs": [],
   "source": [
    "def grid_search_model(X_train,y_train,vectorizer): \n",
    "    pipeline = Pipeline([('vect', vectorizer),\n",
    "                         ('chi',  SelectKBest(chi2)),\n",
    "                         ('clf', RandomForestClassifier())])\n",
    "    param_grid = {\n",
    "    \"chi__k\": [400, 800, 1200, 1600],\n",
    "    \"clf__max_depth\": [50, 100],}\n",
    "    search = GridSearchCV(pipeline, param_grid,cv= 5, n_jobs=2)\n",
    "    model = search.fit(X_train, y_train)\n",
    "    return model\n",
    "    \n",
    "#training model only fit the model once\n",
    "#training 40 models, 4x2x5 (5 for the folds)\n"
   ]
  },
  {
   "cell_type": "code",
   "execution_count": 32,
   "metadata": {},
   "outputs": [],
   "source": [
    "def training_process_grid_search(cleaned):\n",
    "    vectorized = vectorized_data(cleaned)\n",
    "    vectorizer = vectorized\n",
    "    X_train, y_train = define_x_y(cleaned)\n",
    "    return grid_search_model(X_train,y_train,vectorizer)"
   ]
  },
  {
   "cell_type": "code",
   "execution_count": 36,
   "metadata": {
    "scrolled": true
   },
   "outputs": [
    {
     "name": "stdout",
     "output_type": "stream",
     "text": [
      "1000\n",
      "Best parameter (CV score=0.897):\n",
      "{'chi__k': 1200, 'clf__max_depth': 50}\n",
      "3046\n",
      "4046\n",
      "Best parameter (CV score=0.973):\n",
      "{'chi__k': 1200, 'clf__max_depth': 50}\n",
      "427\n",
      "4473\n",
      "Best parameter (CV score=0.976):\n",
      "{'chi__k': 800, 'clf__max_depth': 50}\n",
      "68\n",
      "4541\n",
      "Best parameter (CV score=0.976):\n",
      "{'chi__k': 400, 'clf__max_depth': 50}\n",
      "38\n"
     ]
    }
   ],
   "source": [
    "import warnings\n",
    "warnings.filterwarnings(\"ignore\")\n",
    "\n",
    "size_new_labels = 51\n",
    "\n",
    "cleaned = cleaning_data(df_train_labelled)\n",
    "cleaned_val = cleaning_data(df_validation_labelled)\n",
    "# you have to clean also the comment_text in unlabelled data\n",
    "cleaned_unlabelled = cleaning_data(df_test_sample)\n",
    "\n",
    "val_precision = []\n",
    "val_recall = []\n",
    "min_new_labels = 50\n",
    "size_training = []\n",
    "X_val, y_val = define_x_y(cleaned_val)\n",
    "\n",
    "while size_new_labels > min_new_labels:\n",
    "    print(len(cleaned))\n",
    "    trained_model = training_process_grid_search(cleaned)\n",
    "    print(\"Best parameter (CV score=%0.3f):\" % trained_model.best_score_)\n",
    "    print(trained_model.best_params_)\n",
    "    X_train,y_train = define_x_y(cleaned) \n",
    "    p,r = train_val_scores(X_train,y_train, trained_model)\n",
    "    p,r = train_val_scores(X_val, y_val, trained_model)\n",
    "    val_precision.append(p)\n",
    "    val_recall.append(r)\n",
    "    #the dataframes on the left are outputs of the function pseudo_label_creation \n",
    "    pseudo_label_df, cleaned_unlabelled = pseudo_label_creation(trained_model,cleaned_unlabelled)\n",
    "    #print('new_pseudo_labels')\n",
    "    size_new_labels = len(pseudo_label_df)\n",
    "    print(size_new_labels)\n",
    "    size_training.append(len(cleaned))\n",
    "    if size_new_labels > min_new_labels:\n",
    "        cleaned = cleaned.append(pseudo_label_df[['comment_text_cleaned', 'target']], ignore_index = True)"
   ]
  },
  {
   "cell_type": "code",
   "execution_count": 37,
   "metadata": {},
   "outputs": [
    {
     "data": {
      "text/plain": [
       "<matplotlib.legend.Legend at 0x23f561ce280>"
      ]
     },
     "execution_count": 37,
     "metadata": {},
     "output_type": "execute_result"
    },
    {
     "data": {
      "image/png": "[encoded data removed]",
      "text/plain": [
       "<Figure size 432x288 with 1 Axes>"
      ]
     },
     "metadata": {
      "needs_background": "light"
     },
     "output_type": "display_data"
    }
   ],
   "source": [
    "plt.plot(val_precision, label = 'precision')\n",
    "plt.plot(val_recall, label = 'recall')\n",
    "plt.legend()"
   ]
  },
  {
   "cell_type": "code",
   "execution_count": 38,
   "metadata": {
    "scrolled": true
   },
   "outputs": [
    {
     "data": {
      "text/plain": [
       "Text(0, 0.5, 'Precision')"
      ]
     },
     "execution_count": 38,
     "metadata": {},
     "output_type": "execute_result"
    },
    {
     "data": {
      "image/png": "[encoded data removed]",
      "text/plain": [
       "<Figure size 432x288 with 1 Axes>"
      ]
     },
     "metadata": {
      "needs_background": "light"
     },
     "output_type": "display_data"
    }
   ],
   "source": [
    "plt.plot(size_training, val_precision, marker='s', markersize = 10)\n",
    "plt.xlabel('training_size')\n",
    "plt.ylabel('Precision')"
   ]
  },
  {
   "cell_type": "code",
   "execution_count": 39,
   "metadata": {},
   "outputs": [],
   "source": [
    "#precision went down because you are adding training set data (size), but not quality of training set."
   ]
  },
  {
   "cell_type": "code",
   "execution_count": 40,
   "metadata": {
    "scrolled": false
   },
   "outputs": [
    {
     "data": {
      "text/plain": [
       "Text(0, 0.5, 'Recall')"
      ]
     },
     "execution_count": 40,
     "metadata": {},
     "output_type": "execute_result"
    },
    {
     "data": {
      "image/png": "[encoded data removed]",
      "text/plain": [
       "<Figure size 432x288 with 1 Axes>"
      ]
     },
     "metadata": {
      "needs_background": "light"
     },
     "output_type": "display_data"
    }
   ],
   "source": [
    "plt.plot(size_training, val_recall, marker='s', markersize = 10)\n",
    "plt.xlabel('training_size')\n",
    "plt.ylabel('Recall')"
   ]
  },
  {
   "cell_type": "code",
   "execution_count": null,
   "metadata": {},
   "outputs": [],
   "source": []
  }
 ],
 "metadata": {
  "kernelspec": {
   "display_name": "Python 3",
   "language": "python",
   "name": "python3"
  },
  "language_info": {
   "codemirror_mode": {
    "name": "ipython",
    "version": 3
   },
   "file_extension": ".py",
   "mimetype": "text/x-python",
   "name": "python",
   "nbconvert_exporter": "python",
   "pygments_lexer": "ipython3",
   "version": "3.8.5"
  }
 },
 "nbformat": 4,
 "nbformat_minor": 4
}
